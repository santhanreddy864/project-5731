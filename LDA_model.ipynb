{
 "cells": [
  {
   "cell_type": "markdown",
   "metadata": {},
   "source": [
    "# Import Libraries"
   ]
  },
  {
   "cell_type": "code",
   "execution_count": 1,
   "metadata": {},
   "outputs": [],
   "source": [
    "import re\n",
    "import os\n",
    "import io\n",
    "import spacy\n",
    "import string\n",
    "import numpy as np\n",
    "import pandas as pd\n",
    "\n",
    "# Gensim\n",
    "import gensim\n",
    "from gensim import models\n",
    "import gensim.corpora as corpora\n",
    "from gensim.models import Phrases\n",
    "from gensim.utils import simple_preprocess\n",
    "from gensim.models import CoherenceModel\n",
    "import warnings\n",
    "warnings.filterwarnings('ignore')\n"
   ]
  },
  {
   "cell_type": "code",
   "execution_count": null,
   "metadata": {},
   "outputs": [],
   "source": []
  },
  {
   "cell_type": "markdown",
   "metadata": {},
   "source": [
    "# Read and Prepare Dataset"
   ]
  },
  {
   "cell_type": "code",
   "execution_count": 2,
   "metadata": {},
   "outputs": [
    {
     "data": {
      "text/plain": [
       "(126250, 7)"
      ]
     },
     "execution_count": 2,
     "metadata": {},
     "output_type": "execute_result"
    }
   ],
   "source": [
    "dataset = pd.read_csv(\"processedcovidvaccinereact.csv\", index_col=0)\n",
    "dataset.shape"
   ]
  },
  {
   "cell_type": "code",
   "execution_count": 3,
   "metadata": {},
   "outputs": [
    {
     "data": {
      "text/plain": [
       "(125829, 7)"
      ]
     },
     "execution_count": 3,
     "metadata": {},
     "output_type": "execute_result"
    }
   ],
   "source": [
    "dataset = dataset.dropna() # drop null values\n",
    "dataset.shape"
   ]
  },
  {
   "cell_type": "code",
   "execution_count": 4,
   "metadata": {},
   "outputs": [
    {
     "data": {
      "text/html": [
       "<div>\n",
       "<style scoped>\n",
       "    .dataframe tbody tr th:only-of-type {\n",
       "        vertical-align: middle;\n",
       "    }\n",
       "\n",
       "    .dataframe tbody tr th {\n",
       "        vertical-align: top;\n",
       "    }\n",
       "\n",
       "    .dataframe thead th {\n",
       "        text-align: right;\n",
       "    }\n",
       "</style>\n",
       "<table border=\"1\" class=\"dataframe\">\n",
       "  <thead>\n",
       "    <tr style=\"text-align: right;\">\n",
       "      <th></th>\n",
       "      <th>TweetDate</th>\n",
       "      <th>TweetText</th>\n",
       "      <th>CleanedTweet</th>\n",
       "      <th>TweetAuthor</th>\n",
       "      <th>TweetLocation</th>\n",
       "      <th>AllHashtags</th>\n",
       "      <th>Country</th>\n",
       "    </tr>\n",
       "  </thead>\n",
       "  <tbody>\n",
       "    <tr>\n",
       "      <th>0</th>\n",
       "      <td>2021-03-17 23:59:34</td>\n",
       "      <td>The only way #COVID19 can mutate with variants...</td>\n",
       "      <td>onli way mutat variant viru replic host peopl ...</td>\n",
       "      <td>kemsunde</td>\n",
       "      <td>Unknown</td>\n",
       "      <td>['COVID19', 'CovidVaccine', 'GetTheFactsGetThe...</td>\n",
       "      <td>Unknown</td>\n",
       "    </tr>\n",
       "    <tr>\n",
       "      <th>1</th>\n",
       "      <td>2021-03-17 23:59:20</td>\n",
       "      <td>I've now officially had my 1st dose of the #Co...</td>\n",
       "      <td>ive offici dose covidvaccin definit worth driv...</td>\n",
       "      <td>ManeckiN</td>\n",
       "      <td>The Wild Western Wastes</td>\n",
       "      <td>['CovidVaccine', 'COVID19', 'PfizerVaccine', '...</td>\n",
       "      <td>Unknown</td>\n",
       "    </tr>\n",
       "    <tr>\n",
       "      <th>2</th>\n",
       "      <td>2021-03-17 23:58:31</td>\n",
       "      <td>@hendopolis Imagine if the #Brexit referendum ...</td>\n",
       "      <td>hendopoli imagin brexit referendum held secret...</td>\n",
       "      <td>raymasseytweets</td>\n",
       "      <td>England</td>\n",
       "      <td>['Brexit', 'EU', 'TrueColours', 'Impfstoff', '...</td>\n",
       "      <td>United Kingdom</td>\n",
       "    </tr>\n",
       "    <tr>\n",
       "      <th>3</th>\n",
       "      <td>2021-03-17 23:58:03</td>\n",
       "      <td>@EICostheta @RicBarraArch1 @insiders Yep. The ...</td>\n",
       "      <td>eicostheta insid yep liarsnparasit veri narrow...</td>\n",
       "      <td>MikeFitzAU</td>\n",
       "      <td>Mudjimba</td>\n",
       "      <td>['LiarsNParasites', 'CovidVaccine']</td>\n",
       "      <td>Australia</td>\n",
       "    </tr>\n",
       "    <tr>\n",
       "      <th>4</th>\n",
       "      <td>2021-03-17 23:57:37</td>\n",
       "      <td>This sounds like an important topic for @NickS...</td>\n",
       "      <td>thi sound like import topic nicksawyermd tnich...</td>\n",
       "      <td>stephjantzen</td>\n",
       "      <td>Greater Sacramento</td>\n",
       "      <td>['FiresideChat', 'CovidVaccine']</td>\n",
       "      <td>Brazil</td>\n",
       "    </tr>\n",
       "  </tbody>\n",
       "</table>\n",
       "</div>"
      ],
      "text/plain": [
       "             TweetDate                                          TweetText  \\\n",
       "0  2021-03-17 23:59:34  The only way #COVID19 can mutate with variants...   \n",
       "1  2021-03-17 23:59:20  I've now officially had my 1st dose of the #Co...   \n",
       "2  2021-03-17 23:58:31  @hendopolis Imagine if the #Brexit referendum ...   \n",
       "3  2021-03-17 23:58:03  @EICostheta @RicBarraArch1 @insiders Yep. The ...   \n",
       "4  2021-03-17 23:57:37  This sounds like an important topic for @NickS...   \n",
       "\n",
       "                                        CleanedTweet      TweetAuthor  \\\n",
       "0  onli way mutat variant viru replic host peopl ...         kemsunde   \n",
       "1  ive offici dose covidvaccin definit worth driv...         ManeckiN   \n",
       "2  hendopoli imagin brexit referendum held secret...  raymasseytweets   \n",
       "3  eicostheta insid yep liarsnparasit veri narrow...       MikeFitzAU   \n",
       "4  thi sound like import topic nicksawyermd tnich...     stephjantzen   \n",
       "\n",
       "             TweetLocation                                        AllHashtags  \\\n",
       "0                  Unknown  ['COVID19', 'CovidVaccine', 'GetTheFactsGetThe...   \n",
       "1  The Wild Western Wastes  ['CovidVaccine', 'COVID19', 'PfizerVaccine', '...   \n",
       "2                  England  ['Brexit', 'EU', 'TrueColours', 'Impfstoff', '...   \n",
       "3                 Mudjimba                ['LiarsNParasites', 'CovidVaccine']   \n",
       "4       Greater Sacramento                   ['FiresideChat', 'CovidVaccine']   \n",
       "\n",
       "          Country  \n",
       "0         Unknown  \n",
       "1         Unknown  \n",
       "2  United Kingdom  \n",
       "3       Australia  \n",
       "4          Brazil  "
      ]
     },
     "execution_count": 4,
     "metadata": {},
     "output_type": "execute_result"
    }
   ],
   "source": [
    "dataset.head(5)"
   ]
  },
  {
   "cell_type": "code",
   "execution_count": 5,
   "metadata": {},
   "outputs": [],
   "source": [
    "text_data = dataset[\"CleanedTweet\"]  # select cleaned tweets column\n",
    "#text_data = text_data[:100]"
   ]
  },
  {
   "cell_type": "code",
   "execution_count": 6,
   "metadata": {},
   "outputs": [],
   "source": [
    "text_data =  [text.split() for text in text_data]  # tokenize dataset"
   ]
  },
  {
   "cell_type": "markdown",
   "metadata": {},
   "source": [
    "### Make Bigrams for LDA Model"
   ]
  },
  {
   "cell_type": "code",
   "execution_count": 7,
   "metadata": {},
   "outputs": [],
   "source": [
    "# Build the bigram models\n",
    "bigram = gensim.models.Phrases(text_data, min_count=5, threshold=100) # higher threshold fewer phrases.\n",
    "\n",
    "# Faster way to get a sentence clubbed as a bigram\n",
    "bigram_mod = gensim.models.phrases.Phraser(bigram)\n",
    "\n",
    "text_data = [bigram_mod[doc] for doc in text_data]"
   ]
  },
  {
   "cell_type": "markdown",
   "metadata": {},
   "source": [
    "# Build Dictionary"
   ]
  },
  {
   "cell_type": "code",
   "execution_count": 8,
   "metadata": {},
   "outputs": [],
   "source": [
    "# make dictionary of complete corpus\n",
    "dictionary_LDA = corpora.Dictionary(text_data)\n",
    "# filter tokens below frequency of 3 words\n",
    "dictionary_LDA.filter_extremes(no_below=3)\n",
    "# index to words \n",
    "corpus = [dictionary_LDA.doc2bow(tok) for tok in text_data]"
   ]
  },
  {
   "cell_type": "markdown",
   "metadata": {},
   "source": [
    "# Build LDA Model\n",
    "# Compute Coherence and Preplexity\n",
    "# Choose optimal number of topics"
   ]
  },
  {
   "cell_type": "code",
   "execution_count": 9,
   "metadata": {},
   "outputs": [],
   "source": [
    "def compute_coherence_values(dictionary, corpus, texts, limit, start=2, step=3):\n",
    "    \n",
    "    topics_list = [10, 15, 20]\n",
    "    coherence_values = []\n",
    "    perplexity_val = []\n",
    "    model_list = []\n",
    "    for num_topics in topics_list:\n",
    "        model = models.LdaModel(corpus, num_topics=num_topics, id2word=dictionary_LDA, passes=4, alpha=0.05, eta=[0.01]*len(dictionary_LDA.keys()))\n",
    "        model_list.append(model)\n",
    "        coherencemodel = CoherenceModel(model=model, texts=text_data, dictionary=dictionary_LDA, coherence='c_v')\n",
    "        coherence_values.append(coherencemodel.get_coherence())\n",
    "        perplexity_val.append(model.log_perplexity(corpus))\n",
    "\n",
    "    return model_list, coherence_values, perplexity_val"
   ]
  },
  {
   "cell_type": "code",
   "execution_count": null,
   "metadata": {},
   "outputs": [],
   "source": []
  },
  {
   "cell_type": "markdown",
   "metadata": {},
   "source": [
    "# Train LDA Model"
   ]
  },
  {
   "cell_type": "code",
   "execution_count": 10,
   "metadata": {},
   "outputs": [],
   "source": [
    "# Can take a long time to run.\n",
    "model_list, coherence_values, perplexity_val = compute_coherence_values(dictionary=dictionary_LDA, corpus=corpus, texts=text_data, start=2, limit=40, step=6)"
   ]
  },
  {
   "cell_type": "markdown",
   "metadata": {},
   "source": [
    "# Plot Coherence Scores"
   ]
  },
  {
   "cell_type": "code",
   "execution_count": 11,
   "metadata": {},
   "outputs": [
    {
     "data": {
      "image/png": "[encoded data removed]",
      "text/plain": [
       "<Figure size 432x288 with 1 Axes>"
      ]
     },
     "metadata": {
      "needs_background": "light"
     },
     "output_type": "display_data"
    }
   ],
   "source": [
    "# Show graph\n",
    "import matplotlib.pyplot as plt\n",
    "\n",
    "topics_list = [10,15,20]\n",
    "plt.plot(topics_list, coherence_values)\n",
    "plt.xlabel(\"Num Topics\")\n",
    "plt.ylabel(\"Coherence score\")\n",
    "plt.legend((\"coherence_values\"), loc='best')\n",
    "plt.show()"
   ]
  },
  {
   "cell_type": "markdown",
   "metadata": {},
   "source": [
    "# Plot Perplexity Scores"
   ]
  },
  {
   "cell_type": "code",
   "execution_count": 12,
   "metadata": {},
   "outputs": [
    {
     "data": {
      "image/png": "[encoded data removed]",
      "text/plain": [
       "<Figure size 432x288 with 1 Axes>"
      ]
     },
     "metadata": {
      "needs_background": "light"
     },
     "output_type": "display_data"
    }
   ],
   "source": [
    "# Show graph\n",
    "import matplotlib.pyplot as plt\n",
    "\n",
    "topics_list = [10,15,20]\n",
    "plt.plot(topics_list, perplexity_val)\n",
    "plt.xlabel(\"Num Topics\")\n",
    "plt.ylabel(\"Perplexity score\")\n",
    "plt.legend((\"perplexity_values\"), loc='best')\n",
    "plt.show()"
   ]
  },
  {
   "cell_type": "markdown",
   "metadata": {},
   "source": [
    "### Display Results"
   ]
  },
  {
   "cell_type": "code",
   "execution_count": 13,
   "metadata": {},
   "outputs": [
    {
     "name": "stdout",
     "output_type": "stream",
     "text": [
      "Num Topics = 10  has Coherence Value of 0.3917  has Perplexity of -32.1264\n",
      "Num Topics = 15  has Coherence Value of 0.396  has Perplexity of -32.1575\n",
      "Num Topics = 20  has Coherence Value of 0.413  has Perplexity of -32.1118\n"
     ]
    }
   ],
   "source": [
    "# Print the coherence scores\n",
    "topics_list = [10,15,20]\n",
    "for m, cv, pr in zip(topics_list, coherence_values, perplexity_val):\n",
    "    print(\"Num Topics =\", m, \" has Coherence Value of\", round(cv, 4), \" has Perplexity of\", round(pr, 4))"
   ]
  },
  {
   "cell_type": "markdown",
   "metadata": {},
   "source": [
    "## Train Model with Best number of topics"
   ]
  },
  {
   "cell_type": "code",
   "execution_count": 14,
   "metadata": {},
   "outputs": [],
   "source": [
    "best_topic_number = 15\n",
    "best_model = models.LdaModel(corpus, num_topics=best_topic_number, id2word=dictionary_LDA, passes=4, alpha=0.05, eta=[0.01]*len(dictionary_LDA.keys()))\n",
    "        "
   ]
  },
  {
   "cell_type": "code",
   "execution_count": 15,
   "metadata": {},
   "outputs": [
    {
     "name": "stdout",
     "output_type": "stream",
     "text": [
      "Num Topics = 15  has Coherence Value of 0.4332  has Perplexity of -32.117\n"
     ]
    }
   ],
   "source": [
    "coherencemodel = CoherenceModel(model=best_model, texts=text_data, dictionary=dictionary_LDA, coherence='c_v')\n",
    "coherence_score = coherencemodel.get_coherence()\n",
    "perplexity_score = best_model.log_perplexity(corpus)\n",
    "print(\"Num Topics =\", best_topic_number, \" has Coherence Value of\", round(coherence_score, 4), \" has Perplexity of\", round(perplexity_score, 4))\n",
    "        "
   ]
  },
  {
   "cell_type": "code",
   "execution_count": 16,
   "metadata": {},
   "outputs": [
    {
     "name": "stdout",
     "output_type": "stream",
     "text": [
      "0: 0.036*\"covidvaccin\" + 0.030*\"uk\" + 0.027*\"thi\" + 0.025*\"vaccin\" + 0.022*\"whi\" + 0.020*\"say\" + 0.018*\"peopl\" + 0.017*\"wa\" + 0.016*\"think\" + 0.016*\"immun\" + 0.015*\"eu\" + 0.014*\"like\" + 0.014*\"come\" + 0.012*\"onli\" + 0.012*\"work\" + 0.012*\"covid\" + 0.011*\"one\" + 0.011*\"could\" + 0.010*\"want\" + 0.010*\"respons\"\n",
      "\n",
      "1: 0.121*\"ha\" + 0.090*\"covidvaccin\" + 0.066*\"vaccin\" + 0.035*\"countri\" + 0.033*\"india\" + 0.027*\"million\" + 0.027*\"new\" + 0.026*\"administ\" + 0.022*\"case\" + 0.020*\"report\" + 0.017*\"rollout\" + 0.017*\"given\" + 0.016*\"export\" + 0.015*\"state\" + 0.015*\"total\" + 0.013*\"ani\" + 0.012*\"suppli\" + 0.012*\"popul\" + 0.012*\"ontario\" + 0.010*\"develop\"\n",
      "\n",
      "2: 0.058*\"vaccin\" + 0.054*\"provid\" + 0.048*\"covidvaccin\" + 0.026*\"thi\" + 0.016*\"pakistan\" + 0.014*\"import\" + 0.014*\"watch\" + 0.013*\"clinic\" + 0.013*\"spread\" + 0.012*\"public\" + 0.011*\"health\" + 0.011*\"visit\" + 0.011*\"talk\" + 0.011*\"member\" + 0.011*\"help\" + 0.010*\"video\" + 0.010*\"learn\" + 0.010*\"mass\" + 0.010*\"covid\" + 0.009*\"make\"\n",
      "\n",
      "3: 0.060*\"share\" + 0.058*\"covidvaccin\" + 0.052*\"question\" + 0.052*\"nh\" + 0.052*\"would\" + 0.047*\"fals_inform\" + 0.045*\"check\" + 0.043*\"befor\" + 0.036*\"ask\" + 0.027*\"inform\" + 0.026*\"find\" + 0.023*\"info\" + 0.021*\"answer\" + 0.021*\"vaccin\" + 0.019*\"doe\" + 0.017*\"danger\" + 0.017*\"stop\" + 0.016*\"misinform\" + 0.014*\"experi\" + 0.013*\"leader\"\n",
      "\n",
      "4: 0.103*\"amp\" + 0.059*\"vaccin\" + 0.051*\"protect\" + 0.036*\"famili\" + 0.030*\"get\" + 0.028*\"help\" + 0.026*\"friend\" + 0.025*\"around\" + 0.024*\"folk\" + 0.023*\"world\" + 0.021*\"dr\" + 0.020*\"commun\" + 0.018*\"join\" + 0.017*\"senior\" + 0.016*\"peopl\" + 0.015*\"offici\" + 0.014*\"citizen\" + 0.014*\"v\" + 0.013*\"across\" + 0.012*\"u\"\n",
      "\n",
      "5: 0.044*\"covidvaccin\" + 0.033*\"well\" + 0.026*\"care\" + 0.025*\"amp\" + 0.025*\"team\" + 0.022*\"covid\" + 0.022*\"vaccin\" + 0.021*\"risk\" + 0.020*\"follow\" + 0.019*\"home\" + 0.018*\"even\" + 0.017*\"live\" + 0.016*\"need\" + 0.014*\"continu\" + 0.014*\"rate\" + 0.012*\"must\" + 0.012*\"stay\" + 0.011*\"mrna\" + 0.011*\"still\" + 0.010*\"enough\"\n",
      "\n",
      "6: 0.110*\"vaccin\" + 0.060*\"first\" + 0.059*\"covidvaccin\" + 0.054*\"got\" + 0.053*\"dose\" + 0.043*\"today\" + 0.041*\"shot\" + 0.040*\"hi\" + 0.035*\"one\" + 0.023*\"jab\" + 0.019*\"second\" + 0.018*\"receiv\" + 0.018*\"done\" + 0.017*\"pfizer\" + 0.017*\"covid\" + 0.017*\"get\" + 0.016*\"wa\" + 0.015*\"day\" + 0.014*\"thank\" + 0.013*\"yesterday\"\n",
      "\n",
      "7: 0.070*\"one\" + 0.041*\"covidvaccin\" + 0.039*\"pandem\" + 0.038*\"end\" + 0.035*\"patient\" + 0.024*\"health\" + 0.022*\"time\" + 0.018*\"medic\" + 0.018*\"treat\" + 0.016*\"doctor\" + 0.016*\"job\" + 0.016*\"condit\" + 0.015*\"go\" + 0.014*\"le\" + 0.013*\"least\" + 0.013*\"told\" + 0.012*\"offic\" + 0.012*\"huge\" + 0.012*\"onli\" + 0.011*\"give\"\n",
      "\n",
      "8: 0.097*\"vaccin\" + 0.092*\"get\" + 0.039*\"covidvaccin\" + 0.034*\"go\" + 0.031*\"im\" + 0.026*\"like\" + 0.020*\"peopl\" + 0.019*\"still\" + 0.017*\"wait\" + 0.016*\"feel\" + 0.014*\"covid\" + 0.014*\"cant\" + 0.012*\"know\" + 0.011*\"look\" + 0.011*\"ani\" + 0.010*\"side_effect\" + 0.010*\"fulli\" + 0.009*\"dont\" + 0.009*\"back\" + 0.009*\"thi\"\n",
      "\n",
      "9: 0.067*\"covidvaccin\" + 0.064*\"appoint\" + 0.059*\"elig\" + 0.046*\"vaccin\" + 0.046*\"book\" + 0.044*\"get\" + 0.037*\"age\" + 0.032*\"avail\" + 0.032*\"start\" + 0.032*\"march\" + 0.030*\"call\" + 0.023*\"peopl\" + 0.022*\"pleas\" + 0.022*\"april\" + 0.021*\"open\" + 0.018*\"receiv\" + 0.018*\"abov\" + 0.017*\"centr\" + 0.016*\"today\" + 0.016*\"everyon\"\n",
      "\n",
      "10: 0.060*\"vaccin\" + 0.057*\"thank\" + 0.036*\"covidvaccin\" + 0.035*\"amp\" + 0.026*\"thi\" + 0.024*\"work\" + 0.018*\"part\" + 0.018*\"made\" + 0.017*\"staff\" + 0.017*\"volunt\" + 0.015*\"make\" + 0.014*\"mani\" + 0.013*\"everyon\" + 0.013*\"amaz\" + 0.012*\"keep\" + 0.012*\"today\" + 0.012*\"get\" + 0.011*\"help\" + 0.011*\"veri\" + 0.011*\"worker\"\n",
      "\n",
      "11: 0.149*\"vaccin\" + 0.106*\"year\" + 0.076*\"fuck\" + 0.042*\"week\" + 0.037*\"area_hardest\" + 0.030*\"thi\" + 0.018*\"last\" + 0.017*\"two\" + 0.016*\"next\" + 0.014*\"day\" + 0.011*\"month\" + 0.011*\"cant_believ\" + 0.010*\"way\" + 0.010*\"covidvaccin\" + 0.009*\"old\" + 0.009*\"posit\" + 0.009*\"monday\" + 0.009*\"amp\" + 0.008*\"ago\" + 0.008*\"time\"\n",
      "\n",
      "12: 0.098*\"covidvaccin\" + 0.046*\"show\" + 0.030*\"amp\" + 0.029*\"day\" + 0.028*\"updat\" + 0.020*\"tri\" + 0.018*\"time\" + 0.017*\"johnson\" + 0.016*\"site\" + 0.016*\"slot_ca\" + 0.015*\"wa\" + 0.014*\"cv_locat\" + 0.013*\"pharmaci\" + 0.013*\"record\" + 0.013*\"hour\" + 0.012*\"dure\" + 0.012*\"post\" + 0.011*\"efficaci\" + 0.010*\"expect\" + 0.009*\"whole\"\n",
      "\n",
      "13: 0.160*\"vaccin\" + 0.095*\"astrazeneca\" + 0.066*\"coronaviru\" + 0.056*\"covidvaccin\" + 0.050*\"covid\" + 0.031*\"effect\" + 0.028*\"safe\" + 0.027*\"blood_clot\" + 0.018*\"corona\" + 0.017*\"pandem\" + 0.015*\"vaccineswork\" + 0.013*\"toronto\" + 0.012*\"astrazenecavaccin\" + 0.012*\"great\" + 0.012*\"u\" + 0.011*\"stori\" + 0.011*\"hospit\" + 0.010*\"trial\" + 0.010*\"announc\" + 0.009*\"europ\"\n",
      "\n",
      "14: 0.108*\"thi\" + 0.077*\"take\" + 0.057*\"u\" + 0.027*\"know\" + 0.027*\"vaccin\" + 0.024*\"covidvaccin\" + 0.022*\"plan\" + 0.022*\"becaus\" + 0.021*\"dont\" + 0.021*\"need\" + 0.020*\"get\" + 0.018*\"want\" + 0.018*\"let\" + 0.017*\"anyon\" + 0.016*\"drericd\" + 0.016*\"peopl\" + 0.015*\"mani\" + 0.012*\"life\" + 0.011*\"free\" + 0.011*\"play\"\n",
      "\n"
     ]
    }
   ],
   "source": [
    "# display all topics with weight of all keywords\n",
    "for i,topic in best_model.show_topics(formatted=True, num_topics=best_topic_number, num_words=20):\n",
    "    print(str(i)+\": \"+ topic)\n",
    "    print()"
   ]
  },
  {
   "cell_type": "markdown",
   "metadata": {},
   "source": [
    "# Visulaize Topics"
   ]
  },
  {
   "cell_type": "code",
   "execution_count": 17,
   "metadata": {},
   "outputs": [
    {
     "name": "stderr",
     "output_type": "stream",
     "text": [
      "C:\\Users\\hammad\\Anaconda3\\lib\\site-packages\\sklearn\\linear_model\\_least_angle.py:34: DeprecationWarning: `np.float` is a deprecated alias for the builtin `float`. To silence this warning, use `float` by itself. Doing this will not modify any behavior and is safe. If you specifically wanted the numpy scalar type, use `np.float64` here.\n",
      "Deprecated in NumPy 1.20; for more details and guidance: https://numpy.org/devdocs/release/1.20.0-notes.html#deprecations\n",
      "  method='lar', copy_X=True, eps=np.finfo(np.float).eps,\n",
      "C:\\Users\\hammad\\Anaconda3\\lib\\site-packages\\sklearn\\linear_model\\_least_angle.py:164: DeprecationWarning: `np.float` is a deprecated alias for the builtin `float`. To silence this warning, use `float` by itself. Doing this will not modify any behavior and is safe. If you specifically wanted the numpy scalar type, use `np.float64` here.\n",
      "Deprecated in NumPy 1.20; for more details and guidance: https://numpy.org/devdocs/release/1.20.0-notes.html#deprecations\n",
      "  method='lar', copy_X=True, eps=np.finfo(np.float).eps,\n",
      "C:\\Users\\hammad\\Anaconda3\\lib\\site-packages\\sklearn\\linear_model\\_least_angle.py:281: DeprecationWarning: `np.float` is a deprecated alias for the builtin `float`. To silence this warning, use `float` by itself. Doing this will not modify any behavior and is safe. If you specifically wanted the numpy scalar type, use `np.float64` here.\n",
      "Deprecated in NumPy 1.20; for more details and guidance: https://numpy.org/devdocs/release/1.20.0-notes.html#deprecations\n",
      "  eps=np.finfo(np.float).eps, copy_Gram=True, verbose=0,\n",
      "C:\\Users\\hammad\\Anaconda3\\lib\\site-packages\\sklearn\\linear_model\\_least_angle.py:865: DeprecationWarning: `np.float` is a deprecated alias for the builtin `float`. To silence this warning, use `float` by itself. Doing this will not modify any behavior and is safe. If you specifically wanted the numpy scalar type, use `np.float64` here.\n",
      "Deprecated in NumPy 1.20; for more details and guidance: https://numpy.org/devdocs/release/1.20.0-notes.html#deprecations\n",
      "  eps=np.finfo(np.float).eps, copy_X=True, fit_path=True,\n",
      "C:\\Users\\hammad\\Anaconda3\\lib\\site-packages\\sklearn\\linear_model\\_least_angle.py:1121: DeprecationWarning: `np.float` is a deprecated alias for the builtin `float`. To silence this warning, use `float` by itself. Doing this will not modify any behavior and is safe. If you specifically wanted the numpy scalar type, use `np.float64` here.\n",
      "Deprecated in NumPy 1.20; for more details and guidance: https://numpy.org/devdocs/release/1.20.0-notes.html#deprecations\n",
      "  eps=np.finfo(np.float).eps, copy_X=True, fit_path=True,\n",
      "C:\\Users\\hammad\\Anaconda3\\lib\\site-packages\\sklearn\\linear_model\\_least_angle.py:1149: DeprecationWarning: `np.float` is a deprecated alias for the builtin `float`. To silence this warning, use `float` by itself. Doing this will not modify any behavior and is safe. If you specifically wanted the numpy scalar type, use `np.float64` here.\n",
      "Deprecated in NumPy 1.20; for more details and guidance: https://numpy.org/devdocs/release/1.20.0-notes.html#deprecations\n",
      "  eps=np.finfo(np.float).eps, positive=False):\n",
      "C:\\Users\\hammad\\Anaconda3\\lib\\site-packages\\sklearn\\linear_model\\_least_angle.py:1379: DeprecationWarning: `np.float` is a deprecated alias for the builtin `float`. To silence this warning, use `float` by itself. Doing this will not modify any behavior and is safe. If you specifically wanted the numpy scalar type, use `np.float64` here.\n",
      "Deprecated in NumPy 1.20; for more details and guidance: https://numpy.org/devdocs/release/1.20.0-notes.html#deprecations\n",
      "  max_n_alphas=1000, n_jobs=None, eps=np.finfo(np.float).eps,\n",
      "C:\\Users\\hammad\\Anaconda3\\lib\\site-packages\\sklearn\\linear_model\\_least_angle.py:1621: DeprecationWarning: `np.float` is a deprecated alias for the builtin `float`. To silence this warning, use `float` by itself. Doing this will not modify any behavior and is safe. If you specifically wanted the numpy scalar type, use `np.float64` here.\n",
      "Deprecated in NumPy 1.20; for more details and guidance: https://numpy.org/devdocs/release/1.20.0-notes.html#deprecations\n",
      "  max_n_alphas=1000, n_jobs=None, eps=np.finfo(np.float).eps,\n",
      "C:\\Users\\hammad\\Anaconda3\\lib\\site-packages\\sklearn\\linear_model\\_least_angle.py:1755: DeprecationWarning: `np.float` is a deprecated alias for the builtin `float`. To silence this warning, use `float` by itself. Doing this will not modify any behavior and is safe. If you specifically wanted the numpy scalar type, use `np.float64` here.\n",
      "Deprecated in NumPy 1.20; for more details and guidance: https://numpy.org/devdocs/release/1.20.0-notes.html#deprecations\n",
      "  eps=np.finfo(np.float).eps, copy_X=True, positive=False):\n",
      "C:\\Users\\hammad\\Anaconda3\\lib\\site-packages\\sklearn\\decomposition\\_lda.py:28: DeprecationWarning: `np.float` is a deprecated alias for the builtin `float`. To silence this warning, use `float` by itself. Doing this will not modify any behavior and is safe. If you specifically wanted the numpy scalar type, use `np.float64` here.\n",
      "Deprecated in NumPy 1.20; for more details and guidance: https://numpy.org/devdocs/release/1.20.0-notes.html#deprecations\n",
      "  EPS = np.finfo(np.float).eps\n"
     ]
    },
    {
     "data": {
      "text/html": [
       "\n",
       "<link rel=\"stylesheet\" type=\"text/css\" href=\"https://cdn.rawgit.com/bmabey/pyLDAvis/files/ldavis.v1.0.0.css\">\n",
       "\n",
       "\n",
       "<div id=\"ldavis_el8720528150506976707359711\"></div>\n",
       "<script type=\"text/javascript\">\n",
       "\n",
       "var ldavis_el8720528150506976707359711_data = {\"mdsDat\": {\"x\": [-0.10231855303071687, -0.15798945877298487, -0.30750454761129264, 0.07606588028740734, 0.3027783518690503, -0.028612452370216722, 0.07937273665646372, 0.09964175625047955, -0.21660715490497706, -0.4215441002181694, 0.4392222302069783, 0.3609767986320487, -0.3999636536169289, 0.33705928396621254, -0.06057711734335383], \"y\": [0.36328383568421263, 0.15160249088547145, 0.26358715695636803, 0.1164678230880114, 0.28660417346096473, -0.08829521350231839, -0.29791079849315705, 0.4073507115344392, -0.2513519072891634, 0.06293001146535354, 0.0917937811983949, -0.09300447222606305, -0.198939805211583, -0.3384040285224074, -0.47571375902852364], \"topics\": [1, 2, 3, 4, 5, 6, 7, 8, 9, 10, 11, 12, 13, 14, 15], \"cluster\": [1, 1, 1, 1, 1, 1, 1, 1, 1, 1, 1, 1, 1, 1, 1], \"Freq\": [12.868764375114683, 9.393920707280508, 7.790920215813241, 7.305642050402765, 7.0632516655778215, 7.018193459922573, 6.529895440331942, 6.505939159102249, 6.155543276321674, 5.905669194137886, 5.3946329084663045, 5.394631261257985, 4.589755968528695, 4.22683703880047, 3.856403278941213]}, \"tinfo\": {\"Term\": [\"ha\", \"thi\", \"vaccin\", \"year\", \"amp\", \"astrazeneca\", \"get\", \"first\", \"one\", \"got\", \"dose\", \"take\", \"fuck\", \"thank\", \"coronaviru\", \"appoint\", \"shot\", \"hi\", \"today\", \"elig\", \"u\", \"provid\", \"covid\", \"covidvaccin\", \"book\", \"share\", \"nh\", \"show\", \"protect\", \"week\", \"first\", \"got\", \"dose\", \"shot\", \"hi\", \"second\", \"yesterday\", \"biden\", \"morn\", \"took\", \"excit\", \"pfizervaccin\", \"mom\", \"super\", \"joebiden\", \"hurt\", \"dad\", \"wife\", \"relief\", \"awesom\", \"hug\", \"round\", \"gotten\", \"step_closer\", \"kind\", \"modernavaccin\", \"pfizercovidvaccin\", \"fauciouchi\", \"bless\", \"thankyounh\", \"moderna\", \"pfizer\", \"presid\", \"done\", \"today\", \"happi\", \"jab\", \"one\", \"fine\", \"receiv\", \"vaccin\", \"wa\", \"final\", \"good\", \"day\", \"covidvaccin\", \"feel\", \"thank\", \"covid\", \"get\", \"im\", \"thi\", \"wait\", \"cant\", \"line\", \"test\", \"inject\", \"readi\", \"nonsens\", \"close\", \"might\", \"sore\", \"onc\", \"sick\", \"blame\", \"ahead\", \"consid\", \"tire\", \"reaction\", \"tweet\", \"staysaf\", \"ireland\", \"mind\", \"catch\", \"passport\", \"rest\", \"oxford\", \"advic\", \"kick\", \"prepar\", \"coupl\", \"meanwhil\", \"though\", \"normal\", \"im\", \"go\", \"thing\", \"still\", \"littl\", \"like\", \"ye\", \"better\", \"get\", \"side_effect\", \"fulli\", \"look\", \"feel\", \"isnt\", \"back\", \"ill\", \"vaccin\", \"hope\", \"know\", \"peopl\", \"ani\", \"arm\", \"covidvaccin\", \"even\", \"soon\", \"dont\", \"ive\", \"covid\", \"see\", \"thi\", \"uk\", \"think\", \"immun\", \"eu\", \"respons\", \"system\", \"garbag\", \"place\", \"covidiot\", \"infect\", \"lie\", \"borisjohnson\", \"trust\", \"seem\", \"could\", \"behind\", \"fast\", \"prevent\", \"dear\", \"relat\", \"chief\", \"polit\", \"money\", \"forc\", \"alway\", \"success\", \"matter\", \"f\", \"beat\", \"wrong\", \"actual\", \"said\", \"say\", \"whi\", \"mask\", \"come\", \"product\", \"doesnt\", \"onli\", \"tell\", \"wa\", \"like\", \"want\", \"thi\", \"work\", \"peopl\", \"covidvaccin\", \"vaccin\", \"covid\", \"one\", \"make\", \"part\", \"made\", \"staff\", \"volunt\", \"amaz\", \"big\", \"essenti\", \"save\", \"moment\", \"wonder\", \"websit\", \"differ\", \"counti\", \"effort\", \"scientist\", \"prime_minist\", \"incred\", \"drive\", \"florida\", \"expand\", \"nhsuk\", \"opportun\", \"articl\", \"program\", \"frontlin\", \"cdc\", \"hand\", \"special\", \"former\", \"small\", \"ensur\", \"thank\", \"keep\", \"work\", \"proud\", \"worker\", \"mani\", \"amp\", \"make\", \"nurs\", \"everyon\", \"vaccin\", \"veri\", \"thi\", \"covidvaccin\", \"help\", \"safe\", \"nh\", \"today\", \"grate\", \"get\", \"great\", \"peopl\", \"ha\", \"countri\", \"india\", \"million\", \"administ\", \"case\", \"given\", \"export\", \"total\", \"suppli\", \"popul\", \"canada\", \"deliv\", \"coronavaccin\", \"narendramodi\", \"current\", \"per\", \"promis\", \"coronavirusupd\", \"arriv\", \"seriou\", \"administr\", \"till\", \"israel\", \"indian\", \"pmoindia\", \"rise\", \"polio\", \"nearli\", \"claim\", \"report\", \"ontario\", \"new\", \"rollout\", \"nation\", \"half\", \"state\", \"develop\", \"covidvaccin\", \"number\", \"vaccin\", \"ani\", \"pm\", \"health\", \"day\", \"world\", \"pakistan\", \"watch\", \"spread\", \"member\", \"video\", \"learn\", \"mass\", \"spring\", \"requir\", \"hear\", \"break\", \"antibodi\", \"involv\", \"messag\", \"among\", \"lead\", \"interest\", \"wish\", \"twitter\", \"regard\", \"educ\", \"word\", \"veteran\", \"cost\", \"role\", \"resourc\", \"host\", \"achiev\", \"babi\", \"medium\", \"talk\", \"provid\", \"public\", \"visit\", \"import\", \"woman\", \"access\", \"clinic\", \"resid\", \"expert\", \"servic\", \"american\", \"vaccin\", \"covidvaccin\", \"thi\", \"health\", \"help\", \"make\", \"use\", \"inform\", \"commun\", \"whi\", \"covid\", \"pleas\", \"receiv\", \"take\", \"plan\", \"anyon\", \"drericd\", \"mean\", \"progress\", \"disabl\", \"r\", \"man\", \"c\", \"account\", \"experiment\", \"send\", \"seen\", \"hub\", \"warn\", \"especi\", \"minist\", \"enjoy\", \"howev\", \"late\", \"night\", \"action\", \"decid\", \"rich\", \"social_distanc\", \"kill\", \"survey\", \"africa\", \"poor\", \"someon\", \"u\", \"run\", \"play\", \"becaus\", \"let\", \"know\", \"thi\", \"want\", \"dont\", \"offer\", \"need\", \"life\", \"free\", \"mani\", \"love\", \"wearamask\", \"peopl\", \"get\", \"viru\", \"vaccin\", \"covidvaccin\", \"jab\", \"pleas\", \"astrazeneca\", \"coronaviru\", \"effect\", \"blood_clot\", \"corona\", \"vaccineswork\", \"toronto\", \"astrazenecavaccin\", \"stori\", \"trial\", \"europ\", \"teacher\", \"gener\", \"ho\", \"student\", \"address\", \"inequ\", \"h\", \"sourc\", \"excel\", \"coronavirusvaccin\", \"request\", \"charg\", \"awar\", \"evid\", \"ban\", \"stupid\", \"treatment\", \"everybodi\", \"launch\", \"approv\", \"safe\", \"announc\", \"safeti\", \"covid\", \"hospit\", \"vaccin\", \"concern\", \"pandem\", \"covidvaccin\", \"great\", \"studi\", \"news\", \"read\", \"u\", \"lockdown\", \"say\", \"appoint\", \"elig\", \"book\", \"age\", \"call\", \"april\", \"open\", \"abov\", \"onlin\", \"oxfordastrazeneca\", \"invit\", \"chines\", \"review\", \"phase\", \"locat\", \"note\", \"name\", \"click\", \"serious\", \"yo\", \"goal\", \"present\", \"region\", \"poll\", \"certif\", \"neg\", \"agenc\", \"highest\", \"caregiv\", \"similar\", \"start\", \"centr\", \"avail\", \"march\", \"schedul\", \"group\", \"adult\", \"regist\", \"detail\", \"pleas\", \"everyon\", \"get\", \"covidvaccin\", \"receiv\", \"peopl\", \"vaccin\", \"today\", \"soon\", \"local\", \"fuck\", \"week\", \"area_hardest\", \"last\", \"cant_believ\", \"old\", \"posit\", \"monday\", \"weekend\", \"credit\", \"hous\", \"p\", \"almost\", \"maskup\", \"mother\", \"covaxin\", \"mine\", \"juli\", \"oh\", \"az\", \"protest\", \"england\", \"nhscovidvaccin\", \"cdcgov\", \"young\", \"deptvetaffair\", \"thankyou\", \"perfect\", \"gone\", \"cri\", \"celebr\", \"next\", \"year\", \"hit\", \"two\", \"month\", \"ago\", \"vaccin\", \"way\", \"thursday\", \"child\", \"thi\", \"due\", \"day\", \"time\", \"come\", \"lockdown\", \"amp\", \"covidvaccin\", \"wa\", \"show\", \"updat\", \"tri\", \"johnson\", \"slot_ca\", \"cv_locat\", \"pharmaci\", \"record\", \"efficaci\", \"expect\", \"easi\", \"rite_aid\", \"pain\", \"park\", \"headach\", \"individu\", \"walk\", \"addit\", \"profession\", \"johnsonandjohnson\", \"creat\", \"appt\", \"smooth\", \"america\", \"sticker\", \"singl\", \"friendli\", \"fever\", \"tonight\", \"flu\", \"within\", \"site\", \"whole\", \"dure\", \"post\", \"data\", \"day\", \"covidvaccin\", \"hour\", \"time\", \"amp\", \"list\", \"sign\", \"wa\", \"look\", \"team\", \"risk\", \"follow\", \"care\", \"rate\", \"mrna\", \"enough\", \"w\", \"high\", \"problem\", \"human\", \"youv\", \"manag\", \"worri\", \"listen\", \"slot_va\", \"agre\", \"freedom\", \"fauci\", \"auspol\", \"benefit\", \"contract\", \"rule\", \"texa\", \"despit\", \"discu\", \"brilliant\", \"grow\", \"impact\", \"australia\", \"control\", \"home\", \"continu\", \"stay\", \"well\", \"issu\", \"live\", \"roll\", \"must\", \"even\", \"becom\", \"global\", \"wear_mask\", \"need\", \"amp\", \"covidvaccin\", \"covid\", \"still\", \"vaccin\", \"right\", \"death\", \"protect\", \"famili\", \"friend\", \"around\", \"folk\", \"join\", \"senior\", \"offici\", \"citizen\", \"v\", \"across\", \"gp\", \"fight\", \"center\", \"va\", \"oper\", \"urg\", \"speak\", \"medicin\", \"programm\", \"stand\", \"win\", \"intern\", \"delight\", \"campaign\", \"produc\", \"gon_na\", \"via_youtub\", \"webinar\", \"assist\", \"world\", \"amp\", \"dr\", \"help\", \"commun\", \"encourag\", \"support\", \"vaccin\", \"get\", \"event\", \"peopl\", \"u\", \"health\", \"covidvaccin\", \"end\", \"patient\", \"treat\", \"job\", \"condit\", \"le\", \"least\", \"told\", \"offic\", \"huge\", \"older\", \"weve\", \"light\", \"co\", \"recommend\", \"author\", \"none\", \"social_medium\", \"partner\", \"reliev\", \"carer\", \"tunnel\", \"short\", \"elderli\", \"governor\", \"emerg\", \"covax\", \"lost\", \"attend\", \"type\", \"pandem\", \"medic\", \"one\", \"doctor\", \"recent\", \"health\", \"time\", \"covidvaccin\", \"vulner\", \"go\", \"give\", \"onli\", \"sinc\", \"person\", \"share\", \"question\", \"would\", \"fals_inform\", \"check\", \"ask\", \"info\", \"answer\", \"danger\", \"misinform\", \"leader\", \"decis\", \"delay\", \"card\", \"wast\", \"best_sourc\", \"cancer\", \"idea\", \"activ\", \"suspend\", \"european\", \"surgeri\", \"bill_gate\", \"quickli\", \"shirt\", \"circul_quickli\", \"inaccur_claim\", \"price\", \"spread_falseinform\", \"fals\", \"befor\", \"nh\", \"find\", \"contact\", \"inform\", \"doe\", \"stop\", \"experi\", \"covidvaccin\", \"never\", \"pleas\", \"vaccin\", \"covid\", \"may\"], \"Freq\": [12785.0, 24792.0, 100625.0, 10045.0, 16333.0, 9267.0, 26615.0, 11606.0, 12438.0, 10503.0, 10305.0, 7558.0, 6747.0, 9015.0, 6446.0, 5928.0, 7940.0, 7747.0, 11120.0, 5463.0, 7525.0, 6229.0, 15186.0, 72543.0, 4242.0, 3495.0, 4147.0, 3711.0, 3491.0, 3752.0, 11606.319376557094, 10503.115630735972, 10305.011907143169, 7940.598025695514, 7746.888441812464, 3718.042245113049, 2529.9397796829085, 1680.9687623103557, 1555.4966950884082, 1163.3383315180997, 1006.0456029239347, 789.6073475708979, 770.7133018257766, 653.1986919318817, 575.2801452239773, 522.9742162863218, 431.56918043937446, 428.84899871428837, 419.5856941686533, 411.7235115111197, 389.89001747607125, 383.5041428027612, 380.2302894074883, 379.04807455716923, 354.2603242114691, 352.5000347918633, 346.60752112466605, 313.4364985909279, 291.16593200487284, 265.4408721470583, 2423.558419507116, 3366.0803549165307, 1040.3967056160818, 3414.8059785823707, 8322.714888401928, 1800.8971020527943, 4373.455039494207, 6719.600272515111, 466.08287924375657, 3502.2677665918836, 21161.916544587275, 3068.9039169579282, 790.759811557121, 1493.9806266689027, 2850.31847612939, 11483.392041855654, 1814.178750650221, 2767.887190723288, 3362.6472310343142, 3337.07730710227, 1427.879959080369, 1595.0342452456175, 2373.2578847950813, 1943.0286391983998, 1236.0814380543222, 1202.9990743923913, 899.8956810451181, 694.9525200203316, 681.0518831277741, 585.1725777338203, 554.2662278098022, 549.477882186619, 523.3324193677888, 468.15004945405207, 454.941813374888, 401.61658408685963, 400.64533332966613, 382.0448282607994, 368.49429567415183, 347.30051893382023, 342.2455271526127, 321.32134909912213, 316.56485798128364, 312.0777031032802, 309.6573840087229, 389.22737950144995, 301.49278887775995, 297.53367737568664, 295.73017435681504, 292.20301782062586, 289.36389891635656, 282.07161202135177, 465.68196500441553, 882.5132253366457, 4313.376905262244, 4724.6786040147945, 1263.779176495598, 2613.36776360289, 788.0853174972334, 3731.5227074713957, 688.2439152665139, 1070.8471651441796, 12949.49325027626, 1470.6004082948157, 1350.8089656848645, 1572.7296922997255, 2323.0055818877295, 533.181924276819, 1294.869173712015, 757.290179491978, 13702.94921023511, 1243.3296994640823, 1702.683476649775, 2881.5101320080385, 1492.539928202496, 985.2995454208999, 5467.63458416042, 1224.7779767324428, 1030.816910670775, 1323.6132883659318, 966.9249744182628, 1983.4013870145425, 1084.7312022636122, 1268.7604206681394, 3449.0850880244047, 1889.882849885379, 1841.3025526726483, 1777.7643838853132, 1157.0337723801242, 1127.1007250670903, 1103.4228608989836, 960.5854773532734, 812.3069137653655, 811.608271754807, 759.262849688539, 729.5897457421564, 598.994622778222, 547.5062465618097, 1245.7806252624318, 530.5064292401686, 519.3710365715301, 488.1934498532867, 480.7911856597908, 472.2766119922061, 460.0139455568622, 457.74421606839695, 430.8029933820876, 429.81042545673574, 389.795335636243, 387.05455742401426, 377.83728778296216, 372.60430186276744, 369.91695977908205, 364.68035522085466, 472.8850873377988, 1147.3499705108982, 2348.755972188767, 2534.209810975622, 938.5826344772464, 1633.109736644252, 601.7411418372546, 765.8143258272734, 1434.8924989832992, 740.8654762677332, 2037.7572687414217, 1645.8980578675073, 1173.8244705144004, 3194.868637780714, 1422.223021451224, 2050.3457758465393, 4207.912939330484, 2934.295791358398, 1411.2257355995337, 1263.5582048908657, 937.4508986305609, 1995.6177075203686, 1932.1362302650916, 1852.0140923513998, 1831.873443357765, 1377.5345242942724, 1090.538338272792, 915.0127394539268, 850.083802303834, 843.600618872534, 825.2297111815358, 780.4948474446453, 756.9254426752138, 740.2820776287982, 737.682344340789, 727.2793801198449, 684.7163950787251, 651.5984085919204, 566.4339137372133, 563.2959051846217, 546.3836831499527, 545.6811545839493, 541.201871635224, 530.4918318106912, 493.304251644223, 494.23644908555923, 458.0160192996858, 451.83633963876565, 407.18786323934205, 406.0603630607616, 357.0235068677794, 504.14277541189904, 6247.849832602569, 1355.8503330925025, 2657.2726635381578, 865.4911089552128, 1210.578569762596, 1527.655918650479, 3830.0567476459037, 1615.2173687193067, 807.1418967854378, 1415.0790836768767, 6596.87263718715, 1229.9566833923177, 2812.7798721115105, 3967.740916716316, 1234.2321677433804, 1127.0308396968069, 1137.0345239911837, 1355.4135489172418, 884.0018794294341, 1326.5929370164515, 928.8397140151186, 1021.7324823315621, 12784.911922680976, 3701.917512296268, 3514.4765526913498, 2891.2666195302227, 2710.51623058683, 2291.190412362075, 1769.9255953284837, 1717.5120140452557, 1541.2478890365176, 1248.6373943508313, 1232.5665074621722, 1065.4944431309111, 1023.1077391947838, 977.7808742920909, 766.4178932466148, 762.0878676048749, 735.6055509557058, 606.7916417701938, 540.8040262920181, 517.3786916632893, 508.9600771355792, 498.3111572765248, 485.8144618377075, 467.48569235034097, 457.37588586828963, 456.2216859626927, 441.4599052757314, 428.3954831950262, 377.2145662963595, 376.0657930444477, 2154.8679384718375, 1224.291649923901, 2877.1340346714364, 1779.861107560814, 1005.7298180994703, 824.2840281529451, 1641.2706870959441, 1065.9075594759902, 9502.341343225618, 914.7645983725621, 7004.146786057554, 1394.9534950010445, 932.4454254099325, 922.6936300714492, 888.2052725742805, 816.9726976430638, 1674.7059091793112, 1466.7011699882178, 1320.1406387629788, 1133.4412052878172, 1100.0554846692114, 1048.4269385593864, 1012.8287186222803, 848.4476073225532, 799.9156583181051, 775.4551783812876, 768.6758208673915, 689.6501941212474, 648.7620930148914, 634.1554603508246, 618.1910150511129, 562.9419620362803, 549.7347587200479, 532.7062686953567, 486.9785214038084, 464.96759428390186, 444.30967598598323, 432.8563548395474, 419.8979694633342, 413.1607678652018, 404.90587977181633, 388.9601350324116, 380.2343996729003, 379.3664289747285, 365.816635315156, 360.3886690125266, 1154.7708241830728, 5700.8617409926055, 1221.7251044502827, 1193.4699548541455, 1512.4390641106534, 678.6359317393411, 969.9284078158086, 1362.7175254622312, 808.643746565938, 812.3304284549934, 688.9782484313768, 681.0703378376812, 6074.4011930201505, 5048.587766083558, 2709.9073605194653, 1205.7750705915416, 1132.264074867876, 996.8381954770034, 854.5206081548738, 850.7667709116369, 880.8450168090337, 887.3313416898654, 1006.4167057976089, 864.6428317518175, 826.8403476053373, 7557.900588544541, 2182.029812182274, 1625.8624027592282, 1608.3124467670439, 1079.8289071138317, 1039.422140193552, 907.0274248858177, 621.5922588788993, 621.5418164378199, 618.6236801741818, 595.6884234968489, 564.99164405238, 545.4003654762607, 526.7715980000869, 510.9981189721738, 454.45715940147, 428.7998808335926, 421.25098253328497, 400.81668580082584, 358.390054857667, 346.5021944646555, 344.0192952853038, 338.4603193599832, 342.0254278188581, 336.24557237984163, 334.54608170900804, 334.20662141158124, 307.57625068921, 307.1007189424519, 288.588958774225, 875.5467808528933, 5568.864832955905, 983.1062104639744, 1104.3095450511416, 2124.3583216626766, 1758.0861793064148, 2630.8907339275356, 10543.797560645997, 1804.0626856385386, 2103.7305558207613, 992.146809415624, 2096.1154803215327, 1222.6933022491487, 1126.0565310595025, 1448.5538473735749, 985.0905230557311, 627.2221552344898, 1595.421803415612, 1944.8127853999322, 844.1162143970985, 2627.4703168288092, 2367.279996302353, 996.7742876767442, 794.3375520586222, 9267.318827368234, 6445.972252620448, 3003.6121973782756, 2631.087938032095, 1785.7135058097238, 1487.7981029412967, 1307.505605140868, 1180.6637875567947, 1105.3123396283283, 976.576554863634, 919.020400874852, 674.0616472441885, 521.8730231977747, 510.1042528512446, 506.23579762042357, 467.97593382637086, 457.422428793625, 453.1626385013954, 451.58648337598714, 441.07551081159687, 425.90432475930453, 407.3336766448857, 404.8008136255045, 403.9916515913078, 398.864262561564, 398.6149295980307, 375.0396958681105, 366.92490078377074, 359.1337114402368, 356.3439041448762, 829.5732567028971, 2685.859578563725, 960.3358771711522, 655.17432309134, 4875.151134974401, 1093.3000981648652, 15615.361707464093, 668.9759273100452, 1666.9919361905486, 5473.319772369331, 1146.2765595353244, 597.5760456002444, 840.5080089680184, 773.798195267177, 1138.8689121780676, 631.9201958653032, 603.9182909777305, 5928.409371751132, 5462.893366813097, 4242.163670086062, 3430.3026485900427, 2796.4204462287994, 1996.7908564383326, 1905.6551336236423, 1645.7561269478597, 1233.9908187950102, 1137.7621055697705, 1066.3115688712096, 785.6489312754968, 607.5960346252953, 594.425241553205, 566.8645794079175, 493.21201010048003, 461.1326195141999, 423.4044636816689, 413.7454951554585, 359.6415221402916, 331.6066005216058, 304.5058380759777, 296.7987024482421, 285.1188752249401, 260.1972299408746, 227.88303125796088, 212.24753779957334, 200.8456194907892, 171.45682701885494, 170.91585263857178, 2915.9372729919555, 1601.114943873361, 2919.5645346410965, 2910.7158184977766, 1342.311665321867, 1295.762008126785, 1386.8245562860745, 1121.0463830841986, 481.00628840898753, 2039.594332420914, 1435.8207061902729, 4065.550491229867, 6149.323570418882, 1703.2939346000362, 2118.925289382106, 4270.609092063011, 1442.3415052411597, 805.7484011633302, 693.8967700300581, 6747.544275232047, 3752.442815631765, 3283.9301648157343, 1600.2409880799958, 958.7215501955332, 829.4998595875488, 816.196937645083, 806.7398227480663, 478.1452763417572, 464.4871670846452, 456.11549571159975, 433.9848634980826, 423.5850647212695, 422.7739622528913, 399.85598647161567, 373.5537697871385, 371.3407684379238, 351.9152685515617, 335.0252063445258, 322.41787159060243, 316.3482974440955, 306.46364608019815, 303.3488170856729, 283.22255337530373, 275.3090451769689, 267.6608240781751, 252.33084718231694, 252.16725725200837, 246.32199022628262, 232.84640377341051, 520.114013099447, 1459.309294321441, 9351.441906754962, 346.2646100208425, 1503.3972342686072, 967.4922143562425, 709.9102582801034, 13227.114550252316, 929.7707523171467, 474.4243272688358, 461.1291187194532, 2655.665306110671, 597.491513910216, 1213.6362396923798, 706.0041465250954, 617.2912577294297, 528.825156264333, 784.4869724398683, 913.7909117420118, 610.9189638404785, 3711.217104649191, 2238.886426513051, 1640.4062963809395, 1360.0836833058042, 1301.049953579584, 1143.927476435775, 1091.6018476348236, 1041.1590266303365, 861.0867162593132, 788.9426608821091, 746.5147156677489, 659.2995318032993, 604.7321296289996, 596.6780679251578, 580.848051468559, 567.8063388453389, 563.8885764066608, 543.206627935684, 541.0960520157533, 505.79941559478056, 499.88897408618465, 499.75359429005306, 479.8101872563083, 479.07255010939264, 424.25401897845023, 420.09002582234393, 413.5404771325668, 409.9696607453165, 409.9189074513033, 382.00293787849074, 421.9711757532277, 1310.2848677217125, 763.5129621769667, 944.6650705434085, 932.4114092522485, 751.424409226093, 2355.6663272698584, 7916.554715455659, 1015.6138801947884, 1440.8090769988917, 2392.9689056853913, 684.5222987410176, 695.0681324119548, 1186.9859380733096, 683.1943484112481, 2016.3877406077609, 1726.1969973463129, 1653.0702267963459, 2097.0689501550187, 1103.6347511751287, 925.6813980673602, 823.5963214819617, 709.4391989300699, 640.765303253915, 624.2573378518667, 613.2392042486787, 611.89516549742, 594.3497533465517, 582.9346740943907, 565.477543258714, 525.897597124047, 518.6561931957325, 443.9061089870378, 432.5391078220235, 411.54239737456146, 396.03107263326126, 371.76535368984446, 369.79294639678034, 364.52692638291285, 359.1353230896883, 324.86273055948425, 315.9279681730646, 312.38629739056097, 299.8891032294607, 299.3286883163143, 368.25734887196893, 1504.1440564820844, 1131.7536499805824, 946.3374925996144, 2650.528365740897, 784.8969277741096, 1347.4272767549871, 632.635585075939, 951.1901390287755, 1452.069760932069, 655.7902329897487, 580.0544349582937, 701.4256066647787, 1317.7825392214077, 2043.8251061527853, 3526.512620701877, 1796.8662089965546, 866.2137025047442, 1750.2741718163115, 635.6165018365311, 630.690796307858, 3491.5093755945322, 2503.017688039392, 1813.5943238273207, 1713.9024891155884, 1627.8955772301808, 1249.9404820818872, 1186.5656317858336, 1007.6083025983411, 990.5535366091011, 936.2680945201128, 863.9719434898474, 809.0012486663605, 777.0300540008478, 739.9788335900834, 635.7176428589864, 564.6119645807951, 542.498202308964, 528.822736329415, 519.5506987797022, 492.0409559089883, 482.9011859857042, 472.54702870799133, 464.07516862393237, 449.79802278969584, 447.999170247422, 438.1617735460618, 426.5531575292773, 425.04259455667716, 422.26741074186, 371.51796380506954, 1605.580111636612, 7085.510197231692, 1428.388680284663, 1907.8990257018993, 1343.5649321307708, 718.0835084502166, 808.1719312897945, 4074.1598746861, 2081.9447571880705, 568.2928899169689, 1075.6913803043772, 810.9392931703294, 613.9824750292598, 604.5134465526434, 2397.755462892321, 2243.5196110802544, 1155.6157474026058, 997.273343126735, 995.1967442748013, 908.301621783846, 850.4680190121503, 800.9651380265516, 789.290188706344, 747.8666175673616, 682.1636085293346, 671.9282848334616, 574.0094750449553, 536.2728263430298, 510.5609662617871, 501.28429081612717, 475.25716205220317, 465.3987200871204, 457.3158085194359, 438.323579059267, 431.5880063941209, 422.72275377474114, 412.6942928618579, 411.4321848504985, 404.09663040446173, 360.5512322440665, 346.15178759190616, 343.4285321967146, 331.08401702547127, 290.7788983673746, 2489.4966125136034, 1157.0447449975588, 4455.050743149578, 1017.3839365008781, 510.85902344133103, 1522.335783122745, 1419.797854631207, 2585.334277015385, 485.34369333673493, 957.9633918086985, 709.7481864322089, 746.1506631791075, 598.4715379155389, 573.2810417200674, 3495.3236296274195, 3026.2719314665474, 2989.875833945555, 2721.389566672565, 2577.3544785191007, 2084.740677688547, 1340.161792194846, 1214.3410215495487, 1003.2141567018833, 935.0482117012049, 780.0750842403853, 691.0974245868504, 638.9537180207597, 570.812122271562, 554.4192580622217, 549.7844426868767, 535.895134037979, 507.0943330082173, 460.50753504224446, 445.78480323038235, 434.07257085299, 347.96058107063675, 303.9213235408455, 277.47666274701896, 268.2381958060228, 241.78453871795452, 239.4799251613145, 237.34489444463387, 235.94435458927038, 230.3140750145576, 2498.58960602096, 3008.8919529117766, 1496.4523111268238, 592.0068528050128, 1571.1992339104754, 1086.057744303164, 995.0622212381937, 787.900890570303, 3329.3903761488305, 542.3510794919985, 745.8052904919587, 1205.6904651307561, 717.6107965980747, 566.6629990452238], \"Total\": [12785.0, 24792.0, 100625.0, 10045.0, 16333.0, 9267.0, 26615.0, 11606.0, 12438.0, 10503.0, 10305.0, 7558.0, 6747.0, 9015.0, 6446.0, 5928.0, 7940.0, 7747.0, 11120.0, 5463.0, 7525.0, 6229.0, 15186.0, 72543.0, 4242.0, 3495.0, 4147.0, 3711.0, 3491.0, 3752.0, 11606.517286009042, 10503.313540185585, 10305.209816592782, 7940.795936886134, 7747.08635750719, 3718.2401545626594, 2530.137689140568, 1681.1666717599664, 1555.694604538019, 1163.5362409677105, 1006.2435123735455, 789.8052570205087, 770.9153048715201, 653.3966013814926, 575.4780546735882, 523.182738531987, 431.7670898889851, 429.0469081738628, 419.7836036182639, 411.9214209607303, 390.08792692568187, 383.7024630047042, 380.42819885709895, 379.2459843649348, 354.45823370296563, 352.6979442424751, 346.80543057527785, 313.6344080405385, 291.36384145448346, 265.63878159666893, 2459.803902464946, 3520.313074576991, 1113.3133870371348, 4001.670346233148, 11120.640062620936, 2137.619208044754, 5979.401915341715, 12438.37888417525, 488.49140870370366, 6970.678338516444, 100625.44381137732, 7590.756277197479, 1077.9929145055014, 2854.2988928771283, 7924.998383150639, 72543.62927807904, 4137.370090888057, 9015.922525326909, 15186.708220829843, 26615.286527497494, 5741.442622680262, 24792.71526101061, 2373.455762208303, 1943.2265166031245, 1236.279315459047, 1203.196951802663, 900.0935584498429, 695.1514415987401, 681.249760532499, 585.3717933417702, 554.4641052547424, 549.6757595913439, 523.5302967725137, 468.34792979767303, 455.13969077961264, 401.81446149158427, 400.84335431932914, 382.2427066268109, 368.69217307887646, 347.49839633854486, 342.4434045573373, 321.51922650384677, 316.7627353860083, 312.27558050800485, 309.8552614134475, 389.48001705861543, 301.6906662824846, 297.7315547804113, 295.9280517615397, 292.4008952253505, 289.5617763210812, 282.2694894260764, 466.077085505046, 962.8014335656442, 5741.442622680262, 6473.3165494018, 1496.7065697156415, 3479.7955987736254, 897.5540665642276, 5385.124771127706, 791.5379678862018, 1343.0653220025733, 26615.286527497494, 1961.1302014333328, 1770.9814784050805, 2256.1062852976866, 4137.370090888057, 595.1661416062268, 2187.2676850737053, 1008.110813699017, 100625.44381137732, 2426.849258229615, 4333.757976851012, 11495.622473804116, 3880.5689439104076, 1774.8036814595764, 72543.62927807904, 2864.4704230367306, 2088.368398608409, 4182.231436684546, 1830.2585315461595, 15186.708220829843, 3017.8024105254462, 24792.71526101061, 3449.2821869168292, 1890.0799487457602, 1841.4996515320283, 1777.9614827446933, 1157.2308712395043, 1127.2978239264703, 1103.6199597583636, 960.7825762126535, 812.5040127258624, 811.805370614187, 759.459948547919, 729.7868446015365, 599.1917216376021, 547.703345437554, 1246.2317309021666, 530.7035280995486, 519.5681354309102, 488.3905487126666, 480.9882845191707, 472.47371085158596, 460.2110444162421, 457.941315050919, 431.0000922414675, 430.0253750850497, 389.9924344956229, 387.25165628339414, 378.03438664234204, 372.8014007221473, 370.1140586384619, 364.87745408023454, 475.0964505023521, 1429.0452708817745, 3451.209016033155, 3843.560327262547, 1282.6481725846684, 3085.06846910502, 751.8342870015883, 1131.2273643773008, 3542.5893358247363, 1110.9608344912924, 7590.756277197479, 5385.124771127706, 2978.07012662277, 24792.71526101061, 4692.117390327713, 11495.622473804116, 72543.62927807904, 100625.44381137732, 15186.708220829843, 12438.37888417525, 3988.843990111112, 1995.8164846704435, 1932.3338513035999, 1852.2117133904028, 1832.071064395272, 1377.7321453317795, 1090.7359593102992, 915.210360491434, 850.2814233413412, 843.7982399100413, 825.427332219043, 780.6924684821525, 757.1230637127211, 740.4796986663055, 737.8799653782962, 727.4770011587387, 684.914016120237, 651.7960296294276, 566.6315347747205, 563.4935262221289, 546.58130418746, 545.8787756214565, 541.3994926727313, 530.6894528481985, 493.5018726840298, 494.4374027486233, 458.2136403371929, 452.0339606762727, 407.3854842768491, 406.25798409826865, 357.2211279052865, 504.4461368679934, 9015.922525326909, 1764.0226419323283, 4692.117390327713, 1079.5585858268628, 1763.9762765946996, 3256.6521974229977, 16333.874627916135, 3988.843990111112, 1164.0853125035508, 3652.9723464753756, 100625.44381137732, 3166.7790534602827, 24792.71526101061, 72543.62927807904, 4929.9706002502435, 3813.071105454706, 4147.801378212836, 11120.640062620936, 1907.190976858561, 26615.286527497494, 3213.904818730755, 11495.622473804116, 12785.107458279183, 3702.112766555328, 3514.6718068600376, 2891.461874332594, 2710.7114847555176, 2291.385666533254, 1770.1208578055896, 1717.7072682139437, 1541.4431432052056, 1248.8326485195194, 1232.7617616688058, 1065.6896973065327, 1023.3029933634718, 977.9761284607789, 766.6131474153028, 762.2831217735629, 735.8008051243938, 606.9868959388818, 540.9992804607061, 517.5739458319773, 509.15533130426707, 498.5064114452127, 486.00971600639537, 467.68094651902885, 457.5711400369775, 456.41694013138056, 441.65515944441927, 428.5907373637141, 377.4098204650474, 376.26104721313556, 2368.1918794111198, 1349.5684828020956, 3642.9815283483936, 2765.7914393210517, 1320.5829134669714, 1085.4337883992607, 3053.6114678810145, 1703.5489984147187, 72543.62927807904, 1514.670408872959, 100625.44381137732, 3880.5689439104076, 1685.6689453484782, 5493.687955709312, 7924.998383150639, 2422.7337520417996, 1674.9031088745407, 1466.8983696979703, 1320.3378384582084, 1133.6384049830467, 1100.252684364441, 1048.624138254616, 1013.02591831751, 848.6448070177828, 800.1128580133347, 775.6523780765173, 768.8730205626212, 689.847393816477, 648.9592927101211, 634.3526600460542, 618.3882147463426, 563.13916173151, 549.9319584152776, 532.9034683905863, 487.1757210990378, 465.1647939791313, 444.50687568121265, 433.0535545347768, 420.09516915856364, 413.35796756043123, 405.10307946704575, 389.157334727641, 380.4315993681297, 379.5636287328975, 366.01383501038543, 360.585868707756, 1155.6006854870416, 6229.641083184576, 1278.7452942874688, 1274.696071516404, 1704.4870539963742, 756.2505400397314, 1193.9042403230383, 2352.161492518869, 1103.6672530594458, 1265.7970853230806, 956.4870633356117, 939.1886196157228, 100625.44381137732, 72543.62927807904, 24792.71526101061, 5493.687955709312, 4929.9706002502435, 3988.843990111112, 2357.9297950228042, 2422.1465361930977, 2933.57457514757, 3843.560327262547, 15186.708220829843, 5108.777793860838, 6970.678338516444, 7558.0964886423035, 2182.2257122807114, 1626.0583028553299, 1608.5083468631456, 1080.0248072099334, 1039.6180402896537, 907.2233249819195, 621.7881589750011, 621.7377165339217, 618.8195802702836, 595.8843235929508, 565.1875441484818, 545.5962677044478, 526.9674980961887, 511.1940190682755, 454.6530594975717, 428.9957809296943, 421.44688262938666, 401.01258589692753, 358.5859549537687, 346.69809456075717, 344.2151953814055, 338.6562194560849, 342.2240205545367, 336.4414724759433, 334.74198180510973, 334.40252150768293, 307.7721507853117, 307.2966190385536, 288.7848588703267, 902.3937834614466, 7525.968328606564, 1166.9620390651323, 1349.5184592133276, 3119.639073909704, 2571.3555032498793, 4333.757976851012, 24792.71526101061, 2978.07012662277, 4182.231436684546, 1487.0973706980565, 4949.315033335761, 2280.036173846845, 2095.323172297474, 3256.6521974229977, 2261.4428765832113, 843.4122423322067, 11495.622473804116, 26615.286527497494, 2117.762427237149, 100625.44381137732, 72543.62927807904, 5979.401915341715, 5108.777793860838, 9267.511932012567, 6446.190539585806, 3003.8052920213704, 2631.2810326751896, 1785.9066004528186, 1487.9912895089253, 1307.6986997839629, 1180.8568821998895, 1105.5054342714232, 976.769649506729, 919.2134955209505, 674.2547418872836, 522.0661178408698, 510.2973474943394, 506.4288922635184, 468.1690284694657, 457.6155234367198, 453.3557331444902, 451.77957801908195, 441.2686054546917, 426.09741940239934, 407.5267712879805, 404.9939082685993, 404.1847462344026, 399.05739343806357, 398.8080242411255, 375.23279051120534, 367.11799542686555, 359.32680608333163, 356.536998787971, 936.3940791393993, 3813.071105454706, 1380.1591522609003, 823.5713845747882, 15186.708220829843, 1782.5921535115467, 100625.44381137732, 858.4470673510255, 4156.666738855343, 72543.62927807904, 3213.904818730755, 844.9981543990168, 2153.896875219246, 1814.829440152589, 7525.968328606564, 1615.2083659385096, 3451.209016033155, 5928.604018368339, 5463.088013419954, 4242.358316692919, 3430.4972951969007, 2796.615962339652, 1996.9855030451909, 1905.8497844723508, 1645.950773554718, 1234.1854654018684, 1137.9567521766287, 1066.5062154780678, 785.8435778823549, 607.7906812321534, 594.6198884357535, 567.0592260147756, 493.406656707338, 461.3272661210579, 423.5991102908267, 413.9401417623165, 359.83624141538235, 331.8012471284638, 304.70048468513545, 296.9933492068113, 285.3135218317981, 260.3918765477326, 228.07767786481892, 212.44218440643138, 201.04026609764725, 171.65147362571298, 171.11049924542982, 3360.3776946297103, 1833.4207850088019, 3508.9617805944617, 3546.8370685805776, 1624.4262341283659, 1589.7631569957439, 1842.185363698592, 1469.988046578239, 594.6072647290888, 5108.777793860838, 3652.9723464753756, 26615.286527497494, 72543.62927807904, 6970.678338516444, 11495.622473804116, 100625.44381137732, 11120.640062620936, 2088.368398608409, 1458.400275680503, 6747.743558885281, 3752.6421001255926, 3284.1294484689693, 1600.440271733231, 958.9208338487682, 829.6991432407839, 816.396221299814, 806.939124527438, 478.34455999499215, 464.68645073788014, 456.3147795267231, 434.1841471513175, 423.7843483745044, 422.973245910614, 400.05798477554987, 373.75305344037344, 371.54005209115877, 352.11455220479667, 335.22448999776077, 322.6171552438374, 316.54758109733046, 306.6629297334331, 303.54810073890786, 283.4218370737046, 275.5083293137621, 267.86010773141004, 252.53013083555192, 252.36654090524334, 246.5212738795176, 233.04568742764664, 521.157768388237, 1499.2812765136898, 10045.24780813998, 347.81105166977574, 1560.320302975132, 1345.8868930884842, 918.3072498412963, 100625.44381137732, 1738.7076819097672, 613.5088042154371, 588.5303349129405, 24792.71526101061, 1230.1700588197427, 7924.998383150639, 4904.397775288635, 3085.06846910502, 1615.2083659385096, 16333.874627916135, 72543.62927807904, 7590.756277197479, 3711.411455818792, 2239.0807776826523, 1640.600647550541, 1360.2780344754058, 1301.2443047491856, 1144.1218276053764, 1091.796198804425, 1041.353377799938, 861.2810674289149, 789.1370120517107, 746.7090668373505, 659.4938829729009, 604.9264807986012, 596.8724190947595, 581.0424026381606, 568.0006900149406, 564.0829275762625, 543.4009791052856, 541.290403185355, 505.9937667643821, 500.0833252557862, 499.9479454596546, 480.00453842590986, 479.26690127899417, 424.44837014805177, 420.28437699194546, 413.73482830216835, 410.16401191491804, 410.11325862090484, 382.197289171204, 426.6612557088739, 1672.5436203384054, 905.7483574283242, 1306.0150539491663, 1366.5322435700496, 1000.6962210030698, 7924.998383150639, 72543.62927807904, 1964.3757573547416, 4904.397775288635, 16333.874627916135, 1059.736486597188, 1155.9926199637732, 7590.756277197479, 2256.1062852976866, 2016.5841345175436, 1726.3933912545383, 1653.2666207045713, 2097.429262924926, 1103.8311450833542, 925.8777919755855, 823.7927159370596, 709.6355928382952, 640.9616971621404, 624.4537317600921, 613.435598156904, 612.091584688519, 594.5461488068673, 583.1310680026161, 565.6739371669394, 526.0939910322724, 518.8525871039578, 444.10250289526306, 432.73550173024876, 411.73879128278674, 396.22746654148654, 371.96174759806973, 369.9893403050056, 364.7233203693289, 359.33171701493325, 325.0591244677095, 316.12436208128986, 312.58269129878624, 300.085497137686, 299.5250822245396, 368.50535056503793, 1658.9050613985287, 1416.9498077039618, 1174.1296476893829, 4184.815800469029, 957.6295832255031, 2021.8973968194707, 797.1731011209748, 1462.5195127333677, 2864.4704230367306, 880.3524691471765, 727.1397242954439, 1033.6908485754395, 4949.315033335761, 16333.874627916135, 72543.62927807904, 15186.708220829843, 3479.7955987736254, 100625.44381137732, 1783.8210894625838, 1730.881101563173, 3491.70879140664, 2503.213405148122, 1813.7900409360511, 1714.0982062243188, 1628.0912943389112, 1250.1361991906176, 1186.761348894564, 1007.8040197070715, 990.7492537178315, 936.4638116288431, 864.1676620001662, 809.1969657750909, 777.2257711110838, 740.1745506988137, 635.9133599677168, 564.8076816933211, 542.6939194176944, 529.0184534381453, 519.7464158884326, 492.2366730177186, 483.09690309443454, 472.74274581672165, 464.2708857326627, 449.99373989842616, 448.1948873561523, 438.3574906547921, 426.74887463800763, 425.2383116654075, 422.4631278505903, 371.71368091379986, 2422.7337520417996, 16333.874627916135, 2161.7762744901, 4929.9706002502435, 2933.57457514757, 1083.019279499414, 1616.8050585438589, 100625.44381137732, 26615.286527497494, 808.9974777702961, 11495.622473804116, 7525.968328606564, 5493.687955709312, 72543.62927807904, 2397.9501541347604, 2243.714302320434, 1155.8104386427854, 997.4680344092607, 995.3914357794137, 908.4963130240255, 850.6627108505352, 801.1598292667311, 789.4848799525073, 748.0613088075411, 682.3582997695141, 672.1229760736411, 574.2041662851348, 536.4675175832093, 510.75565750361056, 501.4789820563067, 475.4518532923827, 465.5934113272999, 457.5104997596154, 438.5182702994465, 431.7826976343004, 422.91744501492065, 412.8889841020374, 411.626876090678, 404.29132164464124, 360.745923484246, 346.34647883208567, 343.62322343689414, 331.2787082656508, 290.9735896075541, 4156.666738855343, 1661.2829010386306, 12438.37888417525, 1722.4559080921424, 635.2347656077662, 5493.687955709312, 4904.397775288635, 72543.62927807904, 665.4247008414939, 6473.3165494018, 2703.571547246314, 3542.5893358247363, 1476.95002904101, 1681.9680069277451, 3495.5169898213576, 3026.4652916634773, 2990.069194137997, 2721.582926865007, 2577.5478387115427, 2084.934037880989, 1340.3551523872882, 1214.534381741991, 1003.4075168943256, 935.2415718936471, 780.2684444328276, 691.2907847792926, 639.1470782132019, 571.0055653406728, 554.612618254664, 549.9778028793189, 536.0884942304212, 507.2876932006595, 460.70089523468664, 445.9781714217607, 434.2659310454322, 348.15394126307893, 304.1146837332877, 277.67002293946115, 268.431555998465, 241.97789891039673, 239.6732853537567, 237.53825463707608, 236.1377147817126, 230.50743520699982, 3009.8894356889923, 4147.801378212836, 1990.1575896104714, 706.2473097082625, 2422.1465361930977, 1569.721753763581, 1600.5948555706577, 1180.5895631952492, 72543.62927807904, 1165.1692506999348, 5108.777793860838, 100625.44381137732, 15186.708220829843, 2033.910806694758], \"Category\": [\"Default\", \"Default\", \"Default\", \"Default\", \"Default\", \"Default\", \"Default\", \"Default\", \"Default\", \"Default\", \"Default\", \"Default\", \"Default\", \"Default\", \"Default\", \"Default\", \"Default\", \"Default\", \"Default\", \"Default\", \"Default\", \"Default\", \"Default\", \"Default\", \"Default\", \"Default\", \"Default\", \"Default\", \"Default\", \"Default\", \"Topic1\", \"Topic1\", \"Topic1\", \"Topic1\", \"Topic1\", \"Topic1\", \"Topic1\", \"Topic1\", \"Topic1\", \"Topic1\", \"Topic1\", \"Topic1\", \"Topic1\", \"Topic1\", \"Topic1\", \"Topic1\", \"Topic1\", \"Topic1\", \"Topic1\", \"Topic1\", \"Topic1\", \"Topic1\", \"Topic1\", \"Topic1\", \"Topic1\", \"Topic1\", \"Topic1\", \"Topic1\", \"Topic1\", \"Topic1\", \"Topic1\", \"Topic1\", \"Topic1\", \"Topic1\", \"Topic1\", \"Topic1\", \"Topic1\", \"Topic1\", \"Topic1\", \"Topic1\", \"Topic1\", \"Topic1\", \"Topic1\", \"Topic1\", \"Topic1\", \"Topic1\", \"Topic1\", \"Topic1\", \"Topic1\", \"Topic1\", \"Topic1\", \"Topic1\", \"Topic2\", \"Topic2\", \"Topic2\", \"Topic2\", \"Topic2\", \"Topic2\", \"Topic2\", \"Topic2\", \"Topic2\", \"Topic2\", \"Topic2\", \"Topic2\", \"Topic2\", \"Topic2\", \"Topic2\", \"Topic2\", \"Topic2\", \"Topic2\", \"Topic2\", \"Topic2\", \"Topic2\", \"Topic2\", \"Topic2\", \"Topic2\", \"Topic2\", \"Topic2\", \"Topic2\", \"Topic2\", \"Topic2\", \"Topic2\", \"Topic2\", \"Topic2\", \"Topic2\", \"Topic2\", \"Topic2\", \"Topic2\", \"Topic2\", \"Topic2\", \"Topic2\", \"Topic2\", \"Topic2\", \"Topic2\", \"Topic2\", \"Topic2\", \"Topic2\", \"Topic2\", \"Topic2\", \"Topic2\", \"Topic2\", \"Topic2\", \"Topic2\", \"Topic2\", \"Topic2\", \"Topic2\", \"Topic2\", \"Topic2\", \"Topic2\", \"Topic2\", \"Topic2\", \"Topic2\", \"Topic2\", \"Topic2\", \"Topic3\", \"Topic3\", \"Topic3\", \"Topic3\", \"Topic3\", \"Topic3\", \"Topic3\", \"Topic3\", \"Topic3\", \"Topic3\", \"Topic3\", \"Topic3\", \"Topic3\", \"Topic3\", \"Topic3\", \"Topic3\", \"Topic3\", \"Topic3\", \"Topic3\", \"Topic3\", \"Topic3\", \"Topic3\", \"Topic3\", \"Topic3\", \"Topic3\", \"Topic3\", \"Topic3\", \"Topic3\", \"Topic3\", \"Topic3\", \"Topic3\", \"Topic3\", \"Topic3\", \"Topic3\", \"Topic3\", \"Topic3\", \"Topic3\", \"Topic3\", \"Topic3\", \"Topic3\", \"Topic3\", \"Topic3\", \"Topic3\", \"Topic3\", \"Topic3\", \"Topic3\", \"Topic3\", \"Topic3\", \"Topic3\", \"Topic3\", \"Topic3\", \"Topic4\", \"Topic4\", \"Topic4\", \"Topic4\", \"Topic4\", \"Topic4\", \"Topic4\", \"Topic4\", \"Topic4\", \"Topic4\", \"Topic4\", \"Topic4\", \"Topic4\", \"Topic4\", \"Topic4\", \"Topic4\", \"Topic4\", \"Topic4\", \"Topic4\", \"Topic4\", \"Topic4\", \"Topic4\", \"Topic4\", \"Topic4\", \"Topic4\", \"Topic4\", \"Topic4\", \"Topic4\", \"Topic4\", \"Topic4\", \"Topic4\", \"Topic4\", \"Topic4\", \"Topic4\", \"Topic4\", \"Topic4\", \"Topic4\", \"Topic4\", \"Topic4\", \"Topic4\", \"Topic4\", \"Topic4\", \"Topic4\", \"Topic4\", \"Topic4\", \"Topic4\", \"Topic4\", \"Topic4\", \"Topic4\", \"Topic4\", \"Topic4\", \"Topic4\", \"Topic4\", \"Topic5\", \"Topic5\", \"Topic5\", \"Topic5\", \"Topic5\", \"Topic5\", \"Topic5\", \"Topic5\", \"Topic5\", \"Topic5\", \"Topic5\", \"Topic5\", \"Topic5\", \"Topic5\", \"Topic5\", \"Topic5\", \"Topic5\", \"Topic5\", \"Topic5\", \"Topic5\", \"Topic5\", \"Topic5\", \"Topic5\", \"Topic5\", \"Topic5\", \"Topic5\", \"Topic5\", \"Topic5\", \"Topic5\", \"Topic5\", \"Topic5\", \"Topic5\", \"Topic5\", \"Topic5\", \"Topic5\", \"Topic5\", \"Topic5\", \"Topic5\", \"Topic5\", \"Topic5\", \"Topic5\", \"Topic5\", \"Topic5\", \"Topic5\", \"Topic5\", \"Topic5\", \"Topic6\", \"Topic6\", \"Topic6\", \"Topic6\", \"Topic6\", \"Topic6\", \"Topic6\", \"Topic6\", \"Topic6\", \"Topic6\", \"Topic6\", \"Topic6\", \"Topic6\", \"Topic6\", \"Topic6\", \"Topic6\", \"Topic6\", \"Topic6\", \"Topic6\", \"Topic6\", \"Topic6\", \"Topic6\", \"Topic6\", \"Topic6\", \"Topic6\", \"Topic6\", \"Topic6\", \"Topic6\", \"Topic6\", \"Topic6\", \"Topic6\", \"Topic6\", \"Topic6\", \"Topic6\", \"Topic6\", \"Topic6\", \"Topic6\", \"Topic6\", \"Topic6\", \"Topic6\", \"Topic6\", \"Topic6\", \"Topic6\", \"Topic6\", \"Topic6\", \"Topic6\", \"Topic6\", \"Topic6\", \"Topic6\", \"Topic6\", \"Topic6\", \"Topic6\", \"Topic6\", \"Topic6\", \"Topic6\", \"Topic7\", \"Topic7\", \"Topic7\", \"Topic7\", \"Topic7\", \"Topic7\", \"Topic7\", \"Topic7\", \"Topic7\", \"Topic7\", \"Topic7\", \"Topic7\", \"Topic7\", \"Topic7\", \"Topic7\", \"Topic7\", \"Topic7\", \"Topic7\", \"Topic7\", \"Topic7\", \"Topic7\", \"Topic7\", \"Topic7\", \"Topic7\", \"Topic7\", \"Topic7\", \"Topic7\", \"Topic7\", \"Topic7\", \"Topic7\", \"Topic7\", \"Topic7\", \"Topic7\", \"Topic7\", \"Topic7\", \"Topic7\", \"Topic7\", \"Topic7\", \"Topic7\", \"Topic7\", \"Topic7\", \"Topic7\", \"Topic7\", \"Topic7\", \"Topic7\", \"Topic7\", \"Topic7\", \"Topic7\", \"Topic7\", \"Topic7\", \"Topic7\", \"Topic7\", \"Topic7\", \"Topic7\", \"Topic8\", \"Topic8\", \"Topic8\", \"Topic8\", \"Topic8\", \"Topic8\", \"Topic8\", \"Topic8\", \"Topic8\", \"Topic8\", \"Topic8\", \"Topic8\", \"Topic8\", \"Topic8\", \"Topic8\", \"Topic8\", \"Topic8\", \"Topic8\", \"Topic8\", \"Topic8\", \"Topic8\", \"Topic8\", \"Topic8\", \"Topic8\", \"Topic8\", \"Topic8\", \"Topic8\", \"Topic8\", \"Topic8\", \"Topic8\", \"Topic8\", \"Topic8\", \"Topic8\", \"Topic8\", \"Topic8\", \"Topic8\", \"Topic8\", \"Topic8\", \"Topic8\", \"Topic8\", \"Topic8\", \"Topic8\", \"Topic8\", \"Topic8\", \"Topic8\", \"Topic8\", \"Topic8\", \"Topic9\", \"Topic9\", \"Topic9\", \"Topic9\", \"Topic9\", \"Topic9\", \"Topic9\", \"Topic9\", \"Topic9\", \"Topic9\", \"Topic9\", \"Topic9\", \"Topic9\", \"Topic9\", \"Topic9\", \"Topic9\", \"Topic9\", \"Topic9\", \"Topic9\", \"Topic9\", \"Topic9\", \"Topic9\", \"Topic9\", \"Topic9\", \"Topic9\", \"Topic9\", \"Topic9\", \"Topic9\", \"Topic9\", \"Topic9\", \"Topic9\", \"Topic9\", \"Topic9\", \"Topic9\", \"Topic9\", \"Topic9\", \"Topic9\", \"Topic9\", \"Topic9\", \"Topic9\", \"Topic9\", \"Topic9\", \"Topic9\", \"Topic9\", \"Topic9\", \"Topic9\", \"Topic9\", \"Topic9\", \"Topic9\", \"Topic10\", \"Topic10\", \"Topic10\", \"Topic10\", \"Topic10\", \"Topic10\", \"Topic10\", \"Topic10\", \"Topic10\", \"Topic10\", \"Topic10\", \"Topic10\", \"Topic10\", \"Topic10\", \"Topic10\", \"Topic10\", \"Topic10\", \"Topic10\", \"Topic10\", \"Topic10\", \"Topic10\", \"Topic10\", \"Topic10\", \"Topic10\", \"Topic10\", \"Topic10\", \"Topic10\", \"Topic10\", \"Topic10\", \"Topic10\", \"Topic10\", \"Topic10\", \"Topic10\", \"Topic10\", \"Topic10\", \"Topic10\", \"Topic10\", \"Topic10\", \"Topic10\", \"Topic10\", \"Topic10\", \"Topic10\", \"Topic10\", \"Topic10\", \"Topic10\", \"Topic10\", \"Topic10\", \"Topic10\", \"Topic10\", \"Topic10\", \"Topic11\", \"Topic11\", \"Topic11\", \"Topic11\", \"Topic11\", \"Topic11\", \"Topic11\", \"Topic11\", \"Topic11\", \"Topic11\", \"Topic11\", \"Topic11\", \"Topic11\", \"Topic11\", \"Topic11\", \"Topic11\", \"Topic11\", \"Topic11\", \"Topic11\", \"Topic11\", \"Topic11\", \"Topic11\", \"Topic11\", \"Topic11\", \"Topic11\", \"Topic11\", \"Topic11\", \"Topic11\", \"Topic11\", \"Topic11\", \"Topic11\", \"Topic11\", \"Topic11\", \"Topic11\", \"Topic11\", \"Topic11\", \"Topic11\", \"Topic11\", \"Topic11\", \"Topic11\", \"Topic11\", \"Topic11\", \"Topic11\", \"Topic11\", \"Topic11\", \"Topic12\", \"Topic12\", \"Topic12\", \"Topic12\", \"Topic12\", \"Topic12\", \"Topic12\", \"Topic12\", \"Topic12\", \"Topic12\", \"Topic12\", \"Topic12\", \"Topic12\", \"Topic12\", \"Topic12\", \"Topic12\", \"Topic12\", \"Topic12\", \"Topic12\", \"Topic12\", \"Topic12\", \"Topic12\", \"Topic12\", \"Topic12\", \"Topic12\", \"Topic12\", \"Topic12\", \"Topic12\", \"Topic12\", \"Topic12\", \"Topic12\", \"Topic12\", \"Topic12\", \"Topic12\", \"Topic12\", \"Topic12\", \"Topic12\", \"Topic12\", \"Topic12\", \"Topic12\", \"Topic12\", \"Topic12\", \"Topic12\", \"Topic12\", \"Topic12\", \"Topic12\", \"Topic12\", \"Topic12\", \"Topic12\", \"Topic12\", \"Topic12\", \"Topic13\", \"Topic13\", \"Topic13\", \"Topic13\", \"Topic13\", \"Topic13\", \"Topic13\", \"Topic13\", \"Topic13\", \"Topic13\", \"Topic13\", \"Topic13\", \"Topic13\", \"Topic13\", \"Topic13\", \"Topic13\", \"Topic13\", \"Topic13\", \"Topic13\", \"Topic13\", \"Topic13\", \"Topic13\", \"Topic13\", \"Topic13\", \"Topic13\", \"Topic13\", \"Topic13\", \"Topic13\", \"Topic13\", \"Topic13\", \"Topic13\", \"Topic13\", \"Topic13\", \"Topic13\", \"Topic13\", \"Topic13\", \"Topic13\", \"Topic13\", \"Topic13\", \"Topic13\", \"Topic13\", \"Topic13\", \"Topic13\", \"Topic13\", \"Topic14\", \"Topic14\", \"Topic14\", \"Topic14\", \"Topic14\", \"Topic14\", \"Topic14\", \"Topic14\", \"Topic14\", \"Topic14\", \"Topic14\", \"Topic14\", \"Topic14\", \"Topic14\", \"Topic14\", \"Topic14\", \"Topic14\", \"Topic14\", \"Topic14\", \"Topic14\", \"Topic14\", \"Topic14\", \"Topic14\", \"Topic14\", \"Topic14\", \"Topic14\", \"Topic14\", \"Topic14\", \"Topic14\", \"Topic14\", \"Topic14\", \"Topic14\", \"Topic14\", \"Topic14\", \"Topic14\", \"Topic14\", \"Topic14\", \"Topic14\", \"Topic14\", \"Topic14\", \"Topic14\", \"Topic14\", \"Topic14\", \"Topic14\", \"Topic15\", \"Topic15\", \"Topic15\", \"Topic15\", \"Topic15\", \"Topic15\", \"Topic15\", \"Topic15\", \"Topic15\", \"Topic15\", \"Topic15\", \"Topic15\", \"Topic15\", \"Topic15\", \"Topic15\", \"Topic15\", \"Topic15\", \"Topic15\", \"Topic15\", \"Topic15\", \"Topic15\", \"Topic15\", \"Topic15\", \"Topic15\", \"Topic15\", \"Topic15\", \"Topic15\", \"Topic15\", \"Topic15\", \"Topic15\", \"Topic15\", \"Topic15\", \"Topic15\", \"Topic15\", \"Topic15\", \"Topic15\", \"Topic15\", \"Topic15\", \"Topic15\", \"Topic15\", \"Topic15\", \"Topic15\", \"Topic15\", \"Topic15\"], \"logprob\": [30.0, 29.0, 28.0, 27.0, 26.0, 25.0, 24.0, 23.0, 22.0, 21.0, 20.0, 19.0, 18.0, 17.0, 16.0, 15.0, 14.0, 13.0, 12.0, 11.0, 10.0, 9.0, 8.0, 7.0, 6.0, 5.0, 4.0, 3.0, 2.0, 1.0, -2.811199903488159, -2.911099910736084, -2.9302000999450684, -3.1907999515533447, -3.2155001163482666, -3.9495999813079834, -4.33459997177124, -4.7434000968933105, -4.821000099182129, -5.111499786376953, -5.256800174713135, -5.499000072479248, -5.523200035095215, -5.688700199127197, -5.815700054168701, -5.910999774932861, -6.103099822998047, -6.109399795532227, -6.13129997253418, -6.150199890136719, -6.204699993133545, -6.221199989318848, -6.229800224304199, -6.232900142669678, -6.30049991607666, -6.305500030517578, -6.322400093078613, -6.422999858856201, -6.496699810028076, -6.589200019836426, -4.377600193023682, -4.048999786376953, -5.223199844360352, -4.0346999168396, -3.1438000202178955, -4.674499988555908, -3.7871999740600586, -3.357800006866455, -6.026199817657471, -4.009399890899658, -2.210599899291992, -4.141499996185303, -5.497600078582764, -4.861299991607666, -4.215400218963623, -2.821899890899658, -4.667200088500977, -4.244699954986572, -4.050099849700928, -4.057700157165527, -4.906599998474121, -4.795899868011475, -4.083799839019775, -4.28380012512207, -4.736100196838379, -4.763199806213379, -5.053500175476074, -5.311999797821045, -5.332200050354004, -5.48390007019043, -5.5381999015808105, -5.546800136566162, -5.595600128173828, -5.706999778747559, -5.735599994659424, -5.860300064086914, -5.86269998550415, -5.910299777984619, -5.946400165557861, -6.0055999755859375, -6.020299911499023, -6.083399772644043, -6.098299980163574, -6.112599849700928, -6.120299816131592, -5.891600131988525, -6.14709997177124, -6.160299777984619, -6.166399955749512, -6.178400039672852, -6.1880998611450195, -6.213600158691406, -5.712299823760986, -5.072999954223633, -3.486299991607666, -3.3952999114990234, -4.713900089263916, -3.9874000549316406, -5.186200141906738, -3.631200075149536, -5.321700096130371, -4.8796000480651855, -2.38700008392334, -4.562399864196777, -4.647299766540527, -4.495200157165527, -4.105199813842773, -5.576900005340576, -4.689599990844727, -5.226099967956543, -2.330399990081787, -4.730299949645996, -4.415800094604492, -3.889699935913086, -4.547599792480469, -4.962900161743164, -3.2492001056671143, -4.745299816131592, -4.917699813842773, -4.667699813842773, -4.9816999435424805, -4.263199806213379, -4.866700172424316, -4.710000038146973, -3.5227999687194824, -4.1244001388549805, -4.1504998207092285, -4.1855998039245605, -4.615099906921387, -4.641300201416016, -4.662499904632568, -4.801199913024902, -4.968800067901611, -4.969699859619141, -5.036399841308594, -5.076200008392334, -5.273499965667725, -5.36329984664917, -4.541200160980225, -5.394899845123291, -5.416100025177002, -5.478000164031982, -5.493299961090088, -5.511099815368652, -5.537399768829346, -5.542399883270264, -5.603099822998047, -5.605400085449219, -5.703100204467773, -5.710100173950195, -5.7342000007629395, -5.748199939727783, -5.75540018081665, -5.769700050354004, -5.509900093078613, -4.623499870300293, -3.907099962234497, -3.8310999870300293, -4.8242998123168945, -4.270500183105469, -5.268899917602539, -5.0278000831604, -4.399899959564209, -5.0609002113342285, -4.049099922180176, -4.262700080871582, -4.6006999015808105, -3.599400043487549, -4.408699989318848, -4.042900085449219, -3.3239998817443848, -3.684499979019165, -4.416500091552734, -4.5269999504089355, -4.825500011444092, -4.00570011138916, -4.038000106811523, -4.080399990081787, -4.091300010681152, -4.376299858093262, -4.610000133514404, -4.7855000495910645, -4.859099864959717, -4.866700172424316, -4.888700008392334, -4.944499969482422, -4.975100040435791, -4.997399806976318, -5.000899791717529, -5.015100002288818, -5.075399875640869, -5.125, -5.264999866485596, -5.270599842071533, -5.30109977722168, -5.3024001121521, -5.3105998039245605, -5.330599784851074, -5.403299808502197, -5.401400089263916, -5.477499961853027, -5.491099834442139, -5.595099925994873, -5.597899913787842, -5.726600170135498, -5.381499767303467, -2.8643999099731445, -4.392199993133545, -3.7193000316619873, -4.841100215911865, -4.505499839782715, -4.272900104522705, -3.353800058364868, -4.217199802398682, -4.910900115966797, -4.349400043487549, -2.809999942779541, -4.489699840545654, -3.6624999046325684, -3.3183999061584473, -4.486199855804443, -4.577000141143799, -4.56820011138916, -4.392499923706055, -4.819900035858154, -4.414000034332275, -4.770500183105469, -4.675099849700928, -2.1145999431610107, -3.3540000915527344, -3.4059998989105225, -3.6012001037597656, -3.665800094604492, -3.8338000774383545, -4.0920000076293945, -4.122000217437744, -4.230299949645996, -4.440800189971924, -4.453800201416016, -4.5995001792907715, -4.639999866485596, -4.685400009155273, -4.928899765014648, -4.934599876403809, -4.96999979019165, -5.162499904632568, -5.277599811553955, -5.321899890899658, -5.3383002281188965, -5.359399795532227, -5.384799957275391, -5.423299789428711, -5.445099830627441, -5.447700023651123, -5.480599880218506, -5.5106000900268555, -5.637800216674805, -5.640900135040283, -3.89520001411438, -4.4604997634887695, -3.606100082397461, -4.086400032043457, -4.657199859619141, -4.856100082397461, -4.167399883270264, -4.599100112915039, -2.411400079727173, -4.751999855041504, -2.716399908065796, -4.329999923706055, -4.732800006866455, -4.7434000968933105, -4.781400203704834, -4.864999771118164, -4.140900135040283, -4.273499965667725, -4.378799915313721, -4.531199932098389, -4.561100006103516, -4.6092000007629395, -4.643700122833252, -4.820799827575684, -4.879700183868408, -4.910799980163574, -4.919600009918213, -5.02810001373291, -5.089200019836426, -5.111999988555908, -5.137499809265137, -5.231100082397461, -5.254799842834473, -5.286300182342529, -5.375999927520752, -5.422299861907959, -5.467700004577637, -5.493800163269043, -5.524199962615967, -5.54040002822876, -5.5605998039245605, -5.600800037384033, -5.623499870300293, -5.625699996948242, -5.662099838256836, -5.67710018157959, -4.512599945068359, -2.9158999919891357, -4.456200122833252, -4.479599952697754, -4.242800235748291, -5.0441999435424805, -4.686999797821045, -4.3470001220703125, -4.868899822235107, -4.864299774169922, -5.0289998054504395, -5.040599822998047, -2.852400064468384, -3.037400007247925, -3.659600019454956, -4.469399929046631, -4.532299995422363, -4.6596999168396, -4.813700199127197, -4.8180999755859375, -4.783400058746338, -4.776000022888184, -4.650100231170654, -4.8018999099731445, -4.84660005569458, -2.561800003051758, -3.8041000366210938, -4.098299980163574, -4.1092000007629395, -4.507599830627441, -4.5457000732421875, -4.682000160217285, -5.059899806976318, -5.059899806976318, -5.064599990844727, -5.102399826049805, -5.155300140380859, -5.1905999183654785, -5.225399971008301, -5.255799770355225, -5.373000144958496, -5.431099891662598, -5.44890022277832, -5.498600006103516, -5.610499858856201, -5.644199848175049, -5.651400089263916, -5.667699813842773, -5.657199859619141, -5.674300193786621, -5.6793999671936035, -5.6803998947143555, -5.763400077819824, -5.764999866485596, -5.827099800109863, -4.717299938201904, -2.8671998977661133, -4.601399898529053, -4.485199928283691, -3.830899953842163, -4.020199775695801, -3.6171000003814697, -2.228800058364868, -3.99429988861084, -3.8406999111175537, -4.592299938201904, -3.8443000316619873, -4.383299827575684, -4.465700149536133, -4.213799953460693, -4.599400043487549, -5.05079984664917, -4.117199897766113, -3.9191999435424805, -4.753799915313721, -3.6184000968933105, -3.722599983215332, -4.587600231170654, -4.814599990844727, -2.3541998863220215, -2.7172000408172607, -3.4809000492095947, -3.613300085067749, -4.000899791717529, -4.1834001541137695, -4.312600135803223, -4.414599895477295, -4.480599880218506, -4.604400157928467, -4.665200233459473, -4.975100040435791, -5.230999946594238, -5.253799915313721, -5.261499881744385, -5.340000152587891, -5.3628997802734375, -5.372200012207031, -5.375699996948242, -5.399199962615967, -5.434199810028076, -5.478799819946289, -5.485099792480469, -5.487100124359131, -5.499800205230713, -5.500500202178955, -5.561399936676025, -5.5833001136779785, -5.604800224304199, -5.612599849700928, -4.767499923706055, -3.5927000045776367, -4.621200084686279, -5.003600120544434, -2.9965999126434326, -4.491499900817871, -1.8323999643325806, -4.982699871063232, -4.069699764251709, -2.8808000087738037, -4.444200038909912, -5.095600128173828, -4.754499912261963, -4.837100028991699, -4.450699806213379, -5.039700031280518, -5.085000038146973, -2.7455999851226807, -2.827399969100952, -3.0803000926971436, -3.2927000522613525, -3.496999979019165, -3.8338000774383545, -3.880500078201294, -4.027100086212158, -4.315100193023682, -4.396299839019775, -4.461100101470947, -4.766600131988525, -5.023600101470947, -5.045499801635742, -5.0929999351501465, -5.2322001457214355, -5.2993998527526855, -5.384799957275391, -5.407800197601318, -5.547999858856201, -5.6290998458862305, -5.714399814605713, -5.739999771118164, -5.780200004577637, -5.871699810028076, -6.004300117492676, -6.075300216674805, -6.1305999755859375, -6.28879976272583, -6.291900157928467, -3.455199956893921, -4.054599761962891, -3.453900098800659, -3.456899881362915, -4.230899810791016, -4.266200065612793, -4.198299884796143, -4.411099910736084, -5.257199764251709, -3.8125998973846436, -4.163599967956543, -3.12280011177063, -2.7090001106262207, -3.992799997329712, -3.774399995803833, -3.0736000537872314, -4.15910005569458, -4.741300106048584, -4.8907999992370605, -2.574700117111206, -3.1614999771118164, -3.2948999404907227, -4.013700008392334, -4.526100158691406, -4.67080020904541, -4.686999797821045, -4.698699951171875, -5.221700191497803, -5.250699996948242, -5.268899917602539, -5.318600177764893, -5.342899799346924, -5.344799995422363, -5.400599956512451, -5.468599796295166, -5.4745001792907715, -5.528299808502197, -5.577499866485596, -5.615799903869629, -5.634799957275391, -5.666600227355957, -5.676799774169922, -5.7453999519348145, -5.773799896240234, -5.8018999099731445, -5.860899925231934, -5.861599922180176, -5.885000228881836, -5.941299915313721, -5.137599945068359, -4.105899810791016, -2.2483999729156494, -5.54449987411499, -4.076200008392334, -4.516900062561035, -4.826499938964844, -1.9016000032424927, -4.556700229644775, -5.229599952697754, -5.257999897003174, -3.507200002670288, -4.998899936676025, -4.290299892425537, -4.831999778747559, -4.966300010681152, -5.120999813079834, -4.726600170135498, -4.574100017547607, -4.9766998291015625, -3.0820000171661377, -3.587399959564209, -3.898400068283081, -4.0858001708984375, -4.130199909210205, -4.258900165557861, -4.305699825286865, -4.353099822998047, -4.543000221252441, -4.630499839782715, -4.685699939727783, -4.809999942779541, -4.896399974822998, -4.909800052642822, -4.936699867248535, -4.959400177001953, -4.966300010681152, -5.003699779510498, -5.007599830627441, -5.074999809265137, -5.0868000984191895, -5.086999893188477, -5.127799987792969, -5.129300117492676, -5.250800132751465, -5.260700225830078, -5.276400089263916, -5.285099983215332, -5.285200119018555, -5.3557000160217285, -5.256199836730957, -4.1230998039245605, -4.6631999015808105, -4.450300216674805, -4.463399887084961, -4.679200172424316, -3.536600112915039, -2.324399948120117, -4.377900123596191, -4.028200149536133, -3.520900011062622, -4.77239990234375, -4.7571001052856445, -4.2220001220703125, -4.774400234222412, -3.6921000480651855, -3.8475000858306885, -3.8907999992370605, -3.652899980545044, -4.2947998046875, -4.470600128173828, -4.587500095367432, -4.736700057983398, -4.838500022888184, -4.86460018157959, -4.882400035858154, -4.8846001625061035, -4.913700103759766, -4.93310022354126, -4.963500022888184, -5.035999774932861, -5.049900054931641, -5.20550012588501, -5.231500148773193, -5.281199932098389, -5.319699764251709, -5.382900238037109, -5.388199806213379, -5.402500152587891, -5.417399883270264, -5.5177001953125, -5.545599937438965, -5.5569000244140625, -5.597700119018555, -5.599599838256836, -5.392399787902832, -3.9851999282836914, -4.269599914550781, -4.448500156402588, -3.418600082397461, -4.6356000900268555, -4.095200061798096, -4.85129976272583, -4.443399906158447, -4.020400047302246, -4.815299987792969, -4.938000202178955, -4.748000144958496, -4.117400169372559, -3.6786000728607178, -3.1331000328063965, -3.807300090789795, -4.5370001792907715, -3.8336000442504883, -4.84660005569458, -4.854300022125244, -2.9814999103546143, -3.314300060272217, -3.6364998817443848, -3.693000078201294, -3.744499921798706, -4.008699893951416, -4.060800075531006, -4.2241997718811035, -4.241300106048584, -4.297699928283691, -4.377999782562256, -4.44379997253418, -4.484099864959717, -4.532899856567383, -4.684800148010254, -4.803400039672852, -4.843400001525879, -4.868899822235107, -4.886600017547607, -4.940999984741211, -4.959799766540527, -4.981400012969971, -4.999499797821045, -5.030799865722656, -5.034800052642822, -5.057000160217285, -5.083799839019775, -5.087399959564209, -5.093900203704834, -5.2220001220703125, -3.7583000659942627, -2.2737998962402344, -3.8752999305725098, -3.5857999324798584, -3.936500072479248, -4.563000202178955, -4.444799900054932, -2.827199935913086, -3.498500108718872, -4.796899795532227, -4.158899784088135, -4.441400051116943, -4.719600200653076, -4.735099792480469, -3.274899959564209, -3.341399908065796, -4.004799842834473, -4.152200222015381, -4.154300212860107, -4.24560022354126, -4.311399936676025, -4.371399879455566, -4.386099815368652, -4.440000057220459, -4.531899929046631, -4.546999931335449, -4.704599857330322, -4.772600173950195, -4.821700096130371, -4.840000152587891, -4.8933000564575195, -4.914299964904785, -4.93179988861084, -4.9741997718811035, -4.989699840545654, -5.010499954223633, -5.0345001220703125, -5.037600040435791, -5.055500030517578, -5.169600009918213, -5.210299968719482, -5.218200206756592, -5.254799842834473, -5.3846001625061035, -3.2374000549316406, -4.003600120544434, -2.655400037765503, -4.132199764251709, -4.821100234985352, -3.7291998863220215, -3.7988998889923096, -3.1995999813079834, -4.872300148010254, -4.192399978637695, -4.492300033569336, -4.442299842834473, -4.662799835205078, -4.7058000564575195, -2.806299924850464, -2.9504001140594482, -2.9625000953674316, -3.0566000938415527, -3.1110000610351562, -3.3231000900268555, -3.764899969100952, -3.8635001182556152, -4.054500102996826, -4.124899864196777, -4.306099891662598, -4.427199840545654, -4.5055999755859375, -4.6184000968933105, -4.647600173950195, -4.656000137329102, -4.68149995803833, -4.736800193786621, -4.833199977874756, -4.865600109100342, -4.892300128936768, -5.113399982452393, -5.248700141906738, -5.339700222015381, -5.373600006103516, -5.477399826049805, -5.486999988555908, -5.495999813079834, -5.5019001960754395, -5.526000022888184, -3.1419999599456787, -2.956199884414673, -3.654599905014038, -4.581999778747559, -3.6059000492095947, -3.9751999378204346, -4.062699794769287, -4.29610013961792, -2.8548998832702637, -4.669600009918213, -4.35099983215332, -3.870699882507324, -4.389599800109863, -4.625699996948242], \"loglift\": [30.0, 29.0, 28.0, 27.0, 26.0, 25.0, 24.0, 23.0, 22.0, 21.0, 20.0, 19.0, 18.0, 17.0, 16.0, 15.0, 14.0, 13.0, 12.0, 11.0, 10.0, 9.0, 8.0, 7.0, 6.0, 5.0, 4.0, 3.0, 2.0, 1.0, 2.0504, 2.0503, 2.0503, 2.0503, 2.0503, 2.0503, 2.0503, 2.0502, 2.0502, 2.0502, 2.0502, 2.0501, 2.0501, 2.0501, 2.05, 2.05, 2.0499, 2.0499, 2.0499, 2.0499, 2.0499, 2.0499, 2.0498, 2.0498, 2.0498, 2.0498, 2.0498, 2.0497, 2.0497, 2.0496, 2.0355, 2.0056, 1.9826, 1.8918, 1.7606, 1.879, 1.7376, 1.4346, 2.0034, 1.3621, 0.4912, 1.1448, 1.7405, 1.403, 1.0278, 0.2071, 1.2259, 0.8695, 0.5427, -0.026, 0.6588, -0.6933, 2.365, 2.365, 2.3649, 2.3649, 2.3649, 2.3648, 2.3648, 2.3648, 2.3648, 2.3647, 2.3647, 2.3647, 2.3647, 2.3646, 2.3646, 2.3646, 2.3646, 2.3645, 2.3645, 2.3645, 2.3645, 2.3645, 2.3645, 2.3645, 2.3645, 2.3644, 2.3644, 2.3644, 2.3644, 2.3644, 2.3643, 2.278, 2.0791, 2.0502, 2.1959, 2.0788, 2.235, 1.9983, 2.2253, 2.1386, 1.6447, 2.0773, 2.0943, 2.0043, 1.7879, 2.2551, 1.8409, 2.079, 0.3713, 1.6963, 1.4309, 0.9815, 1.4096, 1.7766, -0.2202, 1.5155, 1.6591, 1.2146, 1.727, 0.3295, 1.3419, -0.6074, 2.5522, 2.5521, 2.5521, 2.5521, 2.552, 2.552, 2.552, 2.552, 2.552, 2.552, 2.552, 2.5519, 2.5519, 2.5519, 2.5518, 2.5518, 2.5518, 2.5518, 2.5518, 2.5518, 2.5518, 2.5518, 2.5518, 2.5517, 2.5517, 2.5517, 2.5517, 2.5517, 2.5517, 2.5517, 2.5475, 2.3327, 2.1674, 2.1357, 2.2399, 1.9161, 2.3295, 2.1621, 1.6484, 2.147, 1.2371, 1.3669, 1.6212, 0.5032, 1.3585, 0.8283, -0.295, -0.9827, 0.1762, 0.2654, 1.1041, 2.6164, 2.6164, 2.6164, 2.6164, 2.6164, 2.6163, 2.6163, 2.6163, 2.6163, 2.6163, 2.6163, 2.6163, 2.6163, 2.6163, 2.6163, 2.6162, 2.6162, 2.6162, 2.6162, 2.6162, 2.6162, 2.6162, 2.6162, 2.6161, 2.6161, 2.6161, 2.6161, 2.616, 2.616, 2.616, 2.6159, 2.2498, 2.3534, 2.0479, 2.3955, 2.2401, 1.8596, 1.1662, 1.7125, 2.2503, 1.6682, -0.1083, 1.6708, 0.4401, -0.2895, 1.2316, 1.3977, 1.3224, 0.5118, 1.8476, -0.3823, 1.3752, 0.1961, 2.6502, 2.6502, 2.6502, 2.6502, 2.6502, 2.6502, 2.6502, 2.6502, 2.6501, 2.6501, 2.6501, 2.6501, 2.6501, 2.6501, 2.65, 2.65, 2.65, 2.6499, 2.6499, 2.6499, 2.6499, 2.6499, 2.6499, 2.6498, 2.6498, 2.6498, 2.6498, 2.6498, 2.6497, 2.6497, 2.5559, 2.5528, 2.4143, 2.2095, 2.3779, 2.375, 2.0294, 2.1814, 0.6176, 2.146, -0.0146, 1.6271, 2.0582, 0.8662, 0.4617, 1.5632, 2.6565, 2.6565, 2.6565, 2.6565, 2.6565, 2.6565, 2.6565, 2.6564, 2.6564, 2.6564, 2.6564, 2.6564, 2.6564, 2.6564, 2.6563, 2.6563, 2.6563, 2.6563, 2.6563, 2.6562, 2.6562, 2.6562, 2.6562, 2.6562, 2.6562, 2.6562, 2.6561, 2.6561, 2.6561, 2.6561, 2.6559, 2.568, 2.611, 2.5908, 2.5371, 2.5484, 2.4489, 2.1108, 2.3456, 2.2131, 2.3286, 2.3353, -0.1507, -0.0084, 0.443, 1.1402, 1.1856, 1.27, 1.6417, 1.6104, 1.4536, 1.1907, -0.0574, 0.8803, 0.5248, 2.7288, 2.7287, 2.7287, 2.7287, 2.7286, 2.7286, 2.7286, 2.7285, 2.7285, 2.7285, 2.7285, 2.7284, 2.7284, 2.7284, 2.7284, 2.7283, 2.7283, 2.7283, 2.7283, 2.7282, 2.7282, 2.7282, 2.7282, 2.7282, 2.7282, 2.7282, 2.7282, 2.7281, 2.7281, 2.7281, 2.6986, 2.4276, 2.5573, 2.5283, 2.3445, 2.3486, 2.2297, 1.8738, 2.2275, 2.0416, 2.3241, 1.8696, 2.1056, 2.1078, 1.9186, 1.8978, 2.4326, 0.754, 0.1125, 1.809, -0.9166, -0.6937, 0.9372, 0.8676, 2.7324, 2.7324, 2.7324, 2.7324, 2.7323, 2.7323, 2.7323, 2.7323, 2.7323, 2.7323, 2.7322, 2.7322, 2.7321, 2.7321, 2.7321, 2.732, 2.732, 2.732, 2.732, 2.732, 2.732, 2.732, 2.732, 2.732, 2.732, 2.732, 2.7319, 2.7319, 2.7319, 2.7319, 2.6113, 2.382, 2.3698, 2.5037, 1.5962, 2.2436, 0.8693, 2.4831, 1.8188, 0.1482, 1.7015, 2.386, 1.7914, 1.88, 0.8441, 1.794, 0.9894, 2.7878, 2.7878, 2.7878, 2.7878, 2.7877, 2.7877, 2.7877, 2.7877, 2.7877, 2.7876, 2.7876, 2.7876, 2.7875, 2.7875, 2.7875, 2.7874, 2.7874, 2.7874, 2.7873, 2.7873, 2.7872, 2.7872, 2.7872, 2.7871, 2.7871, 2.787, 2.7869, 2.7868, 2.7867, 2.7867, 2.646, 2.6523, 2.6039, 2.5902, 2.5971, 2.5833, 2.5039, 2.5168, 2.5758, 1.8696, 1.854, 0.9089, 0.32, 1.3787, 1.0968, -0.3718, 0.7453, 1.8355, 2.045, 2.8292, 2.8292, 2.8292, 2.8291, 2.829, 2.829, 2.829, 2.829, 2.8288, 2.8288, 2.8288, 2.8288, 2.8288, 2.8288, 2.8288, 2.8287, 2.8287, 2.8287, 2.8287, 2.8286, 2.8286, 2.8286, 2.8286, 2.8286, 2.8285, 2.8285, 2.8285, 2.8285, 2.8284, 2.8284, 2.8273, 2.8022, 2.7577, 2.8248, 2.7921, 2.4992, 2.5719, 0.8001, 2.2033, 2.5722, 2.5853, 0.5954, 2.1071, 0.9529, 0.891, 1.2203, 1.7127, -0.2067, -1.5451, 0.3095, 2.9197, 2.9197, 2.9196, 2.9196, 2.9196, 2.9196, 2.9196, 2.9196, 2.9195, 2.9195, 2.9195, 2.9195, 2.9194, 2.9194, 2.9194, 2.9194, 2.9194, 2.9194, 2.9194, 2.9194, 2.9194, 2.9194, 2.9194, 2.9194, 2.9193, 2.9193, 2.9193, 2.9193, 2.9193, 2.9193, 2.9087, 2.6757, 2.7489, 2.5959, 2.5375, 2.6333, 1.7066, 0.7045, 2.2601, 1.6948, 0.9991, 2.4827, 2.4111, 1.0643, 1.7251, 2.9197, 2.9197, 2.9196, 2.9196, 2.9196, 2.9196, 2.9195, 2.9195, 2.9195, 2.9195, 2.9194, 2.9194, 2.9194, 2.9194, 2.9194, 2.9194, 2.9194, 2.9193, 2.9193, 2.9193, 2.9193, 2.9192, 2.9192, 2.9192, 2.9192, 2.9192, 2.9191, 2.9191, 2.9191, 2.9191, 2.9191, 2.8218, 2.695, 2.7041, 2.4631, 2.7209, 2.5139, 2.6886, 2.4896, 2.2404, 2.6253, 2.6938, 2.532, 1.5965, 0.8413, -0.1041, 0.7854, 1.5292, -1.1319, 1.8878, 1.9102, 3.0813, 3.0813, 3.0812, 3.0812, 3.0812, 3.0812, 3.0812, 3.0811, 3.0811, 3.0811, 3.0811, 3.0811, 3.0811, 3.0811, 3.081, 3.081, 3.081, 3.081, 3.081, 3.0809, 3.0809, 3.0809, 3.0809, 3.0809, 3.0809, 3.0809, 3.0809, 3.0809, 3.0809, 3.0808, 2.6699, 2.2462, 2.667, 2.132, 2.3004, 2.6704, 2.3879, -0.1254, 0.5332, 2.7282, 0.7123, 0.8534, 0.89, -1.7062, 3.1636, 3.1636, 3.1635, 3.1635, 3.1635, 3.1635, 3.1635, 3.1635, 3.1635, 3.1635, 3.1634, 3.1634, 3.1634, 3.1634, 3.1633, 3.1633, 3.1633, 3.1633, 3.1633, 3.1633, 3.1633, 3.1633, 3.1632, 3.1632, 3.1632, 3.1632, 3.1632, 3.1631, 3.1631, 3.163, 2.6511, 2.802, 2.137, 2.6372, 2.9458, 1.8804, 1.9241, -0.1706, 2.8481, 1.2531, 1.8263, 1.606, 2.2604, 2.0874, 3.2554, 3.2554, 3.2554, 3.2554, 3.2554, 3.2553, 3.2553, 3.2553, 3.2552, 3.2552, 3.2552, 3.2552, 3.2551, 3.2551, 3.2551, 3.2551, 3.2551, 3.2551, 3.255, 3.255, 3.255, 3.2549, 3.2548, 3.2547, 3.2547, 3.2546, 3.2546, 3.2546, 3.2546, 3.2546, 3.0693, 2.9344, 2.9703, 3.079, 2.8226, 2.8871, 2.7801, 2.851, 0.174, 2.4907, 1.3312, -1.1689, 0.2032, 1.9775]}, \"token.table\": {\"Topic\": [9, 6, 12, 7, 6, 13, 7, 15, 3, 7, 11, 8, 5, 5, 9, 10, 2, 7, 9, 9, 1, 10, 12, 2, 10, 3, 4, 11, 6, 7, 6, 3, 4, 6, 10, 11, 12, 13, 2, 3, 5, 9, 5, 8, 15, 6, 7, 9, 3, 8, 11, 9, 10, 1, 2, 13, 5, 4, 15, 13, 8, 8, 14, 12, 12, 14, 6, 9, 11, 8, 1, 10, 6, 2, 3, 4, 8, 3, 1, 2, 3, 7, 9, 12, 3, 15, 3, 12, 15, 2, 3, 1, 4, 15, 2, 1, 8, 9, 3, 6, 12, 7, 9, 13, 5, 15, 2, 10, 15, 12, 9, 14, 5, 2, 4, 10, 7, 10, 13, 9, 12, 9, 8, 15, 3, 2, 10, 9, 15, 13, 5, 9, 4, 6, 14, 2, 14, 3, 9, 10, 15, 4, 6, 13, 8, 12, 13, 14, 2, 6, 15, 6, 12, 12, 12, 8, 5, 8, 5, 8, 6, 3, 4, 5, 2, 14, 10, 1, 2, 3, 5, 6, 8, 12, 14, 15, 3, 1, 2, 3, 4, 5, 6, 7, 8, 9, 10, 11, 12, 13, 14, 15, 11, 10, 10, 5, 11, 1, 15, 5, 11, 1, 2, 4, 5, 10, 11, 12, 3, 3, 5, 12, 7, 15, 15, 13, 5, 10, 12, 9, 11, 5, 6, 4, 7, 12, 4, 6, 14, 7, 15, 3, 7, 1, 12, 2, 3, 7, 12, 1, 6, 13, 7, 4, 2, 8, 10, 12, 14, 11, 13, 14, 11, 6, 8, 11, 4, 14, 9, 14, 6, 9, 13, 14, 10, 7, 12, 4, 7, 4, 3, 8, 15, 2, 3, 10, 12, 4, 13, 8, 1, 3, 4, 9, 13, 8, 8, 1, 4, 11, 4, 12, 15, 7, 6, 8, 15, 5, 3, 15, 15, 13, 3, 12, 1, 1, 2, 11, 13, 1, 2, 4, 6, 15, 1, 11, 1, 4, 11, 13, 12, 3, 4, 6, 7, 8, 9, 12, 13, 11, 4, 10, 2, 4, 3, 8, 1, 2, 3, 4, 6, 7, 9, 13, 1, 3, 5, 6, 7, 10, 11, 12, 14, 5, 6, 12, 1, 2, 3, 4, 14, 9, 13, 10, 1, 3, 4, 6, 10, 12, 1, 1, 14, 13, 1, 4, 1, 4, 6, 8, 11, 12, 13, 6, 9, 12, 8, 5, 2, 5, 4, 1, 4, 11, 4, 5, 6, 8, 12, 13, 14, 6, 4, 6, 7, 13, 1, 12, 9, 3, 10, 8, 10, 12, 1, 2, 4, 10, 3, 6, 8, 10, 6, 1, 2, 11, 10, 7, 7, 1, 14, 12, 1, 15, 1, 2, 3, 7, 12, 1, 2, 3, 12, 6, 12, 15, 4, 5, 5, 11, 8, 3, 15, 6, 15, 2, 6, 13, 9, 6, 2, 2, 7, 12, 5, 5, 12, 1, 2, 3, 10, 1, 2, 7, 9, 14, 1, 11, 11, 13, 10, 4, 7, 12, 2, 7, 1, 2, 7, 10, 7, 8, 14, 6, 15, 6, 14, 3, 4, 7, 13, 3, 3, 4, 7, 12, 14, 1, 2, 3, 2, 7, 9, 11, 12, 1, 2, 2, 6, 9, 12, 6, 9, 11, 13, 9, 3, 8, 10, 2, 11, 14, 1, 4, 6, 7, 4, 3, 4, 6, 9, 14, 7, 12, 3, 4, 7, 5, 9, 2, 3, 6, 10, 6, 3, 3, 4, 5, 6, 11, 12, 14, 15, 7, 2, 6, 12, 14, 13, 6, 6, 6, 2, 5, 2, 10, 7, 15, 1, 10, 1, 1, 4, 10, 3, 10, 14, 1, 10, 12, 2, 3, 12, 9, 5, 4, 5, 12, 5, 2, 3, 6, 7, 12, 9, 1, 3, 15, 4, 5, 1, 6, 8, 9, 11, 12, 2, 9, 10, 4, 9, 15, 10, 4, 7, 14, 2, 1, 2, 4, 9, 3, 5, 10, 11, 1, 4, 6, 7, 9, 14, 13, 10, 10, 14, 2, 1, 3, 14, 1, 2, 3, 5, 11, 14, 9, 5, 10, 9, 13, 4, 2, 9, 10, 11, 6, 8, 14, 11, 4, 14, 2, 14, 2, 3, 4, 6, 7, 9, 12, 13, 5, 10, 6, 7, 9, 14, 1, 10, 1, 1, 11, 9, 3, 7, 2, 7, 14, 2, 3, 6, 7, 9, 12, 15, 5, 9, 11, 5, 5, 3, 9, 7, 5, 10, 2, 11, 13, 2, 9, 1, 4, 3, 15, 4, 12, 13, 3, 6, 11, 4, 13, 7, 5, 13, 10, 4, 12, 5, 6, 3, 6, 15, 15, 7, 12, 2, 5, 6, 7, 8, 12, 2, 1, 4, 6, 9, 10, 13, 14, 3, 14, 14, 11, 6, 9, 9, 13, 3, 1, 14, 3, 5, 8, 6, 4, 6, 6, 3, 2, 9, 7, 2, 3, 12, 5, 12, 11, 6, 4, 12, 3, 4, 5, 7, 12, 1, 12, 7, 11, 4, 8, 8, 13, 3, 5, 4, 3, 8, 12, 1, 9, 4, 1, 2, 3, 4, 6, 10, 11, 12, 3, 7, 7, 13, 5, 9, 4, 6, 15, 15, 14, 1, 11, 2, 1, 2, 6, 11, 12, 13, 9, 1, 2, 13, 14, 11, 4, 11, 11, 12, 4, 11, 7, 14, 7, 14, 1, 2, 9, 10, 2, 8, 13, 4, 6, 15, 6, 4, 13, 2, 9, 4, 5, 6, 9, 14, 4, 7, 12, 2, 1, 11, 2, 12, 3, 15, 8, 8, 6, 8, 10, 8, 3, 1, 5, 4, 6, 13, 15, 7, 15, 3, 7, 6, 12, 8, 12, 3, 7, 2, 12, 1, 4, 10, 1, 1, 2, 3, 4, 6, 7, 10, 11, 12, 2, 3, 3, 2, 10, 13, 5, 2, 3, 10, 11, 12, 14, 2, 1, 4, 9, 14, 11, 1, 8, 5, 14, 8, 11, 8, 3, 14, 2, 6, 1, 4, 10, 14, 4, 6, 7, 8, 13, 3, 11, 13, 3, 5, 6, 11, 13, 14, 15, 13, 13, 1, 2, 3, 4, 5, 6, 7, 8, 9, 10, 11, 12, 13, 14, 15, 8, 1, 2, 4, 11, 12, 6, 13, 6, 3, 7, 8, 12, 4, 6, 11, 4, 6, 14, 12, 1, 2, 3, 4, 10, 11, 12, 2, 11, 3, 7, 7, 15, 6, 3, 4, 6, 7, 10, 7, 12, 1, 7, 13, 4, 10, 10, 1, 4, 12, 14, 3, 6, 12, 7, 11, 1, 13, 6, 4, 11, 6, 10, 4, 6, 3, 4, 11, 12, 4, 6, 14, 5, 13, 12, 15, 3, 2, 6, 9, 10, 1, 9, 10, 12], \"Freq\": [1.000029907604816, 0.8124604698091566, 0.18761973735799084, 1.0001941256087286, 0.9985150612697559, 0.9998059844084213, 0.9980622843509597, 1.0006492385155037, 0.995587316006812, 0.004209671526455865, 0.9992620935171191, 0.9996389584547738, 1.0001064352462832, 0.9989841425634938, 0.7529101182387491, 0.24698926012878936, 1.0009016350980557, 0.9990347468205747, 0.9998550369948995, 0.9979185659022154, 0.22650371107921338, 0.7731617060876995, 1.0002841132524076, 1.000461751694369, 1.0005088711424166, 1.00001939910549, 1.0001944170854458, 0.9994431051293509, 0.7250939649147762, 0.2747052025668315, 0.9993722151601777, 0.0036733476512336104, 0.23448202507041213, 0.008387477136983412, 0.04799840930945251, 0.14650534882336716, 0.12513870998535834, 0.43382235761068944, 0.38473739845361954, 0.16260502238729665, 0.35948336962009325, 0.09328529018098478, 0.3043127303919836, 0.6955719551816768, 0.9995600110214875, 1.0002212173081915, 0.9999641446710567, 0.9998981179437069, 0.11426812960878525, 0.8863789493017922, 1.00010411992052, 1.0000072594191531, 0.9999605836277161, 0.444556211057178, 0.5549909605720157, 0.9999427067690975, 0.9988910843820495, 0.9987008355932114, 1.0000316375088194, 1.0007702678187584, 0.9999447605769141, 1.0001211982605749, 0.9991586894699334, 1.00063440395402, 0.9982469507373478, 0.9990448611538162, 0.05728190062131372, 0.8321549742001795, 0.11085900169995541, 0.9995429163615802, 1.0001907622067492, 0.9980870352558564, 0.9999622008540059, 0.5920628777343098, 0.19156320136731722, 0.21670872899309873, 1.0004813738621228, 0.9996918284085681, 0.04070983757772869, 0.17982849512681728, 0.0984088199713599, 0.6808479922448483, 0.2544435414794661, 0.7451560857612936, 0.169773678043103, 0.830263055635449, 1.0005586393998793, 0.9994259192996588, 1.0000403600301047, 0.7974295683571733, 0.2025217951383297, 0.9999008594669605, 1.0002420757172688, 0.9996228931405751, 0.9996930815254249, 0.998751247057057, 0.9998931954923477, 0.9999155383241652, 1.0002920789817469, 1.000165150075478, 0.9996066039312153, 1.0002915546557813, 0.9997797472559884, 0.9995651727370164, 0.9993528160136333, 0.9998349260777397, 0.9998834327335546, 1.0000825575463972, 0.9999902534388269, 0.9997953385448968, 0.9962046721070772, 1.0005032678865786, 0.999831688511067, 0.9991175086199294, 0.9995337538685325, 0.99851162818624, 0.0019188047471548945, 0.9977784685205451, 0.9997641763032126, 0.8732310733524895, 0.12653941849954875, 0.9984950507944869, 1.000015041538345, 0.9997874574029957, 0.9995414181845423, 0.21579176546402953, 0.7833071171568315, 1.0001990499407867, 1.0000913351578917, 1.0002530875307023, 0.9993062071796455, 0.9985856667866574, 0.29547290958145156, 0.5794670154813215, 0.12499141786611044, 0.9993648594858873, 0.9991285258326255, 0.5293237464106377, 0.16887793746475338, 0.19999556125864268, 0.1014564192446599, 0.24168466893817914, 0.3003162106269899, 0.45814413970791645, 0.7793142121906055, 0.0023297883772514364, 0.21783521327300928, 0.9996067519115159, 1.0003907902650322, 0.1614165440815502, 0.8382332815462958, 0.2011362706360196, 0.7988991521402603, 1.0001028396123453, 0.9986286479578571, 1.0000522981141107, 1.0000244091226016, 0.999970441521293, 1.000001330018948, 0.999771368241244, 0.9991340010631853, 0.9998140547247991, 0.9993521785037869, 0.9999695399458528, 0.9980599085686701, 0.9989996178588157, 1.0006607211830203, 0.22144364342151274, 0.1305747085652274, 0.09291019353783957, 0.0009877058136552753, 0.06624213656914714, 0.3210043894379645, 0.11832715647590199, 0.0012510940306300156, 0.04727818494696585, 0.9993796797086928, 0.1582909500706479, 0.07537533005192917, 0.0580064719931452, 0.05469811807718635, 0.1309832454560042, 0.06959949550698434, 0.032628640496144175, 0.07544425409184498, 0.08476278428846241, 0.01259931449660996, 0.10913432480269263, 0.04861901775661196, 0.00833980882981294, 0.03563372863647347, 0.04588962577594591, 0.9998333772561931, 0.998522765755726, 0.9998039550606967, 0.9996285871148449, 0.9998935186774371, 1.0005394346083087, 0.9995938670106969, 0.24882676158246045, 0.7504775018009149, 0.3596215244736697, 0.07457414770664518, 0.002776025802954643, 0.11205049604653286, 0.15318615112667894, 0.2972871268982336, 0.0005047319641735715, 1.0000243571022547, 0.21087525865893705, 0.4246392194912842, 0.3645542142843542, 0.9993453979233435, 0.9995793596765716, 0.9997698836180038, 1.0000139115303588, 0.9997039065013619, 1.0005222586885922, 0.9990768501659444, 0.8089373079206326, 0.19004140497927544, 0.6257524738014544, 0.3739252587350154, 0.9998374587717384, 0.9997538368163936, 0.9998181116502841, 0.2734467673670077, 0.1358525341059019, 0.5904360136141121, 0.3076978444376873, 0.6918423583008869, 0.6771406209941314, 0.32265838989929235, 0.8533936342893931, 0.1466887447519396, 0.3165774108975657, 0.1272048206929796, 0.5030807194323854, 0.053081710890679444, 0.9999796397553746, 0.3390730153946635, 0.6605678935655928, 0.9996839638015327, 0.9988854577693569, 0.06421876344136897, 0.153637294815427, 0.48529875663920596, 0.1788370627481161, 0.11786988226580379, 0.7235751204723725, 0.15696603142522367, 0.11944732147480434, 1.0003896205035807, 0.9988596898969541, 1.0000648204393097, 0.9996736635233909, 1.0001626749977448, 0.9984770768696358, 0.99998388943767, 1.0007043087647394, 0.1034145948461489, 0.23360618300067562, 0.6629614205315617, 1.0000207868646285, 0.9978382462659919, 0.9999686147084402, 1.000251621626327, 0.9991155906738362, 1.0000098347594388, 0.9997701506664314, 1.0000216637175106, 0.9997677410938909, 0.9993876308814003, 0.42765321999775874, 0.028277478220259965, 0.037005094954908106, 0.5068999799483638, 0.29789956906198006, 0.7021035486606003, 0.9990905045830178, 0.00027374967701709126, 0.08376740116722992, 0.3873557929791841, 0.393104536196543, 0.13550609012346015, 0.9998561774847244, 0.9993912880921703, 0.9997579985654058, 0.9989364726107415, 0.9998263773595482, 0.2854506007048836, 0.04743392771357116, 0.6674631256838227, 0.9996681735993238, 0.6414930239729111, 0.11850240590632595, 0.23937485993077842, 1.0001704200660224, 1.000532721383203, 0.9977986167494158, 0.9997858133003215, 0.999914747521053, 0.9989065237219773, 1.0006112238739222, 0.9979772371134212, 0.438442769235236, 0.5614677800074164, 0.9996001308984854, 0.9997095166945366, 0.7337710567075932, 0.2588143170940816, 0.00742119905646112, 0.24822154917726358, 0.7516992663343853, 0.9539574119360902, 0.045036616014150176, 0.9999554314187197, 0.9991241670060742, 0.9994838027982046, 0.9999439255407675, 0.9998387309698071, 0.9999409916564931, 0.9993649746999034, 0.07397426900502707, 0.5373872703203901, 0.18278803244467978, 0.20569619316881718, 0.9997691909084169, 1.0001157570938257, 1.0006409218651469, 0.9991153526286811, 1.000038003980513, 0.7628538279331359, 0.2371566304455345, 0.999438248871016, 0.999873353510963, 0.12537907478667906, 0.4865249144179524, 0.007777485310411317, 0.049858565250801054, 0.026413392141155345, 0.07307830400362325, 0.1527693491407363, 0.0782257218177602, 0.025891676538502394, 0.08877146241772249, 0.04327608792863971, 0.08174372164298613, 0.21785996401682728, 0.053262877450633496, 0.18198149795633112, 0.044755612302268426, 0.2626155763190957, 0.9999317234159144, 0.20216197119808638, 0.7976458727543544, 0.004016488271750385, 0.7299195032315603, 0.03414015030987827, 0.08388281275232534, 0.14799214478218725, 1.000599011827883, 1.000588461685354, 0.9978854811541645, 0.5234210067236689, 0.18042959736458467, 0.046946730188066686, 0.0945941578416269, 0.07917881360076919, 0.07567532627330152, 0.9999701484503547, 0.9988744292395113, 0.9992794264208884, 0.999756591060741, 0.5363909605345552, 0.4635089043133399, 0.1449949598022116, 0.28905647565719866, 0.18357730962082586, 0.3565755878397736, 0.009645587454653562, 0.013379363243551715, 0.0024891838592654356, 0.18493320763300788, 0.8152157724230551, 0.9981358811124021, 0.9992153333056519, 0.9999915950429409, 0.24045685954267992, 0.7591434952611811, 0.9999248714051884, 0.8425261118641172, 0.15765202648429066, 0.999927023160499, 0.12632679642438754, 0.16801099870275174, 0.21952466352710573, 0.0005460812525549894, 0.09683840878641813, 0.11176462968958784, 0.2770452221295646, 0.9991589298312538, 0.2503057523177446, 0.2296159737631174, 0.13286083287530204, 0.38702056355126147, 0.999988852905053, 1.0000597583881052, 0.9997997112795917, 0.002875124281414254, 0.9947930013693319, 0.999417305428297, 0.09343512393007487, 0.9066221057473072, 0.16564687676286033, 0.512186735861282, 0.1813050392429317, 0.14051140541327206, 0.1071473357625563, 0.2305631151749248, 0.6131520313532672, 0.04880533094943664, 0.9988655007395638, 0.09723190651528071, 0.38536415304747385, 0.517212654552488, 0.9993101702139703, 0.9983659288779332, 0.9996204590409153, 0.9997745971622992, 0.9999180430710435, 0.9992899040123971, 0.9996507175819682, 0.9994328795976809, 0.012895407750165549, 0.750909512836563, 0.06745290207778902, 0.1676403007521521, 0.0009919544423204268, 0.24871797801462148, 0.751204929395702, 0.9997286713947446, 0.9997150907374682, 0.887070392500157, 0.1126438593650993, 0.9971908201919002, 1.0003129358899108, 0.9998088564460766, 0.9987518005682541, 0.9999987851864396, 0.9986549332240804, 1.0002397488275616, 0.9997350311321178, 0.35134125342289235, 0.6485982480932595, 0.9998960569721174, 1.0001237272787682, 0.9994165351716268, 0.9995253515912789, 1.0000627270313196, 0.9983850841223626, 0.8955482557551853, 0.00840101553241262, 0.09409137396302134, 0.9985439934551597, 0.1806544023183773, 0.8197324035833883, 0.321266088842253, 0.5283406597116644, 0.05518346083855026, 0.09506853649413609, 0.7313440477683777, 0.001337926453726737, 0.16673908429569462, 0.10051172483622113, 0.999530777535605, 0.9991692912184821, 0.9997956046717221, 1.0000123187992171, 0.999891052518353, 0.9996746734718023, 0.7686976163268652, 0.1298169278310119, 0.10147262044432807, 1.0002431274697754, 0.9987962964338064, 0.9987072279343647, 0.39296149187302587, 0.6070943541502825, 0.9997249058643382, 1.0008708021300934, 0.9984938483529157, 0.999453698361886, 0.9997528821631192, 0.9996559588757653, 0.999404802701133, 0.9992209475717202, 0.05716829112668783, 0.18783867084483144, 0.68368609388243, 0.07116868895363179, 0.999394374188134, 0.1671026119542578, 0.29473216596656493, 0.5363949984778407, 0.0017543581307533627, 0.9996444360784499, 0.0014855737499141937, 0.6930201543349714, 0.3056567990448454, 0.9997740676758445, 0.11417932809743182, 0.23968222592353455, 0.6463871053449652, 0.9988086119535317, 0.12144115219403345, 0.8779415406320951, 0.0034620945706796465, 0.14738631172321923, 0.18250184236868422, 0.6662059123864976, 0.17964889637568698, 0.4758638705523922, 0.185820041671035, 0.158392729247266, 0.9998955558572041, 0.2810782866000111, 0.39128078663261456, 0.32751192425419795, 0.6972189254782593, 0.30273396446385953, 0.998186317471035, 0.17201407297439048, 0.2719502696124682, 0.12071938797431517, 0.43556262694029463, 0.9998272289732053, 0.2349051510470078, 0.4048792091151735, 0.2499471030884384, 0.10980624990244334, 0.0002506992006905099, 1.0004218554852045, 0.9990814021620301, 0.08597786408433948, 0.4691934868602526, 0.4449354466364568, 0.17931469297926428, 0.8207312441236452, 0.25494130579943935, 0.7320791625249956, 0.013253829353487673, 1.0000632524388826, 0.9999744149512453, 0.9999090383214938, 0.19666545783786207, 0.008358281958109138, 0.07768285584595552, 0.11160764732298672, 0.19814044877164605, 0.1229159111486638, 0.006391627379730517, 0.2787732864851695, 0.9999770308887649, 0.9990452761060916, 0.24800110790426994, 0.05537888817279814, 0.6964497132166027, 1.000487899683029, 0.9983752310930665, 0.999436853073925, 0.9994440631083211, 0.9991629660958319, 0.9998402626931746, 1.0007490294390298, 0.9985464498696193, 0.9989396466131186, 0.9997417010739182, 0.9854444078127255, 0.014635312987317706, 1.0008564148514494, 1.0001098630782717, 1.000239109398925, 1.0000754399814207, 0.9999997859827199, 0.7184853385271993, 0.2808556959289362, 0.9995535084225446, 0.9998550590720433, 1.0001319915279032, 0.12991279661281274, 0.21948425111954153, 0.6502477346251838, 0.9992905987894242, 0.9992001866686345, 0.05300689512650638, 0.7617848071037917, 0.1855241329427723, 0.9989141234731455, 0.08627456468702674, 0.1474951574274696, 0.07617215664404937, 0.42349294516161134, 0.26629947601288345, 0.9996594236422165, 0.1931049929998059, 0.34158127650632336, 0.4651684720261991, 0.2102673302181905, 0.7897377402581385, 0.03946335638346094, 0.25163693129218623, 0.39045509080577234, 0.1838528132688298, 0.0018570991239275736, 0.13278258736082152, 0.016007670058954985, 0.010004793786846865, 0.9731329423339717, 0.274121129804412, 0.00048218316588287077, 0.725444573070779, 0.998194352929326, 1.0002220719763386, 0.9993748231214282, 0.9990496339655557, 0.9996333789059922, 0.08205222514826443, 0.917115377290095, 0.0010386357613704359, 0.9991758183603525, 0.15250842602245282, 0.6040918173616637, 0.05545760946271011, 0.18749953675487704, 0.30667855368109975, 0.6932481591614776, 0.11229930419526513, 0.6670713159383413, 0.2205639028505806, 0.999385827436573, 1.0001944627021686, 0.9993303293629822, 0.9991573533051353, 0.9994749096337875, 0.998987075292905, 0.5402633303403815, 0.10162095975450035, 0.3581656453372619, 0.00028227940221222227, 0.21283866926801556, 0.40507094217453893, 0.13803462768177668, 0.033308969461042226, 0.2105804340503178, 0.9998497264738019, 0.9069565684126092, 0.09262219857154914, 1.000078818136074, 1.000340502285844, 0.9992621111062385, 0.9977106806418801, 1.000038004804039, 0.9995758777640186, 1.0001215341099, 1.0000578487943248, 0.40104249503992134, 0.5987971026720841, 1.0002137490377492, 1.0000919500018994, 0.9988841791393124, 1.0004671167624917, 1.0001273324679842, 0.2507041272943171, 0.1783287511982478, 0.08890340669493134, 0.05297668755108922, 0.13874846739570987, 0.18433103599467662, 0.012439517766511919, 0.09360084697039738, 1.0002707184800816, 0.9985475851754018, 0.07491224534653873, 0.2841908990130596, 0.2996489813861549, 0.3406723538378309, 0.9561649571194649, 0.043746109149256564, 1.0005610333852022, 1.000246570882835, 1.0001866659691598, 0.9989575047054274, 1.000226298636892, 0.9998965678575589, 0.1363449301073353, 0.8180695806440119, 0.045201308350801384, 0.12605754761420387, 0.0009787076678121418, 0.16931642653150056, 0.15541877764856812, 0.3993127284673539, 0.003131864536998854, 0.14602318403757156, 0.5528962270864685, 0.3132287638429778, 0.13347816641035987, 0.9990864928649218, 0.9986216749168502, 1.0001281494967853, 0.9989011322359166, 1.0007449875679595, 1.0001932557762594, 0.999514670340851, 0.2714901179578221, 0.682018301716146, 0.04610209550227167, 0.9986289534953663, 1.0009829827319574, 0.9341484725767611, 0.06557003701740727, 0.999200335236429, 0.9977340296707221, 1.0001255396702933, 0.9992733941090989, 0.9991844769111664, 0.8007083614141266, 0.19951205018624418, 0.9994634983667805, 0.9989830379339794, 0.9995191885718965, 0.9994055121537893, 1.0000215887051365, 1.0000834000229564, 0.9982701460063848, 0.8012534116779529, 0.1982291677446034, 0.084916609630675, 0.9151410047343632, 0.04457494409139628, 0.9556242399944956, 0.9998462590452437, 0.9975869813659819, 1.000340696460589, 1.0001529716908224, 0.9981226260565927, 0.12563164061347273, 0.23693686606926875, 0.10579506577976651, 0.4264863589246838, 0.10524404981216356, 0.9997821458898339, 0.502390130476932, 0.004590657959812058, 0.11863981664889287, 0.24430907829874793, 0.03457339275983456, 0.03313881214739329, 0.06240425664119516, 0.19520342196850948, 0.8044270050476479, 1.0004783941064572, 0.9996606552516452, 0.9996457298977388, 1.0000223937445283, 0.7625912350848056, 0.2374168965607468, 0.998997381567046, 1.0005154950785855, 0.9988181329386969, 0.0899420363070264, 0.909976940101605, 0.9987073946422816, 0.9998589473819793, 0.26729070667109, 0.7330107854132604, 0.9995957040672223, 0.999800496819397, 0.9987675438081765, 1.0003443928548268, 0.998687817905758, 0.37447701675129874, 0.26908528149793925, 0.3565379979847695, 0.9985165814767263, 0.9997721311628444, 0.9992511181897934, 0.9997455475599412, 0.20572696164657997, 0.79405589464808, 0.09725968349444103, 0.1670407947004898, 0.6435770878070819, 0.00795432355716618, 0.08460507783531301, 1.00077543676151, 1.0000288108165105, 0.8423581634133476, 0.15767436629507217, 0.2955622826932849, 0.7044190694890533, 0.795316607968571, 0.20398960326522125, 0.8026337747104807, 0.19663477828565393, 0.9996690232979155, 0.6806310452619175, 0.17501113296645301, 0.14429725863790333, 0.1735997573021932, 0.8261378521260401, 0.9993443075753887, 0.9999354117666756, 0.3595331477686389, 0.14513872693333074, 0.2177080903999961, 0.08416720694307307, 0.0046391373905630825, 0.17164808345083407, 0.017231081736377166, 1.0005416336506197, 1.0000616772456152, 0.9989071264967473, 1.0002010944371067, 0.9996949235435301, 1.000144606023056, 0.27914648324555036, 0.7203442957160457, 0.9998520991822203, 0.9983923052680607, 1.0002688759018457, 1.0000256980679882, 0.9998891376438075, 0.9992571125534315, 0.24985592473252072, 0.7500776842480367, 0.13235378613818033, 0.6012149108891197, 0.13494895841539956, 0.13148872871244058, 0.9993542228798519, 0.1137479242334848, 0.38254510233285066, 0.09885236272671893, 0.4048884445929995, 0.9993233700620023, 0.21643680654903136, 0.7832381673459422, 0.9998122529733318, 0.9998213417490515, 0.999380977529008, 0.9999905450354183, 1.0007707972376183, 0.9987254730997841, 0.970751368254994, 0.029920418884571733, 0.11923183676113945, 0.49368684217162556, 0.3859472306404755, 0.001436528153748668, 0.9987706214444562, 1.0004878971773903, 0.9999651175908413, 0.999053760402059, 0.9997441272616993, 0.999416803106442, 0.9992401921128243, 0.999885696981143, 0.9997994127186206, 0.13212800475064623, 0.8677595987677577, 0.13721457507190843, 0.5373964622744672, 0.16210313761478443, 0.15850084566778921, 0.0045847352052666305, 0.19333469727701916, 0.0008516947016608774, 0.80570318777119, 0.9987051741939358, 0.9993513857098666, 0.9989436403115523, 0.7509061741789926, 0.2488651920547293, 0.37798447114482336, 0.6216438822960318, 0.9995428025446512, 0.9991531046706253, 0.24260408017790402, 0.7076938533970079, 0.050887685110487184, 0.9993796104256022, 0.9993501479482118, 0.9993930158487907, 1.000134006330375, 0.41501601968286883, 0.08535351820601475, 0.49975103413376754, 0.9995578356444266, 1.0007403178426213, 1.000048945396071, 0.9997358072373165, 0.9999872337376946, 0.9994801963216313, 0.0008653508193260877, 0.999622187473876, 0.9997103346656631, 0.6669902097307534, 0.33304504399511303, 0.9998363095897409, 1.0007586014252967, 0.3070123985897533, 0.6929961945046166, 0.9979007224452866, 0.9975952999301178, 0.06433341339213137, 0.05118438971449199, 0.12886849892655786, 0.11346074725521353, 0.10930630112393482, 0.4252862136718704, 0.10712824198714793, 8.066885691803308e-05, 0.0004033442845901654, 0.8445209138356001, 0.1556751368067206, 0.9999577008656098, 0.9998346078203727, 0.7726050494192293, 0.22656561575795964, 0.9999800086169569, 0.18901403239981773, 0.04587719233005284, 0.14395243460007692, 0.2938179295449162, 0.03792514565951035, 0.28953605826077794, 0.9993650457612319, 0.7484281438058178, 0.12184550460854056, 0.12966879531034353, 0.9998005026451746, 0.9997238357489692, 0.9995391282636247, 1.0002304049213224, 0.9997125140767216, 1.0001640073068012, 0.9996785899129561, 0.9996338855824312, 1.000235828880829, 0.999680032899857, 1.000195203546348, 0.9985657593134349, 0.9996393065347318, 0.035890066862055384, 0.0006408940511081318, 0.9632637588155221, 1.0000907656000035, 0.0006643663355577464, 0.00026574653422309857, 0.7399712245442179, 0.15134265124005464, 0.10776021962746646, 0.9999181896691725, 0.9999639237300157, 0.9987213429285536, 0.1653993264868296, 0.092878083334912, 0.36260621575958796, 0.025021949391597298, 0.10220830175211779, 0.1280784528180065, 0.12383744444654934, 0.9995047201791638, 1.0001362450260325, 0.21030466250333493, 0.13617828136675167, 0.029157635374009293, 0.06555995929186752, 0.06960466194940733, 0.06036246668770704, 0.02610671715321146, 0.15517943979725804, 0.04244453329324938, 0.13144786744785988, 0.00017888119861355395, 0.01739122764298441, 0.04048677795286771, 0.0035974996610059185, 0.011985040307108116, 1.0000058538589145, 0.30125246627407787, 0.24125459563249002, 0.38840726783764756, 0.006947121863762801, 0.062208318507330544, 0.999773458098187, 0.9994395809152893, 0.9997703396973878, 0.3437590499467662, 0.3985338436196026, 0.17282391796774235, 0.08452317299515269, 0.06276005848580862, 0.9359093721696211, 0.0007845007310726078, 0.99996121089588, 0.27050393496420044, 0.7288578247646512, 0.9991043391217835, 0.40430754037239097, 0.0025030444011324305, 0.26848444681620487, 0.07588176710801472, 0.08049263837325868, 0.1563744054812734, 0.011988265289634271, 0.9998079752673044, 0.9998529869063423, 0.39421502855319085, 0.6057614237733869, 0.9985636091434348, 0.9988954123391713, 1.000069282442553, 0.21797798672155907, 0.004601118453225522, 0.17944361967579534, 0.06326537873185092, 0.5348800201874668, 0.32117920020046536, 0.6781524678931512, 0.2561025192173118, 0.743408701616919, 0.9989037437351123, 0.9991130073491052, 0.9998288938543937, 0.999279682421818, 0.16798827798375462, 0.19857504837055492, 0.6334806898078713, 0.9998170333733277, 0.6592845654135369, 0.2307756154387558, 0.10979403575552982, 0.15677643667296087, 0.8435013916770571, 0.999890668891981, 1.0005441737299086, 1.0001811427681362, 0.011718898618279221, 0.9890750433827663, 0.8978505985124019, 0.10181810910965383, 0.9994822897154445, 0.9998763327671231, 0.30306147133728956, 0.5662688673299425, 0.11828348564852018, 0.01214803366119937, 0.6865171692318885, 0.17007031442573622, 0.14342596516570422, 0.3372223626766497, 0.6628875329971841, 0.9997752340600459, 0.9999768586833601, 1.000335855006647, 0.8691939337253783, 0.13012641740365402, 0.06908739468205354, 0.930887936126632, 0.9999455803764519, 1.0004550919717634, 0.9981549403060581, 0.9998503742073735], \"Term\": [\"abov\", \"access\", \"access\", \"account\", \"achiev\", \"across\", \"action\", \"activ\", \"actual\", \"actual\", \"addit\", \"address\", \"administ\", \"administr\", \"adult\", \"adult\", \"advic\", \"africa\", \"age\", \"agenc\", \"ago\", \"ago\", \"agre\", \"ahead\", \"almost\", \"alway\", \"amaz\", \"america\", \"american\", \"american\", \"among\", \"amp\", \"amp\", \"amp\", \"amp\", \"amp\", \"amp\", \"amp\", \"ani\", \"ani\", \"ani\", \"ani\", \"announc\", \"announc\", \"answer\", \"antibodi\", \"anyon\", \"appoint\", \"approv\", \"approv\", \"appt\", \"april\", \"area_hardest\", \"arm\", \"arm\", \"around\", \"arriv\", \"articl\", \"ask\", \"assist\", \"astrazeneca\", \"astrazenecavaccin\", \"attend\", \"auspol\", \"australia\", \"author\", \"avail\", \"avail\", \"avail\", \"awar\", \"awesom\", \"az\", \"babi\", \"back\", \"back\", \"back\", \"ban\", \"beat\", \"becaus\", \"becaus\", \"becaus\", \"becaus\", \"becom\", \"becom\", \"befor\", \"befor\", \"behind\", \"benefit\", \"best_sourc\", \"better\", \"better\", \"biden\", \"big\", \"bill_gate\", \"blame\", \"bless\", \"blood_clot\", \"book\", \"borisjohnson\", \"break\", \"brilliant\", \"c\", \"call\", \"campaign\", \"canada\", \"cancer\", \"cant\", \"cant_believ\", \"card\", \"care\", \"caregiv\", \"carer\", \"case\", \"catch\", \"cdc\", \"cdcgov\", \"celebr\", \"celebr\", \"center\", \"centr\", \"centr\", \"certif\", \"charg\", \"check\", \"chief\", \"child\", \"child\", \"chines\", \"circul_quickli\", \"citizen\", \"claim\", \"click\", \"clinic\", \"clinic\", \"clinic\", \"close\", \"co\", \"come\", \"come\", \"come\", \"come\", \"commun\", \"commun\", \"commun\", \"concern\", \"concern\", \"concern\", \"condit\", \"consid\", \"contact\", \"contact\", \"continu\", \"continu\", \"contract\", \"control\", \"corona\", \"coronavaccin\", \"coronaviru\", \"coronavirusupd\", \"coronavirusvaccin\", \"cost\", \"could\", \"counti\", \"countri\", \"coupl\", \"covax\", \"covaxin\", \"covid\", \"covid\", \"covid\", \"covid\", \"covid\", \"covid\", \"covid\", \"covid\", \"covid\", \"covidiot\", \"covidvaccin\", \"covidvaccin\", \"covidvaccin\", \"covidvaccin\", \"covidvaccin\", \"covidvaccin\", \"covidvaccin\", \"covidvaccin\", \"covidvaccin\", \"covidvaccin\", \"covidvaccin\", \"covidvaccin\", \"covidvaccin\", \"covidvaccin\", \"covidvaccin\", \"creat\", \"credit\", \"cri\", \"current\", \"cv_locat\", \"dad\", \"danger\", \"data\", \"data\", \"day\", \"day\", \"day\", \"day\", \"day\", \"day\", \"day\", \"dear\", \"death\", \"death\", \"death\", \"decid\", \"decis\", \"delay\", \"delight\", \"deliv\", \"deptvetaffair\", \"despit\", \"detail\", \"detail\", \"develop\", \"develop\", \"differ\", \"disabl\", \"discu\", \"doctor\", \"doctor\", \"doctor\", \"doe\", \"doe\", \"doesnt\", \"doesnt\", \"done\", \"done\", \"dont\", \"dont\", \"dont\", \"dont\", \"dose\", \"dr\", \"dr\", \"drericd\", \"drive\", \"due\", \"due\", \"due\", \"due\", \"due\", \"dure\", \"dure\", \"dure\", \"easi\", \"educ\", \"effect\", \"efficaci\", \"effort\", \"elderli\", \"elig\", \"emerg\", \"encourag\", \"encourag\", \"encourag\", \"end\", \"england\", \"enjoy\", \"enough\", \"ensur\", \"especi\", \"essenti\", \"eu\", \"europ\", \"european\", \"even\", \"even\", \"even\", \"even\", \"event\", \"event\", \"everybodi\", \"everyon\", \"everyon\", \"everyon\", \"everyon\", \"everyon\", \"evid\", \"excel\", \"excit\", \"expand\", \"expect\", \"experi\", \"experi\", \"experi\", \"experiment\", \"expert\", \"expert\", \"expert\", \"export\", \"f\", \"fals\", \"fals_inform\", \"famili\", \"fast\", \"fauci\", \"fauciouchi\", \"feel\", \"feel\", \"fever\", \"fight\", \"final\", \"final\", \"final\", \"find\", \"find\", \"fine\", \"fine\", \"first\", \"florida\", \"flu\", \"folk\", \"follow\", \"forc\", \"former\", \"free\", \"free\", \"free\", \"free\", \"freedom\", \"friend\", \"friendli\", \"frontlin\", \"fuck\", \"fulli\", \"fulli\", \"garbag\", \"gener\", \"get\", \"get\", \"get\", \"get\", \"get\", \"get\", \"get\", \"get\", \"give\", \"give\", \"give\", \"give\", \"give\", \"give\", \"give\", \"give\", \"give\", \"given\", \"global\", \"global\", \"go\", \"go\", \"go\", \"go\", \"go\", \"goal\", \"gon_na\", \"gone\", \"good\", \"good\", \"good\", \"good\", \"good\", \"good\", \"got\", \"gotten\", \"governor\", \"gp\", \"grate\", \"grate\", \"great\", \"great\", \"great\", \"great\", \"great\", \"great\", \"great\", \"group\", \"group\", \"grow\", \"h\", \"ha\", \"half\", \"half\", \"hand\", \"happi\", \"happi\", \"headach\", \"health\", \"health\", \"health\", \"health\", \"health\", \"health\", \"health\", \"hear\", \"help\", \"help\", \"help\", \"help\", \"hi\", \"high\", \"highest\", \"hit\", \"hit\", \"ho\", \"home\", \"home\", \"hope\", \"hope\", \"hope\", \"hope\", \"hospit\", \"hospit\", \"hospit\", \"hospit\", \"host\", \"hour\", \"hour\", \"hour\", \"hous\", \"howev\", \"hub\", \"hug\", \"huge\", \"human\", \"hurt\", \"idea\", \"ill\", \"ill\", \"ill\", \"ill\", \"ill\", \"im\", \"im\", \"immun\", \"impact\", \"import\", \"import\", \"inaccur_claim\", \"incred\", \"india\", \"indian\", \"individu\", \"inequ\", \"infect\", \"info\", \"inform\", \"inform\", \"inject\", \"interest\", \"intern\", \"invit\", \"involv\", \"ireland\", \"isnt\", \"isnt\", \"isnt\", \"israel\", \"issu\", \"issu\", \"ive\", \"ive\", \"ive\", \"ive\", \"jab\", \"jab\", \"jab\", \"jab\", \"job\", \"joebiden\", \"johnson\", \"johnsonandjohnson\", \"join\", \"juli\", \"keep\", \"keep\", \"keep\", \"kick\", \"kill\", \"kind\", \"know\", \"know\", \"last\", \"late\", \"launch\", \"le\", \"lead\", \"leader\", \"learn\", \"least\", \"let\", \"let\", \"let\", \"let\", \"lie\", \"life\", \"life\", \"life\", \"life\", \"light\", \"like\", \"like\", \"like\", \"line\", \"list\", \"list\", \"list\", \"listen\", \"littl\", \"littl\", \"live\", \"live\", \"live\", \"live\", \"local\", \"local\", \"local\", \"local\", \"locat\", \"lockdown\", \"lockdown\", \"lockdown\", \"look\", \"look\", \"lost\", \"love\", \"love\", \"love\", \"love\", \"made\", \"make\", \"make\", \"make\", \"make\", \"make\", \"man\", \"manag\", \"mani\", \"mani\", \"mani\", \"march\", \"march\", \"mask\", \"mask\", \"mask\", \"maskup\", \"mass\", \"matter\", \"may\", \"may\", \"may\", \"may\", \"may\", \"may\", \"may\", \"may\", \"mean\", \"meanwhil\", \"medic\", \"medic\", \"medic\", \"medicin\", \"medium\", \"member\", \"messag\", \"might\", \"million\", \"mind\", \"mine\", \"minist\", \"misinform\", \"moderna\", \"moderna\", \"modernavaccin\", \"mom\", \"moment\", \"monday\", \"money\", \"month\", \"month\", \"morn\", \"mother\", \"mrna\", \"must\", \"must\", \"must\", \"name\", \"narendramodi\", \"nation\", \"nation\", \"nation\", \"nearli\", \"need\", \"need\", \"need\", \"need\", \"need\", \"neg\", \"never\", \"never\", \"never\", \"new\", \"new\", \"news\", \"news\", \"news\", \"news\", \"news\", \"news\", \"next\", \"next\", \"next\", \"nh\", \"nh\", \"nh\", \"nhscovidvaccin\", \"nhsuk\", \"night\", \"none\", \"nonsens\", \"normal\", \"normal\", \"normal\", \"note\", \"number\", \"number\", \"number\", \"number\", \"nurs\", \"nurs\", \"offer\", \"offer\", \"offer\", \"offic\", \"offici\", \"oh\", \"old\", \"older\", \"onc\", \"one\", \"one\", \"one\", \"onli\", \"onli\", \"onli\", \"onli\", \"onli\", \"onli\", \"onlin\", \"ontario\", \"ontario\", \"open\", \"oper\", \"opportun\", \"oxford\", \"oxfordastrazeneca\", \"p\", \"pain\", \"pakistan\", \"pandem\", \"pandem\", \"park\", \"part\", \"partner\", \"passport\", \"patient\", \"peopl\", \"peopl\", \"peopl\", \"peopl\", \"peopl\", \"peopl\", \"peopl\", \"peopl\", \"per\", \"perfect\", \"person\", \"person\", \"person\", \"person\", \"pfizer\", \"pfizer\", \"pfizercovidvaccin\", \"pfizervaccin\", \"pharmaci\", \"phase\", \"place\", \"plan\", \"play\", \"play\", \"play\", \"pleas\", \"pleas\", \"pleas\", \"pleas\", \"pleas\", \"pleas\", \"pleas\", \"pm\", \"pm\", \"pm\", \"pmoindia\", \"polio\", \"polit\", \"poll\", \"poor\", \"popul\", \"posit\", \"post\", \"post\", \"post\", \"prepar\", \"present\", \"presid\", \"presid\", \"prevent\", \"price\", \"prime_minist\", \"problem\", \"produc\", \"product\", \"product\", \"profession\", \"program\", \"programm\", \"progress\", \"promis\", \"protect\", \"protest\", \"proud\", \"proud\", \"provid\", \"provid\", \"public\", \"public\", \"question\", \"quickli\", \"r\", \"rate\", \"reaction\", \"read\", \"read\", \"read\", \"read\", \"read\", \"readi\", \"receiv\", \"receiv\", \"receiv\", \"receiv\", \"receiv\", \"receiv\", \"receiv\", \"recent\", \"recent\", \"recommend\", \"record\", \"regard\", \"region\", \"regist\", \"regist\", \"relat\", \"relief\", \"reliev\", \"report\", \"report\", \"request\", \"requir\", \"resid\", \"resid\", \"resourc\", \"respons\", \"rest\", \"review\", \"rich\", \"right\", \"right\", \"right\", \"rise\", \"risk\", \"rite_aid\", \"role\", \"roll\", \"roll\", \"rollout\", \"rollout\", \"rollout\", \"rollout\", \"rollout\", \"round\", \"rule\", \"run\", \"run\", \"safe\", \"safe\", \"safeti\", \"safeti\", \"said\", \"said\", \"save\", \"say\", \"say\", \"say\", \"schedul\", \"schedul\", \"scientist\", \"second\", \"see\", \"see\", \"see\", \"see\", \"see\", \"see\", \"see\", \"seem\", \"seen\", \"send\", \"senior\", \"seriou\", \"serious\", \"servic\", \"servic\", \"share\", \"shirt\", \"short\", \"shot\", \"show\", \"sick\", \"side_effect\", \"side_effect\", \"sign\", \"sign\", \"sign\", \"sign\", \"similar\", \"sinc\", \"sinc\", \"sinc\", \"sinc\", \"singl\", \"site\", \"site\", \"slot_ca\", \"slot_va\", \"small\", \"smooth\", \"social_distanc\", \"social_medium\", \"someon\", \"someon\", \"soon\", \"soon\", \"soon\", \"soon\", \"sore\", \"sourc\", \"speak\", \"special\", \"spread\", \"spread_falseinform\", \"spring\", \"staff\", \"stand\", \"start\", \"start\", \"state\", \"state\", \"state\", \"state\", \"state\", \"stay\", \"stay\", \"stay\", \"staysaf\", \"step_closer\", \"sticker\", \"still\", \"still\", \"stop\", \"stop\", \"stori\", \"student\", \"studi\", \"studi\", \"studi\", \"stupid\", \"success\", \"super\", \"suppli\", \"support\", \"support\", \"support\", \"surgeri\", \"survey\", \"suspend\", \"system\", \"take\", \"talk\", \"talk\", \"teacher\", \"team\", \"tell\", \"tell\", \"test\", \"texa\", \"thank\", \"thank\", \"thankyou\", \"thankyounh\", \"thi\", \"thi\", \"thi\", \"thi\", \"thi\", \"thi\", \"thi\", \"thi\", \"thi\", \"thing\", \"thing\", \"think\", \"though\", \"thursday\", \"thursday\", \"till\", \"time\", \"time\", \"time\", \"time\", \"time\", \"time\", \"tire\", \"today\", \"today\", \"today\", \"told\", \"tonight\", \"took\", \"toronto\", \"total\", \"treat\", \"treatment\", \"tri\", \"trial\", \"trust\", \"tunnel\", \"tweet\", \"twitter\", \"two\", \"two\", \"two\", \"type\", \"u\", \"u\", \"u\", \"u\", \"u\", \"uk\", \"updat\", \"urg\", \"use\", \"use\", \"use\", \"use\", \"use\", \"use\", \"use\", \"v\", \"va\", \"vaccin\", \"vaccin\", \"vaccin\", \"vaccin\", \"vaccin\", \"vaccin\", \"vaccin\", \"vaccin\", \"vaccin\", \"vaccin\", \"vaccin\", \"vaccin\", \"vaccin\", \"vaccin\", \"vaccin\", \"vaccineswork\", \"veri\", \"veri\", \"veri\", \"veri\", \"veri\", \"veteran\", \"via_youtub\", \"video\", \"viru\", \"viru\", \"viru\", \"viru\", \"visit\", \"visit\", \"visit\", \"volunt\", \"vulner\", \"vulner\", \"w\", \"wa\", \"wa\", \"wa\", \"wa\", \"wa\", \"wa\", \"wa\", \"wait\", \"walk\", \"want\", \"want\", \"warn\", \"wast\", \"watch\", \"way\", \"way\", \"way\", \"way\", \"way\", \"wear_mask\", \"wear_mask\", \"wearamask\", \"wearamask\", \"webinar\", \"websit\", \"week\", \"weekend\", \"well\", \"well\", \"well\", \"weve\", \"whi\", \"whi\", \"whi\", \"whole\", \"whole\", \"wife\", \"win\", \"wish\", \"within\", \"within\", \"woman\", \"woman\", \"wonder\", \"word\", \"work\", \"work\", \"work\", \"work\", \"worker\", \"worker\", \"worker\", \"world\", \"world\", \"worri\", \"would\", \"wrong\", \"ye\", \"ye\", \"year\", \"year\", \"yesterday\", \"yo\", \"young\", \"youv\"]}, \"R\": 30, \"lambda.step\": 0.01, \"plot.opts\": {\"xlab\": \"PC1\", \"ylab\": \"PC2\"}, \"topic.order\": [7, 9, 1, 11, 2, 3, 15, 14, 10, 12, 13, 6, 5, 8, 4]};\n",
       "\n",
       "function LDAvis_load_lib(url, callback){\n",
       "  var s = document.createElement('script');\n",
       "  s.src = url;\n",
       "  s.async = true;\n",
       "  s.onreadystatechange = s.onload = callback;\n",
       "  s.onerror = function(){console.warn(\"failed to load library \" + url);};\n",
       "  document.getElementsByTagName(\"head\")[0].appendChild(s);\n",
       "}\n",
       "\n",
       "if(typeof(LDAvis) !== \"undefined\"){\n",
       "   // already loaded: just create the visualization\n",
       "   !function(LDAvis){\n",
       "       new LDAvis(\"#\" + \"ldavis_el8720528150506976707359711\", ldavis_el8720528150506976707359711_data);\n",
       "   }(LDAvis);\n",
       "}else if(typeof define === \"function\" && define.amd){\n",
       "   // require.js is available: use it to load d3/LDAvis\n",
       "   require.config({paths: {d3: \"https://cdnjs.cloudflare.com/ajax/libs/d3/3.5.5/d3.min\"}});\n",
       "   require([\"d3\"], function(d3){\n",
       "      window.d3 = d3;\n",
       "      LDAvis_load_lib(\"https://cdn.rawgit.com/bmabey/pyLDAvis/files/ldavis.v1.0.0.js\", function(){\n",
       "        new LDAvis(\"#\" + \"ldavis_el8720528150506976707359711\", ldavis_el8720528150506976707359711_data);\n",
       "      });\n",
       "    });\n",
       "}else{\n",
       "    // require.js not available: dynamically load d3 & LDAvis\n",
       "    LDAvis_load_lib(\"https://cdnjs.cloudflare.com/ajax/libs/d3/3.5.5/d3.min.js\", function(){\n",
       "         LDAvis_load_lib(\"https://cdn.rawgit.com/bmabey/pyLDAvis/files/ldavis.v1.0.0.js\", function(){\n",
       "                 new LDAvis(\"#\" + \"ldavis_el8720528150506976707359711\", ldavis_el8720528150506976707359711_data);\n",
       "            })\n",
       "         });\n",
       "}\n",
       "</script>"
      ],
      "text/plain": [
       "PreparedData(topic_coordinates=              x         y  topics  cluster       Freq\n",
       "topic                                                \n",
       "6     -0.102319  0.363284       1        1  12.868764\n",
       "8     -0.157989  0.151602       2        1   9.393921\n",
       "0     -0.307505  0.263587       3        1   7.790920\n",
       "10     0.076066  0.116468       4        1   7.305642\n",
       "1      0.302778  0.286604       5        1   7.063252\n",
       "2     -0.028612 -0.088295       6        1   7.018193\n",
       "14     0.079373 -0.297911       7        1   6.529895\n",
       "13     0.099642  0.407351       8        1   6.505939\n",
       "9     -0.216607 -0.251352       9        1   6.155543\n",
       "11    -0.421544  0.062930      10        1   5.905669\n",
       "12     0.439222  0.091794      11        1   5.394633\n",
       "5      0.360977 -0.093004      12        1   5.394631\n",
       "4     -0.399964 -0.198940      13        1   4.589756\n",
       "7      0.337059 -0.338404      14        1   4.226837\n",
       "3     -0.060577 -0.475714      15        1   3.856403, topic_info=       Term           Freq          Total Category  logprob  loglift\n",
       "124      ha   12785.000000   12785.000000  Default  30.0000  30.0000\n",
       "78      thi   24792.000000   24792.000000  Default  29.0000  29.0000\n",
       "87   vaccin  100625.000000  100625.000000  Default  28.0000  28.0000\n",
       "344    year   10045.000000   10045.000000  Default  27.0000  27.0000\n",
       "50      amp   16333.000000   16333.000000  Default  26.0000  26.0000\n",
       "..      ...            ...            ...      ...      ...      ...\n",
       "58    never     542.351079    1165.169251  Topic15  -4.6696   2.4907\n",
       "934   pleas     745.805290    5108.777794  Topic15  -4.3510   1.3312\n",
       "87   vaccin    1205.690465  100625.443811  Topic15  -3.8707  -1.1689\n",
       "82    covid     717.610797   15186.708221  Topic15  -4.3896   0.2032\n",
       "268     may     566.662999    2033.910807  Topic15  -4.6257   1.9775\n",
       "\n",
       "[777 rows x 6 columns], token_table=      Topic      Freq       Term\n",
       "term                            \n",
       "2652      9  1.000030       abov\n",
       "963       6  0.812460     access\n",
       "963      12  0.187620     access\n",
       "1350      7  1.000194    account\n",
       "2259      6  0.998515     achiev\n",
       "...     ...       ...        ...\n",
       "344      10  0.930888       year\n",
       "436       1  0.999946  yesterday\n",
       "3164      9  1.000455         yo\n",
       "897      10  0.998155      young\n",
       "446      12  0.999850       youv\n",
       "\n",
       "[1076 rows x 3 columns], R=30, lambda_step=0.01, plot_opts={'xlab': 'PC1', 'ylab': 'PC2'}, topic_order=[7, 9, 1, 11, 2, 3, 15, 14, 10, 12, 13, 6, 5, 8, 4])"
      ]
     },
     "execution_count": 17,
     "metadata": {},
     "output_type": "execute_result"
    }
   ],
   "source": [
    "import pyLDAvis.gensim\n",
    "warnings.filterwarnings('ignore')\n",
    "\n",
    "pyLDAvis.enable_notebook()\n",
    "vis = pyLDAvis.gensim.prepare(best_model, corpus, dictionary=dictionary_LDA, mds='mmds')\n",
    "vis"
   ]
  },
  {
   "cell_type": "markdown",
   "metadata": {},
   "source": [
    "# All Topics Probabilities in each Document"
   ]
  },
  {
   "cell_type": "code",
   "execution_count": 18,
   "metadata": {},
   "outputs": [],
   "source": [
    "# convert all probability distribution into dataframe (we are doing this to also keep topics having 0 probability)\n",
    "# In other case topics having 0 probability will be misleading\n",
    "def topics_document_to_dataframe(topics_document, num_topics):\n",
    "    res = pd.DataFrame(columns=range(num_topics))\n",
    "    for topic_weight in topics_document:\n",
    "        res.loc[0, topic_weight[0]] = topic_weight[1]\n",
    "    return res\n"
   ]
  },
  {
   "cell_type": "code",
   "execution_count": 19,
   "metadata": {},
   "outputs": [],
   "source": [
    "# find topic probabilities that model assign to all documents\n",
    "topics = [best_model[corpus[i]] for i in range(len(text_data))]"
   ]
  },
  {
   "cell_type": "code",
   "execution_count": 20,
   "metadata": {},
   "outputs": [],
   "source": [
    "# make dataframe of all document probability distribution\n",
    "document_topic = \\\n",
    "pd.concat([topics_document_to_dataframe(topics_document, num_topics=best_topic_number) for topics_document in topics]) \\\n",
    "  .reset_index(drop=True).fillna(0)"
   ]
  },
  {
   "cell_type": "code",
   "execution_count": 24,
   "metadata": {},
   "outputs": [
    {
     "data": {
      "text/html": [
       "<div>\n",
       "<style scoped>\n",
       "    .dataframe tbody tr th:only-of-type {\n",
       "        vertical-align: middle;\n",
       "    }\n",
       "\n",
       "    .dataframe tbody tr th {\n",
       "        vertical-align: top;\n",
       "    }\n",
       "\n",
       "    .dataframe thead th {\n",
       "        text-align: right;\n",
       "    }\n",
       "</style>\n",
       "<table border=\"1\" class=\"dataframe\">\n",
       "  <thead>\n",
       "    <tr style=\"text-align: right;\">\n",
       "      <th></th>\n",
       "      <th>0</th>\n",
       "      <th>1</th>\n",
       "      <th>2</th>\n",
       "      <th>3</th>\n",
       "      <th>4</th>\n",
       "      <th>5</th>\n",
       "      <th>6</th>\n",
       "      <th>7</th>\n",
       "      <th>8</th>\n",
       "      <th>9</th>\n",
       "      <th>10</th>\n",
       "      <th>11</th>\n",
       "      <th>12</th>\n",
       "      <th>13</th>\n",
       "      <th>14</th>\n",
       "    </tr>\n",
       "  </thead>\n",
       "  <tbody>\n",
       "    <tr>\n",
       "      <th>0</th>\n",
       "      <td>0.486326</td>\n",
       "      <td>0.000000</td>\n",
       "      <td>0.224133</td>\n",
       "      <td>0.000000</td>\n",
       "      <td>0.195584</td>\n",
       "      <td>0.000000</td>\n",
       "      <td>0.064569</td>\n",
       "      <td>0.000000</td>\n",
       "      <td>0.000000</td>\n",
       "      <td>0.000000</td>\n",
       "      <td>0.000000</td>\n",
       "      <td>0.000000</td>\n",
       "      <td>0.000000</td>\n",
       "      <td>0.000000</td>\n",
       "      <td>0.000000</td>\n",
       "    </tr>\n",
       "    <tr>\n",
       "      <th>1</th>\n",
       "      <td>0.076025</td>\n",
       "      <td>0.000000</td>\n",
       "      <td>0.000000</td>\n",
       "      <td>0.000000</td>\n",
       "      <td>0.047201</td>\n",
       "      <td>0.000000</td>\n",
       "      <td>0.194494</td>\n",
       "      <td>0.052041</td>\n",
       "      <td>0.554452</td>\n",
       "      <td>0.000000</td>\n",
       "      <td>0.055998</td>\n",
       "      <td>0.000000</td>\n",
       "      <td>0.000000</td>\n",
       "      <td>0.000000</td>\n",
       "      <td>0.000000</td>\n",
       "    </tr>\n",
       "    <tr>\n",
       "      <th>2</th>\n",
       "      <td>0.635860</td>\n",
       "      <td>0.000000</td>\n",
       "      <td>0.000000</td>\n",
       "      <td>0.000000</td>\n",
       "      <td>0.139424</td>\n",
       "      <td>0.000000</td>\n",
       "      <td>0.000000</td>\n",
       "      <td>0.000000</td>\n",
       "      <td>0.000000</td>\n",
       "      <td>0.000000</td>\n",
       "      <td>0.000000</td>\n",
       "      <td>0.000000</td>\n",
       "      <td>0.000000</td>\n",
       "      <td>0.000000</td>\n",
       "      <td>0.147280</td>\n",
       "    </tr>\n",
       "    <tr>\n",
       "      <th>3</th>\n",
       "      <td>0.054621</td>\n",
       "      <td>0.000000</td>\n",
       "      <td>0.000000</td>\n",
       "      <td>0.087824</td>\n",
       "      <td>0.063220</td>\n",
       "      <td>0.000000</td>\n",
       "      <td>0.000000</td>\n",
       "      <td>0.000000</td>\n",
       "      <td>0.052579</td>\n",
       "      <td>0.094030</td>\n",
       "      <td>0.229967</td>\n",
       "      <td>0.000000</td>\n",
       "      <td>0.000000</td>\n",
       "      <td>0.310247</td>\n",
       "      <td>0.092113</td>\n",
       "    </tr>\n",
       "    <tr>\n",
       "      <th>4</th>\n",
       "      <td>0.000000</td>\n",
       "      <td>0.000000</td>\n",
       "      <td>0.485657</td>\n",
       "      <td>0.082806</td>\n",
       "      <td>0.083499</td>\n",
       "      <td>0.000000</td>\n",
       "      <td>0.000000</td>\n",
       "      <td>0.000000</td>\n",
       "      <td>0.163585</td>\n",
       "      <td>0.000000</td>\n",
       "      <td>0.000000</td>\n",
       "      <td>0.000000</td>\n",
       "      <td>0.000000</td>\n",
       "      <td>0.000000</td>\n",
       "      <td>0.148084</td>\n",
       "    </tr>\n",
       "    <tr>\n",
       "      <th>5</th>\n",
       "      <td>0.000000</td>\n",
       "      <td>0.270094</td>\n",
       "      <td>0.000000</td>\n",
       "      <td>0.000000</td>\n",
       "      <td>0.114131</td>\n",
       "      <td>0.000000</td>\n",
       "      <td>0.000000</td>\n",
       "      <td>0.000000</td>\n",
       "      <td>0.000000</td>\n",
       "      <td>0.000000</td>\n",
       "      <td>0.000000</td>\n",
       "      <td>0.000000</td>\n",
       "      <td>0.123397</td>\n",
       "      <td>0.435952</td>\n",
       "      <td>0.000000</td>\n",
       "    </tr>\n",
       "    <tr>\n",
       "      <th>6</th>\n",
       "      <td>0.000000</td>\n",
       "      <td>0.129252</td>\n",
       "      <td>0.000000</td>\n",
       "      <td>0.000000</td>\n",
       "      <td>0.000000</td>\n",
       "      <td>0.160256</td>\n",
       "      <td>0.000000</td>\n",
       "      <td>0.000000</td>\n",
       "      <td>0.341873</td>\n",
       "      <td>0.060659</td>\n",
       "      <td>0.000000</td>\n",
       "      <td>0.057901</td>\n",
       "      <td>0.119173</td>\n",
       "      <td>0.061270</td>\n",
       "      <td>0.053517</td>\n",
       "    </tr>\n",
       "    <tr>\n",
       "      <th>7</th>\n",
       "      <td>0.000000</td>\n",
       "      <td>0.000000</td>\n",
       "      <td>0.000000</td>\n",
       "      <td>0.000000</td>\n",
       "      <td>0.261487</td>\n",
       "      <td>0.082407</td>\n",
       "      <td>0.000000</td>\n",
       "      <td>0.066898</td>\n",
       "      <td>0.000000</td>\n",
       "      <td>0.000000</td>\n",
       "      <td>0.000000</td>\n",
       "      <td>0.000000</td>\n",
       "      <td>0.000000</td>\n",
       "      <td>0.231745</td>\n",
       "      <td>0.327607</td>\n",
       "    </tr>\n",
       "    <tr>\n",
       "      <th>8</th>\n",
       "      <td>0.588360</td>\n",
       "      <td>0.058434</td>\n",
       "      <td>0.000000</td>\n",
       "      <td>0.000000</td>\n",
       "      <td>0.000000</td>\n",
       "      <td>0.000000</td>\n",
       "      <td>0.000000</td>\n",
       "      <td>0.000000</td>\n",
       "      <td>0.077088</td>\n",
       "      <td>0.000000</td>\n",
       "      <td>0.251930</td>\n",
       "      <td>0.000000</td>\n",
       "      <td>0.000000</td>\n",
       "      <td>0.000000</td>\n",
       "      <td>0.000000</td>\n",
       "    </tr>\n",
       "    <tr>\n",
       "      <th>9</th>\n",
       "      <td>0.194515</td>\n",
       "      <td>0.154102</td>\n",
       "      <td>0.000000</td>\n",
       "      <td>0.000000</td>\n",
       "      <td>0.092327</td>\n",
       "      <td>0.000000</td>\n",
       "      <td>0.229134</td>\n",
       "      <td>0.095715</td>\n",
       "      <td>0.000000</td>\n",
       "      <td>0.110577</td>\n",
       "      <td>0.089563</td>\n",
       "      <td>0.000000</td>\n",
       "      <td>0.000000</td>\n",
       "      <td>0.000000</td>\n",
       "      <td>0.000000</td>\n",
       "    </tr>\n",
       "  </tbody>\n",
       "</table>\n",
       "</div>"
      ],
      "text/plain": [
       "         0         1         2         3         4         5         6   \\\n",
       "0  0.486326  0.000000  0.224133  0.000000  0.195584  0.000000  0.064569   \n",
       "1  0.076025  0.000000  0.000000  0.000000  0.047201  0.000000  0.194494   \n",
       "2  0.635860  0.000000  0.000000  0.000000  0.139424  0.000000  0.000000   \n",
       "3  0.054621  0.000000  0.000000  0.087824  0.063220  0.000000  0.000000   \n",
       "4  0.000000  0.000000  0.485657  0.082806  0.083499  0.000000  0.000000   \n",
       "5  0.000000  0.270094  0.000000  0.000000  0.114131  0.000000  0.000000   \n",
       "6  0.000000  0.129252  0.000000  0.000000  0.000000  0.160256  0.000000   \n",
       "7  0.000000  0.000000  0.000000  0.000000  0.261487  0.082407  0.000000   \n",
       "8  0.588360  0.058434  0.000000  0.000000  0.000000  0.000000  0.000000   \n",
       "9  0.194515  0.154102  0.000000  0.000000  0.092327  0.000000  0.229134   \n",
       "\n",
       "         7         8         9         10        11        12        13  \\\n",
       "0  0.000000  0.000000  0.000000  0.000000  0.000000  0.000000  0.000000   \n",
       "1  0.052041  0.554452  0.000000  0.055998  0.000000  0.000000  0.000000   \n",
       "2  0.000000  0.000000  0.000000  0.000000  0.000000  0.000000  0.000000   \n",
       "3  0.000000  0.052579  0.094030  0.229967  0.000000  0.000000  0.310247   \n",
       "4  0.000000  0.163585  0.000000  0.000000  0.000000  0.000000  0.000000   \n",
       "5  0.000000  0.000000  0.000000  0.000000  0.000000  0.123397  0.435952   \n",
       "6  0.000000  0.341873  0.060659  0.000000  0.057901  0.119173  0.061270   \n",
       "7  0.066898  0.000000  0.000000  0.000000  0.000000  0.000000  0.231745   \n",
       "8  0.000000  0.077088  0.000000  0.251930  0.000000  0.000000  0.000000   \n",
       "9  0.095715  0.000000  0.110577  0.089563  0.000000  0.000000  0.000000   \n",
       "\n",
       "         14  \n",
       "0  0.000000  \n",
       "1  0.000000  \n",
       "2  0.147280  \n",
       "3  0.092113  \n",
       "4  0.148084  \n",
       "5  0.000000  \n",
       "6  0.053517  \n",
       "7  0.327607  \n",
       "8  0.000000  \n",
       "9  0.000000  "
      ]
     },
     "execution_count": 24,
     "metadata": {},
     "output_type": "execute_result"
    }
   ],
   "source": [
    "document_topic.head(10)"
   ]
  },
  {
   "cell_type": "markdown",
   "metadata": {},
   "source": [
    "# Calculate and Find Keywords in each Document\n"
   ]
  },
  {
   "cell_type": "code",
   "execution_count": 22,
   "metadata": {},
   "outputs": [
    {
     "data": {
      "text/html": [
       "<div>\n",
       "<style scoped>\n",
       "    .dataframe tbody tr th:only-of-type {\n",
       "        vertical-align: middle;\n",
       "    }\n",
       "\n",
       "    .dataframe tbody tr th {\n",
       "        vertical-align: top;\n",
       "    }\n",
       "\n",
       "    .dataframe thead th {\n",
       "        text-align: right;\n",
       "    }\n",
       "</style>\n",
       "<table border=\"1\" class=\"dataframe\">\n",
       "  <thead>\n",
       "    <tr style=\"text-align: right;\">\n",
       "      <th></th>\n",
       "      <th>Document_No</th>\n",
       "      <th>Dominant_Topic</th>\n",
       "      <th>Topic_Perc_Contrib</th>\n",
       "      <th>Keywords</th>\n",
       "      <th>Text</th>\n",
       "    </tr>\n",
       "  </thead>\n",
       "  <tbody>\n",
       "    <tr>\n",
       "      <th>0</th>\n",
       "      <td>0</td>\n",
       "      <td>0.0</td>\n",
       "      <td>0.4863</td>\n",
       "      <td>covidvaccin, uk, thi, vaccin, whi, say, peopl,...</td>\n",
       "      <td>[onli, way, mutat, variant, viru, replic, host...</td>\n",
       "    </tr>\n",
       "    <tr>\n",
       "      <th>1</th>\n",
       "      <td>1</td>\n",
       "      <td>8.0</td>\n",
       "      <td>0.5545</td>\n",
       "      <td>vaccin, get, covidvaccin, go, im, like, peopl,...</td>\n",
       "      <td>[ive, offici, dose, covidvaccin, definit, wort...</td>\n",
       "    </tr>\n",
       "    <tr>\n",
       "      <th>2</th>\n",
       "      <td>2</td>\n",
       "      <td>0.0</td>\n",
       "      <td>0.6359</td>\n",
       "      <td>covidvaccin, uk, thi, vaccin, whi, say, peopl,...</td>\n",
       "      <td>[hendopoli, imagin, brexit, referendum, held, ...</td>\n",
       "    </tr>\n",
       "    <tr>\n",
       "      <th>3</th>\n",
       "      <td>3</td>\n",
       "      <td>13.0</td>\n",
       "      <td>0.3103</td>\n",
       "      <td>vaccin, astrazeneca, coronaviru, covidvaccin, ...</td>\n",
       "      <td>[eicostheta, insid, yep, liarsnparasit, veri, ...</td>\n",
       "    </tr>\n",
       "    <tr>\n",
       "      <th>4</th>\n",
       "      <td>4</td>\n",
       "      <td>2.0</td>\n",
       "      <td>0.4856</td>\n",
       "      <td>vaccin, provid, covidvaccin, thi, pakistan, im...</td>\n",
       "      <td>[thi, sound, like, import, topic, nicksawyermd...</td>\n",
       "    </tr>\n",
       "    <tr>\n",
       "      <th>5</th>\n",
       "      <td>5</td>\n",
       "      <td>13.0</td>\n",
       "      <td>0.4361</td>\n",
       "      <td>vaccin, astrazeneca, coronaviru, covidvaccin, ...</td>\n",
       "      <td>[studi, show, fdaapprov, vaccin, protect, curr...</td>\n",
       "    </tr>\n",
       "    <tr>\n",
       "      <th>6</th>\n",
       "      <td>6</td>\n",
       "      <td>8.0</td>\n",
       "      <td>0.3419</td>\n",
       "      <td>vaccin, get, covidvaccin, go, im, like, peopl,...</td>\n",
       "      <td>[updat, back, park, lot, peopl, line, vaccin, ...</td>\n",
       "    </tr>\n",
       "    <tr>\n",
       "      <th>7</th>\n",
       "      <td>7</td>\n",
       "      <td>14.0</td>\n",
       "      <td>0.3276</td>\n",
       "      <td>thi, take, u, know, vaccin, covidvaccin, plan,...</td>\n",
       "      <td>[german, headlin, angela_merkel, refus, astraz...</td>\n",
       "    </tr>\n",
       "    <tr>\n",
       "      <th>8</th>\n",
       "      <td>8</td>\n",
       "      <td>0.0</td>\n",
       "      <td>0.5884</td>\n",
       "      <td>covidvaccin, uk, thi, vaccin, whi, say, peopl,...</td>\n",
       "      <td>[mask, ha, slip, eu, savag, aw, vaccin, block,...</td>\n",
       "    </tr>\n",
       "    <tr>\n",
       "      <th>9</th>\n",
       "      <td>9</td>\n",
       "      <td>6.0</td>\n",
       "      <td>0.2291</td>\n",
       "      <td>vaccin, first, covidvaccin, got, dose, today, ...</td>\n",
       "      <td>[chicagoan, age, older, receiv, first, dose, w...</td>\n",
       "    </tr>\n",
       "  </tbody>\n",
       "</table>\n",
       "</div>"
      ],
      "text/plain": [
       "   Document_No  Dominant_Topic  Topic_Perc_Contrib  \\\n",
       "0            0             0.0              0.4863   \n",
       "1            1             8.0              0.5545   \n",
       "2            2             0.0              0.6359   \n",
       "3            3            13.0              0.3103   \n",
       "4            4             2.0              0.4856   \n",
       "5            5            13.0              0.4361   \n",
       "6            6             8.0              0.3419   \n",
       "7            7            14.0              0.3276   \n",
       "8            8             0.0              0.5884   \n",
       "9            9             6.0              0.2291   \n",
       "\n",
       "                                            Keywords  \\\n",
       "0  covidvaccin, uk, thi, vaccin, whi, say, peopl,...   \n",
       "1  vaccin, get, covidvaccin, go, im, like, peopl,...   \n",
       "2  covidvaccin, uk, thi, vaccin, whi, say, peopl,...   \n",
       "3  vaccin, astrazeneca, coronaviru, covidvaccin, ...   \n",
       "4  vaccin, provid, covidvaccin, thi, pakistan, im...   \n",
       "5  vaccin, astrazeneca, coronaviru, covidvaccin, ...   \n",
       "6  vaccin, get, covidvaccin, go, im, like, peopl,...   \n",
       "7  thi, take, u, know, vaccin, covidvaccin, plan,...   \n",
       "8  covidvaccin, uk, thi, vaccin, whi, say, peopl,...   \n",
       "9  vaccin, first, covidvaccin, got, dose, today, ...   \n",
       "\n",
       "                                                Text  \n",
       "0  [onli, way, mutat, variant, viru, replic, host...  \n",
       "1  [ive, offici, dose, covidvaccin, definit, wort...  \n",
       "2  [hendopoli, imagin, brexit, referendum, held, ...  \n",
       "3  [eicostheta, insid, yep, liarsnparasit, veri, ...  \n",
       "4  [thi, sound, like, import, topic, nicksawyermd...  \n",
       "5  [studi, show, fdaapprov, vaccin, protect, curr...  \n",
       "6  [updat, back, park, lot, peopl, line, vaccin, ...  \n",
       "7  [german, headlin, angela_merkel, refus, astraz...  \n",
       "8  [mask, ha, slip, eu, savag, aw, vaccin, block,...  \n",
       "9  [chicagoan, age, older, receiv, first, dose, w...  "
      ]
     },
     "execution_count": 22,
     "metadata": {},
     "output_type": "execute_result"
    }
   ],
   "source": [
    "def format_topics_sentences(ldamodel=best_model, corpus=corpus, texts=text_data):\n",
    "    # Init output\n",
    "    sent_topics_df = pd.DataFrame()\n",
    "\n",
    "    # Get main topic in each document\n",
    "    for i, row in enumerate(ldamodel[corpus]):\n",
    "        row = sorted(row, key=lambda x: (x[1]), reverse=True)\n",
    "        # Get the Dominant topic, Perc Contribution and Keywords for each document\n",
    "        for j, (topic_num, prop_topic) in enumerate(row):\n",
    "            if j == 0:  # => dominant topic\n",
    "                wp = ldamodel.show_topic(topic_num)\n",
    "                topic_keywords = \", \".join([word for word, prop in wp])\n",
    "                sent_topics_df = sent_topics_df.append(pd.Series([int(topic_num), round(prop_topic,4), topic_keywords]), ignore_index=True)\n",
    "            else:\n",
    "                break\n",
    "    sent_topics_df.columns = ['Dominant_Topic', 'Per_Contribution', 'Topic_Keywords']\n",
    "\n",
    "    # Add original text to the end of the output\n",
    "    contents = pd.Series(texts)\n",
    "    sent_topics_df = pd.concat([sent_topics_df, contents], axis=1)\n",
    "    return(sent_topics_df)\n",
    "\n",
    "\n",
    "df_topic_sents_keywords = format_topics_sentences(ldamodel=best_model, corpus=corpus, texts=text_data)\n",
    "\n",
    "# Format\n",
    "df_dominant_topic = df_topic_sents_keywords.reset_index()\n",
    "df_dominant_topic.columns = ['Document_No', 'Dominant_Topic', 'Topic_Perc_Contrib', 'Keywords', 'Text']\n",
    "\n",
    "# Show\n",
    "df_dominant_topic.head(10)\n"
   ]
  },
  {
   "cell_type": "code",
   "execution_count": null,
   "metadata": {},
   "outputs": [],
   "source": []
  }
 ],
 "metadata": {
  "kernelspec": {
   "display_name": "Python 3",
   "language": "python",
   "name": "python3"
  },
  "language_info": {
   "codemirror_mode": {
    "name": "ipython",
    "version": 3
   },
   "file_extension": ".py",
   "mimetype": "text/x-python",
   "name": "python",
   "nbconvert_exporter": "python",
   "pygments_lexer": "ipython3",
   "version": "3.7.3"
  }
 },
 "nbformat": 4,
 "nbformat_minor": 4
}
