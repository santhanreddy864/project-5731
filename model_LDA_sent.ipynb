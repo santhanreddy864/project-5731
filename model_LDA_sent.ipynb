{
 "cells": [
  {
   "cell_type": "markdown",
   "metadata": {},
   "source": [
    "# Import Libraries"
   ]
  },
  {
   "cell_type": "code",
   "execution_count": 1,
   "metadata": {},
   "outputs": [],
   "source": [
    "import re\n",
    "import os\n",
    "import io\n",
    "import spacy\n",
    "import string\n",
    "import numpy as np\n",
    "import pandas as pd\n",
    "\n",
    "# Gensim\n",
    "import gensim\n",
    "from gensim import models\n",
    "import gensim.corpora as corpora\n",
    "from gensim.models import Phrases\n",
    "from gensim.utils import simple_preprocess\n",
    "from gensim.models import CoherenceModel\n",
    "import warnings\n",
    "warnings.filterwarnings('ignore')\n"
   ]
  },
  {
   "cell_type": "code",
   "execution_count": null,
   "metadata": {},
   "outputs": [],
   "source": []
  },
  {
   "cell_type": "markdown",
   "metadata": {},
   "source": [
    "# Read and Prepare Dataset"
   ]
  },
  {
   "cell_type": "code",
   "execution_count": 2,
   "metadata": {},
   "outputs": [
    {
     "data": {
      "text/plain": [
       "(126250, 7)"
      ]
     },
     "execution_count": 2,
     "metadata": {},
     "output_type": "execute_result"
    }
   ],
   "source": [
    "dataset = pd.read_csv(\"processedcovidvaccinereact.csv\", index_col=0)\n",
    "dataset.shape"
   ]
  },
  {
   "cell_type": "code",
   "execution_count": 3,
   "metadata": {},
   "outputs": [
    {
     "data": {
      "text/plain": [
       "(125829, 7)"
      ]
     },
     "execution_count": 3,
     "metadata": {},
     "output_type": "execute_result"
    }
   ],
   "source": [
    "dataset = dataset.dropna() # drop null values\n",
    "dataset.shape"
   ]
  },
  {
   "cell_type": "code",
   "execution_count": 4,
   "metadata": {},
   "outputs": [
    {
     "data": {
      "text/html": [
       "<div>\n",
       "<style scoped>\n",
       "    .dataframe tbody tr th:only-of-type {\n",
       "        vertical-align: middle;\n",
       "    }\n",
       "\n",
       "    .dataframe tbody tr th {\n",
       "        vertical-align: top;\n",
       "    }\n",
       "\n",
       "    .dataframe thead th {\n",
       "        text-align: right;\n",
       "    }\n",
       "</style>\n",
       "<table border=\"1\" class=\"dataframe\">\n",
       "  <thead>\n",
       "    <tr style=\"text-align: right;\">\n",
       "      <th></th>\n",
       "      <th>TweetDate</th>\n",
       "      <th>TweetText</th>\n",
       "      <th>CleanedTweet</th>\n",
       "      <th>TweetAuthor</th>\n",
       "      <th>TweetLocation</th>\n",
       "      <th>AllHashtags</th>\n",
       "      <th>Country</th>\n",
       "    </tr>\n",
       "  </thead>\n",
       "  <tbody>\n",
       "    <tr>\n",
       "      <th>0</th>\n",
       "      <td>2021-03-17 23:59:34</td>\n",
       "      <td>The only way #COVID19 can mutate with variants...</td>\n",
       "      <td>onli way mutat variant viru replic host peopl ...</td>\n",
       "      <td>kemsunde</td>\n",
       "      <td>Unknown</td>\n",
       "      <td>['COVID19', 'CovidVaccine', 'GetTheFactsGetThe...</td>\n",
       "      <td>Unknown</td>\n",
       "    </tr>\n",
       "    <tr>\n",
       "      <th>1</th>\n",
       "      <td>2021-03-17 23:59:20</td>\n",
       "      <td>I've now officially had my 1st dose of the #Co...</td>\n",
       "      <td>ive offici dose covidvaccin definit worth driv...</td>\n",
       "      <td>ManeckiN</td>\n",
       "      <td>The Wild Western Wastes</td>\n",
       "      <td>['CovidVaccine', 'COVID19', 'PfizerVaccine', '...</td>\n",
       "      <td>Unknown</td>\n",
       "    </tr>\n",
       "    <tr>\n",
       "      <th>2</th>\n",
       "      <td>2021-03-17 23:58:31</td>\n",
       "      <td>@hendopolis Imagine if the #Brexit referendum ...</td>\n",
       "      <td>hendopoli imagin brexit referendum held secret...</td>\n",
       "      <td>raymasseytweets</td>\n",
       "      <td>England</td>\n",
       "      <td>['Brexit', 'EU', 'TrueColours', 'Impfstoff', '...</td>\n",
       "      <td>United Kingdom</td>\n",
       "    </tr>\n",
       "    <tr>\n",
       "      <th>3</th>\n",
       "      <td>2021-03-17 23:58:03</td>\n",
       "      <td>@EICostheta @RicBarraArch1 @insiders Yep. The ...</td>\n",
       "      <td>eicostheta insid yep liarsnparasit veri narrow...</td>\n",
       "      <td>MikeFitzAU</td>\n",
       "      <td>Mudjimba</td>\n",
       "      <td>['LiarsNParasites', 'CovidVaccine']</td>\n",
       "      <td>Australia</td>\n",
       "    </tr>\n",
       "    <tr>\n",
       "      <th>4</th>\n",
       "      <td>2021-03-17 23:57:37</td>\n",
       "      <td>This sounds like an important topic for @NickS...</td>\n",
       "      <td>thi sound like import topic nicksawyermd tnich...</td>\n",
       "      <td>stephjantzen</td>\n",
       "      <td>Greater Sacramento</td>\n",
       "      <td>['FiresideChat', 'CovidVaccine']</td>\n",
       "      <td>Brazil</td>\n",
       "    </tr>\n",
       "  </tbody>\n",
       "</table>\n",
       "</div>"
      ],
      "text/plain": [
       "             TweetDate                                          TweetText  \\\n",
       "0  2021-03-17 23:59:34  The only way #COVID19 can mutate with variants...   \n",
       "1  2021-03-17 23:59:20  I've now officially had my 1st dose of the #Co...   \n",
       "2  2021-03-17 23:58:31  @hendopolis Imagine if the #Brexit referendum ...   \n",
       "3  2021-03-17 23:58:03  @EICostheta @RicBarraArch1 @insiders Yep. The ...   \n",
       "4  2021-03-17 23:57:37  This sounds like an important topic for @NickS...   \n",
       "\n",
       "                                        CleanedTweet      TweetAuthor  \\\n",
       "0  onli way mutat variant viru replic host peopl ...         kemsunde   \n",
       "1  ive offici dose covidvaccin definit worth driv...         ManeckiN   \n",
       "2  hendopoli imagin brexit referendum held secret...  raymasseytweets   \n",
       "3  eicostheta insid yep liarsnparasit veri narrow...       MikeFitzAU   \n",
       "4  thi sound like import topic nicksawyermd tnich...     stephjantzen   \n",
       "\n",
       "             TweetLocation                                        AllHashtags  \\\n",
       "0                  Unknown  ['COVID19', 'CovidVaccine', 'GetTheFactsGetThe...   \n",
       "1  The Wild Western Wastes  ['CovidVaccine', 'COVID19', 'PfizerVaccine', '...   \n",
       "2                  England  ['Brexit', 'EU', 'TrueColours', 'Impfstoff', '...   \n",
       "3                 Mudjimba                ['LiarsNParasites', 'CovidVaccine']   \n",
       "4       Greater Sacramento                   ['FiresideChat', 'CovidVaccine']   \n",
       "\n",
       "          Country  \n",
       "0         Unknown  \n",
       "1         Unknown  \n",
       "2  United Kingdom  \n",
       "3       Australia  \n",
       "4          Brazil  "
      ]
     },
     "execution_count": 4,
     "metadata": {},
     "output_type": "execute_result"
    }
   ],
   "source": [
    "dataset.head(5)"
   ]
  },
  {
   "cell_type": "code",
   "execution_count": 5,
   "metadata": {},
   "outputs": [],
   "source": [
    "text_data = dataset[\"CleanedTweet\"]  # select cleaned tweets column\n",
    "#text_data = text_data[:100]"
   ]
  },
  {
   "cell_type": "code",
   "execution_count": 6,
   "metadata": {},
   "outputs": [],
   "source": [
    "text__data =  [text.split() for text in text_data]  # tokenize dataset"
   ]
  },
  {
   "cell_type": "code",
   "execution_count": 7,
   "metadata": {},
   "outputs": [
    {
     "data": {
      "text/plain": [
       "125829"
      ]
     },
     "execution_count": 7,
     "metadata": {},
     "output_type": "execute_result"
    }
   ],
   "source": [
    "len(text__data)"
   ]
  },
  {
   "cell_type": "code",
   "execution_count": 9,
   "metadata": {},
   "outputs": [
    {
     "name": "stdout",
     "output_type": "stream",
     "text": [
      "['covax', 'vax', 'behalf_covax', 'covishield', 'borisjohnson', 'johnson', 'johnsonandjohnson', 'johnsonandjohnsonvaccine', 'moderna', 'modernavaccine', 'modernapfizer', 'teammoderna', 'pfizercovidvaccine', 'pfizervaccine', 'pfizer', 'astrazeneca', 'biontech', 'janssen']\n"
     ]
    }
   ],
   "source": [
    "brand_keywords =['Covax','Vax','behalf_covax','Covishield','borisjohnson','johnson','johnsonandjohnson',\n",
    "           'johnsonandjohnsonvaccine','moderna','modernavaccine','modernapfizer','teammoderna','pfizercovidvaccine',\n",
    "           'pfizervaccine','pfizer', 'AstraZeneca','bioNtech','Janssen']\n",
    "brand_keywords = [i.lower() for i in brand_keywords]\n",
    "print(brand_keywords)\n",
    "text_data = []\n",
    "for tweetSentence in text__data:\n",
    "  \n",
    "  sent = []\n",
    "  for tweetWord in tweetSentence:\n",
    "    if tweetWord in brand_keywords:\n",
    "        sent.append(tweetWord)\n",
    "       \n",
    "  if sent:\n",
    "    text_data.append(sent)\n"
   ]
  },
  {
   "cell_type": "code",
   "execution_count": 10,
   "metadata": {},
   "outputs": [
    {
     "data": {
      "text/plain": [
       "[['astrazeneca'],\n",
       " ['astrazeneca'],\n",
       " ['pfizer'],\n",
       " ['astrazeneca'],\n",
       " ['pfizer'],\n",
       " ['astrazeneca'],\n",
       " ['moderna'],\n",
       " ['moderna'],\n",
       " ['pfizer'],\n",
       " ['moderna', 'moderna']]"
      ]
     },
     "execution_count": 10,
     "metadata": {},
     "output_type": "execute_result"
    }
   ],
   "source": [
    "text_data[:10]"
   ]
  },
  {
   "cell_type": "markdown",
   "metadata": {},
   "source": [
    "### Make Bigrams for LDA Model"
   ]
  },
  {
   "cell_type": "code",
   "execution_count": 11,
   "metadata": {},
   "outputs": [],
   "source": [
    "# Build the bigram models\n",
    "bigram = gensim.models.Phrases(text_data, min_count=1) # higher threshold fewer phrases.\n",
    "\n",
    "# Faster way to get a sentence clubbed as a bigram\n",
    "bigram_mod = gensim.models.phrases.Phraser(bigram)\n",
    "\n",
    "text_data = [bigram_mod[doc] for doc in text_data]"
   ]
  },
  {
   "cell_type": "code",
   "execution_count": 12,
   "metadata": {},
   "outputs": [
    {
     "data": {
      "text/plain": [
       "[['astrazeneca'],\n",
       " ['astrazeneca'],\n",
       " ['pfizer'],\n",
       " ['astrazeneca'],\n",
       " ['pfizer'],\n",
       " ['astrazeneca'],\n",
       " ['moderna'],\n",
       " ['moderna'],\n",
       " ['pfizer'],\n",
       " ['moderna', 'moderna']]"
      ]
     },
     "execution_count": 12,
     "metadata": {},
     "output_type": "execute_result"
    }
   ],
   "source": [
    "text_data[:10]"
   ]
  },
  {
   "cell_type": "markdown",
   "metadata": {},
   "source": [
    "# Build Dictionary"
   ]
  },
  {
   "cell_type": "code",
   "execution_count": 13,
   "metadata": {},
   "outputs": [],
   "source": [
    "# make dictionary of complete corpus\n",
    "dictionary_LDA = corpora.Dictionary(text_data)\n",
    "# filter tokens below frequency of 3 words\n",
    "dictionary_LDA.filter_extremes(no_below=3)\n",
    "# index to words \n",
    "corpus = [dictionary_LDA.doc2bow(tok) for tok in text_data]"
   ]
  },
  {
   "cell_type": "markdown",
   "metadata": {},
   "source": [
    "# Build LDA Model\n",
    "# Compute Coherence and Preplexity\n",
    "# Choose optimal number of topics"
   ]
  },
  {
   "cell_type": "code",
   "execution_count": 14,
   "metadata": {},
   "outputs": [],
   "source": [
    "def compute_coherence_values(dictionary, corpus, texts, limit, start=2, step=3):\n",
    "    \n",
    "    topics_list = [2, 4, 6, 8, 10, 12]\n",
    "    coherence_values = []\n",
    "    perplexity_val = []\n",
    "    model_list = []\n",
    "    for num_topics in topics_list:\n",
    "        model = models.LdaModel(corpus, num_topics=num_topics, id2word=dictionary_LDA, passes=40,iterations =100, alpha=0.05, eta=0.01)\n",
    "        model_list.append(model)\n",
    "        coherencemodel = CoherenceModel(model=model, texts=text_data, dictionary=dictionary_LDA, coherence='c_v')\n",
    "        coherence_values.append(coherencemodel.get_coherence())\n",
    "        perplexity_val.append(model.log_perplexity(corpus))\n",
    "\n",
    "    return model_list, coherence_values, perplexity_val"
   ]
  },
  {
   "cell_type": "code",
   "execution_count": null,
   "metadata": {},
   "outputs": [],
   "source": []
  },
  {
   "cell_type": "markdown",
   "metadata": {},
   "source": [
    "# Train LDA Model"
   ]
  },
  {
   "cell_type": "code",
   "execution_count": 15,
   "metadata": {},
   "outputs": [],
   "source": [
    "# Can take a long time to run.\n",
    "model_list, coherence_values, perplexity_val = compute_coherence_values(dictionary=dictionary_LDA, corpus=corpus, texts=text_data, start=2, limit=40, step=6)"
   ]
  },
  {
   "cell_type": "markdown",
   "metadata": {},
   "source": [
    "# Plot Coherence Scores"
   ]
  },
  {
   "cell_type": "code",
   "execution_count": 16,
   "metadata": {},
   "outputs": [
    {
     "data": {
      "image/png": "[encoded data removed]",
      "text/plain": [
       "<Figure size 432x288 with 1 Axes>"
      ]
     },
     "metadata": {
      "needs_background": "light"
     },
     "output_type": "display_data"
    }
   ],
   "source": [
    "# Show graph\n",
    "import matplotlib.pyplot as plt\n",
    "\n",
    "topics_list = [2, 4,6, 8, 10, 12]\n",
    "plt.plot(topics_list, coherence_values)\n",
    "plt.xlabel(\"Num Topics\")\n",
    "plt.ylabel(\"Coherence score\")\n",
    "plt.legend((\"coherence_values\"), loc='best')\n",
    "plt.show()"
   ]
  },
  {
   "cell_type": "markdown",
   "metadata": {},
   "source": [
    "# Plot Perplexity Scores"
   ]
  },
  {
   "cell_type": "code",
   "execution_count": 17,
   "metadata": {},
   "outputs": [
    {
     "data": {
      "image/png": "[encoded data removed]",
      "text/plain": [
       "<Figure size 432x288 with 1 Axes>"
      ]
     },
     "metadata": {
      "needs_background": "light"
     },
     "output_type": "display_data"
    }
   ],
   "source": [
    "# Show graph\n",
    "import matplotlib.pyplot as plt\n",
    "\n",
    "topics_list = [2, 4,6, 8, 10, 12]\n",
    "plt.plot(topics_list, perplexity_val)\n",
    "plt.xlabel(\"Num Topics\")\n",
    "plt.ylabel(\"Perplexity score\")\n",
    "plt.legend((\"perplexity_values\"), loc='best')\n",
    "plt.show()"
   ]
  },
  {
   "cell_type": "markdown",
   "metadata": {},
   "source": [
    "### Display Results"
   ]
  },
  {
   "cell_type": "code",
   "execution_count": 18,
   "metadata": {},
   "outputs": [
    {
     "name": "stdout",
     "output_type": "stream",
     "text": [
      "Num Topics = 6  has Coherence Value of 0.544  has Perplexity of -1.8807\n",
      "Num Topics = 8  has Coherence Value of 0.544  has Perplexity of -2.0265\n",
      "Num Topics = 10  has Coherence Value of 0.544  has Perplexity of -2.1154\n",
      "Num Topics = 12  has Coherence Value of 0.544  has Perplexity of -2.2736\n"
     ]
    }
   ],
   "source": [
    "# Print the coherence scores\n",
    "topics_list = [6, 8, 10, 12]\n",
    "for m, cv, pr in zip(topics_list, coherence_values, perplexity_val):\n",
    "    print(\"Num Topics =\", m, \" has Coherence Value of\", round(cv, 4), \" has Perplexity of\", round(pr, 4))"
   ]
  },
  {
   "cell_type": "markdown",
   "metadata": {},
   "source": [
    "## Train Model with Best number of topics"
   ]
  },
  {
   "cell_type": "code",
   "execution_count": 19,
   "metadata": {},
   "outputs": [],
   "source": [
    "best_topic_number = 10\n",
    "best_model = models.LdaModel(corpus, num_topics=best_topic_number, id2word=dictionary_LDA, passes=40, iterations = 100, alpha=0.05, eta=0.01)\n",
    "        "
   ]
  },
  {
   "cell_type": "code",
   "execution_count": 20,
   "metadata": {},
   "outputs": [
    {
     "name": "stdout",
     "output_type": "stream",
     "text": [
      "Num Topics = 10  has Coherence Value of 0.544  has Perplexity of -2.3729\n"
     ]
    }
   ],
   "source": [
    "coherencemodel = CoherenceModel(model=best_model, texts=text_data, dictionary=dictionary_LDA, coherence='c_v')\n",
    "coherence_score = coherencemodel.get_coherence()\n",
    "perplexity_score = best_model.log_perplexity(corpus)\n",
    "print(\"Num Topics =\", best_topic_number, \" has Coherence Value of\", round(coherence_score, 4), \" has Perplexity of\", round(perplexity_score, 4))\n",
    "        "
   ]
  },
  {
   "cell_type": "code",
   "execution_count": 28,
   "metadata": {},
   "outputs": [
    {
     "name": "stdout",
     "output_type": "stream",
     "text": [
      "0: 0.500*\"pfizer\" + 0.500*\"moderna\" + 0.000*\"vax\" + 0.000*\"johnson\" + 0.000*\"covishield\" + 0.000*\"borisjohnson\" + 0.000*\"johnsonandjohnson\" + 0.000*\"biontech\" + 0.000*\"teammoderna\" + 0.000*\"covax\"\n",
      "\n",
      "1: 0.518*\"covax\" + 0.482*\"covishield\" + 0.000*\"pfizer\" + 0.000*\"moderna\" + 0.000*\"vax\" + 0.000*\"johnson\" + 0.000*\"borisjohnson\" + 0.000*\"johnsonandjohnson\" + 0.000*\"biontech\" + 0.000*\"teammoderna\"\n",
      "\n",
      "2: 0.661*\"biontech\" + 0.338*\"pfizer\" + 0.000*\"moderna\" + 0.000*\"vax\" + 0.000*\"johnson\" + 0.000*\"covishield\" + 0.000*\"borisjohnson\" + 0.000*\"johnsonandjohnson\" + 0.000*\"teammoderna\" + 0.000*\"covax\"\n",
      "\n",
      "3: 1.000*\"johnsonandjohnson\" + 0.000*\"pfizer\" + 0.000*\"moderna\" + 0.000*\"vax\" + 0.000*\"johnson\" + 0.000*\"covishield\" + 0.000*\"borisjohnson\" + 0.000*\"biontech\" + 0.000*\"teammoderna\" + 0.000*\"covax\"\n",
      "\n",
      "4: 0.999*\"janssen\" + 0.000*\"pfizer\" + 0.000*\"moderna\" + 0.000*\"vax\" + 0.000*\"johnson\" + 0.000*\"covishield\" + 0.000*\"borisjohnson\" + 0.000*\"johnsonandjohnson\" + 0.000*\"biontech\" + 0.000*\"teammoderna\"\n",
      "\n",
      "5: 1.000*\"moderna\" + 0.000*\"pfizer\" + 0.000*\"vax\" + 0.000*\"johnson\" + 0.000*\"covishield\" + 0.000*\"borisjohnson\" + 0.000*\"johnsonandjohnson\" + 0.000*\"biontech\" + 0.000*\"teammoderna\" + 0.000*\"covax\"\n",
      "\n",
      "6: 1.000*\"borisjohnson\" + 0.000*\"pfizer\" + 0.000*\"moderna\" + 0.000*\"vax\" + 0.000*\"johnson\" + 0.000*\"covishield\" + 0.000*\"johnsonandjohnson\" + 0.000*\"biontech\" + 0.000*\"teammoderna\" + 0.000*\"covax\"\n",
      "\n",
      "7: 0.995*\"teammoderna\" + 0.001*\"pfizer\" + 0.001*\"moderna\" + 0.001*\"vax\" + 0.001*\"johnson\" + 0.001*\"covishield\" + 0.001*\"borisjohnson\" + 0.001*\"johnsonandjohnson\" + 0.001*\"biontech\" + 0.001*\"covax\"\n",
      "\n",
      "8: 1.000*\"pfizer\" + 0.000*\"moderna\" + 0.000*\"vax\" + 0.000*\"johnson\" + 0.000*\"covishield\" + 0.000*\"borisjohnson\" + 0.000*\"johnsonandjohnson\" + 0.000*\"biontech\" + 0.000*\"teammoderna\" + 0.000*\"covax\"\n",
      "\n",
      "9: 0.629*\"johnson\" + 0.371*\"vax\" + 0.000*\"pfizer\" + 0.000*\"moderna\" + 0.000*\"covishield\" + 0.000*\"borisjohnson\" + 0.000*\"johnsonandjohnson\" + 0.000*\"biontech\" + 0.000*\"teammoderna\" + 0.000*\"covax\"\n",
      "\n"
     ]
    }
   ],
   "source": [
    "# display all topics with weight of all keywords\n",
    "for i,topic in best_model.show_topics(formatted=True, num_topics=best_topic_number, num_words=10):\n",
    "    print(str(i)+\": \"+ topic)\n",
    "    print()"
   ]
  },
  {
   "cell_type": "markdown",
   "metadata": {},
   "source": [
    "# Visulaize Topics"
   ]
  },
  {
   "cell_type": "code",
   "execution_count": 22,
   "metadata": {},
   "outputs": [
    {
     "name": "stderr",
     "output_type": "stream",
     "text": [
      "C:\\Users\\hammad\\Anaconda3\\lib\\site-packages\\sklearn\\linear_model\\_least_angle.py:34: DeprecationWarning: `np.float` is a deprecated alias for the builtin `float`. To silence this warning, use `float` by itself. Doing this will not modify any behavior and is safe. If you specifically wanted the numpy scalar type, use `np.float64` here.\n",
      "Deprecated in NumPy 1.20; for more details and guidance: https://numpy.org/devdocs/release/1.20.0-notes.html#deprecations\n",
      "  method='lar', copy_X=True, eps=np.finfo(np.float).eps,\n",
      "C:\\Users\\hammad\\Anaconda3\\lib\\site-packages\\sklearn\\linear_model\\_least_angle.py:164: DeprecationWarning: `np.float` is a deprecated alias for the builtin `float`. To silence this warning, use `float` by itself. Doing this will not modify any behavior and is safe. If you specifically wanted the numpy scalar type, use `np.float64` here.\n",
      "Deprecated in NumPy 1.20; for more details and guidance: https://numpy.org/devdocs/release/1.20.0-notes.html#deprecations\n",
      "  method='lar', copy_X=True, eps=np.finfo(np.float).eps,\n",
      "C:\\Users\\hammad\\Anaconda3\\lib\\site-packages\\sklearn\\linear_model\\_least_angle.py:281: DeprecationWarning: `np.float` is a deprecated alias for the builtin `float`. To silence this warning, use `float` by itself. Doing this will not modify any behavior and is safe. If you specifically wanted the numpy scalar type, use `np.float64` here.\n",
      "Deprecated in NumPy 1.20; for more details and guidance: https://numpy.org/devdocs/release/1.20.0-notes.html#deprecations\n",
      "  eps=np.finfo(np.float).eps, copy_Gram=True, verbose=0,\n",
      "C:\\Users\\hammad\\Anaconda3\\lib\\site-packages\\sklearn\\linear_model\\_least_angle.py:865: DeprecationWarning: `np.float` is a deprecated alias for the builtin `float`. To silence this warning, use `float` by itself. Doing this will not modify any behavior and is safe. If you specifically wanted the numpy scalar type, use `np.float64` here.\n",
      "Deprecated in NumPy 1.20; for more details and guidance: https://numpy.org/devdocs/release/1.20.0-notes.html#deprecations\n",
      "  eps=np.finfo(np.float).eps, copy_X=True, fit_path=True,\n",
      "C:\\Users\\hammad\\Anaconda3\\lib\\site-packages\\sklearn\\linear_model\\_least_angle.py:1121: DeprecationWarning: `np.float` is a deprecated alias for the builtin `float`. To silence this warning, use `float` by itself. Doing this will not modify any behavior and is safe. If you specifically wanted the numpy scalar type, use `np.float64` here.\n",
      "Deprecated in NumPy 1.20; for more details and guidance: https://numpy.org/devdocs/release/1.20.0-notes.html#deprecations\n",
      "  eps=np.finfo(np.float).eps, copy_X=True, fit_path=True,\n",
      "C:\\Users\\hammad\\Anaconda3\\lib\\site-packages\\sklearn\\linear_model\\_least_angle.py:1149: DeprecationWarning: `np.float` is a deprecated alias for the builtin `float`. To silence this warning, use `float` by itself. Doing this will not modify any behavior and is safe. If you specifically wanted the numpy scalar type, use `np.float64` here.\n",
      "Deprecated in NumPy 1.20; for more details and guidance: https://numpy.org/devdocs/release/1.20.0-notes.html#deprecations\n",
      "  eps=np.finfo(np.float).eps, positive=False):\n",
      "C:\\Users\\hammad\\Anaconda3\\lib\\site-packages\\sklearn\\linear_model\\_least_angle.py:1379: DeprecationWarning: `np.float` is a deprecated alias for the builtin `float`. To silence this warning, use `float` by itself. Doing this will not modify any behavior and is safe. If you specifically wanted the numpy scalar type, use `np.float64` here.\n",
      "Deprecated in NumPy 1.20; for more details and guidance: https://numpy.org/devdocs/release/1.20.0-notes.html#deprecations\n",
      "  max_n_alphas=1000, n_jobs=None, eps=np.finfo(np.float).eps,\n",
      "C:\\Users\\hammad\\Anaconda3\\lib\\site-packages\\sklearn\\linear_model\\_least_angle.py:1621: DeprecationWarning: `np.float` is a deprecated alias for the builtin `float`. To silence this warning, use `float` by itself. Doing this will not modify any behavior and is safe. If you specifically wanted the numpy scalar type, use `np.float64` here.\n",
      "Deprecated in NumPy 1.20; for more details and guidance: https://numpy.org/devdocs/release/1.20.0-notes.html#deprecations\n",
      "  max_n_alphas=1000, n_jobs=None, eps=np.finfo(np.float).eps,\n",
      "C:\\Users\\hammad\\Anaconda3\\lib\\site-packages\\sklearn\\linear_model\\_least_angle.py:1755: DeprecationWarning: `np.float` is a deprecated alias for the builtin `float`. To silence this warning, use `float` by itself. Doing this will not modify any behavior and is safe. If you specifically wanted the numpy scalar type, use `np.float64` here.\n",
      "Deprecated in NumPy 1.20; for more details and guidance: https://numpy.org/devdocs/release/1.20.0-notes.html#deprecations\n",
      "  eps=np.finfo(np.float).eps, copy_X=True, positive=False):\n",
      "C:\\Users\\hammad\\Anaconda3\\lib\\site-packages\\sklearn\\decomposition\\_lda.py:28: DeprecationWarning: `np.float` is a deprecated alias for the builtin `float`. To silence this warning, use `float` by itself. Doing this will not modify any behavior and is safe. If you specifically wanted the numpy scalar type, use `np.float64` here.\n",
      "Deprecated in NumPy 1.20; for more details and guidance: https://numpy.org/devdocs/release/1.20.0-notes.html#deprecations\n",
      "  EPS = np.finfo(np.float).eps\n"
     ]
    },
    {
     "data": {
      "text/html": [
       "\n",
       "<link rel=\"stylesheet\" type=\"text/css\" href=\"https://cdn.rawgit.com/bmabey/pyLDAvis/files/ldavis.v1.0.0.css\">\n",
       "\n",
       "\n",
       "<div id=\"ldavis_el98127969038258403421977718\"></div>\n",
       "<script type=\"text/javascript\">\n",
       "\n",
       "var ldavis_el98127969038258403421977718_data = {\"mdsDat\": {\"x\": [-0.060327156395662475, 0.2814566287893047, -0.4855506456775864, -0.18495254216360807, 0.09449914611615129, 0.48444712771901355, 0.1056471395133104, -0.1741476342858599, -0.4065995138406086, 0.3455274502255453], \"y\": [-0.21857475535668935, -0.3568119293531341, -0.11391681084970043, 0.4116686865012993, -0.3128870519964061, 0.004474884589553032, 0.44549665730564136, -0.355225435813202, 0.2139383572942121, 0.2818373976784263], \"topics\": [1, 2, 3, 4, 5, 6, 7, 8, 9, 10], \"cluster\": [1, 1, 1, 1, 1, 1, 1, 1, 1, 1], \"Freq\": [24.658372169368082, 19.062805947710032, 13.832475834516849, 9.329397891893427, 9.11815730083216, 7.820478242376152, 5.338917906617311, 4.403807273334668, 3.4840794129150128, 2.951508020436308]}, \"tinfo\": {\"Term\": [\"pfizer\", \"moderna\", \"borisjohnson\", \"johnson\", \"johnsonandjohnson\", \"janssen\", \"covax\", \"covishield\", \"teammoderna\", \"vax\", \"biontech\", \"pfizer\", \"biontech\", \"teammoderna\", \"janssen\", \"covishield\", \"covax\", \"vax\", \"johnsonandjohnson\", \"borisjohnson\", \"johnson\", \"moderna\", \"moderna\", \"biontech\", \"teammoderna\", \"janssen\", \"covishield\", \"covax\", \"vax\", \"johnsonandjohnson\", \"borisjohnson\", \"johnson\", \"pfizer\", \"johnson\", \"vax\", \"biontech\", \"teammoderna\", \"janssen\", \"covishield\", \"covax\", \"johnsonandjohnson\", \"borisjohnson\", \"moderna\", \"pfizer\", \"covax\", \"covishield\", \"biontech\", \"teammoderna\", \"janssen\", \"vax\", \"johnsonandjohnson\", \"borisjohnson\", \"johnson\", \"moderna\", \"pfizer\", \"moderna\", \"pfizer\", \"biontech\", \"teammoderna\", \"janssen\", \"covishield\", \"covax\", \"vax\", \"johnsonandjohnson\", \"borisjohnson\", \"johnson\", \"borisjohnson\", \"biontech\", \"teammoderna\", \"janssen\", \"covishield\", \"covax\", \"vax\", \"johnsonandjohnson\", \"johnson\", \"moderna\", \"pfizer\", \"johnsonandjohnson\", \"biontech\", \"teammoderna\", \"janssen\", \"covishield\", \"covax\", \"vax\", \"borisjohnson\", \"johnson\", \"moderna\", \"pfizer\", \"biontech\", \"pfizer\", \"teammoderna\", \"janssen\", \"covishield\", \"covax\", \"vax\", \"johnsonandjohnson\", \"borisjohnson\", \"johnson\", \"moderna\", \"janssen\", \"biontech\", \"teammoderna\", \"covishield\", \"covax\", \"vax\", \"johnsonandjohnson\", \"borisjohnson\", \"johnson\", \"moderna\", \"pfizer\", \"teammoderna\", \"biontech\", \"janssen\", \"covishield\", \"covax\", \"vax\", \"johnsonandjohnson\", \"borisjohnson\", \"johnson\", \"moderna\", \"pfizer\"], \"Freq\": [3130.0, 2407.0, 797.0, 887.0, 544.0, 355.0, 492.0, 458.0, 299.0, 522.0, 297.0, 2513.5951421756795, 0.007931797871109652, 0.007931797871109652, 0.007931797871109652, 0.007931797871109652, 0.007931797871109652, 0.007931797871109652, 0.007931797871109652, 0.007931797871109652, 0.007931797871109652, 0.007931797871109652, 1943.1787656836082, 0.008370345507498614, 0.008370345507498614, 0.008370345507498614, 0.008370345507498614, 0.008370345507498614, 0.008370345507498614, 0.008370345507498614, 0.008370345507498614, 0.008370345507498614, 0.008370345507498614, 887.3796258239257, 522.6223684500501, 0.008954201939885567, 0.008954201939885567, 0.008954201939885567, 0.008954201939885567, 0.008954201939885567, 0.008954201939885567, 0.008954201939885567, 0.008954201939885567, 0.008954201939885567, 492.71301623156126, 458.2367568649668, 0.009894851330784247, 0.009894851330784247, 0.009894851330784247, 0.009894851330784247, 0.009894851330784247, 0.009894851330784247, 0.009894851330784247, 0.009894851330784247, 0.009894851330784247, 464.36750035751345, 465.0110594529327, 0.014043788432737705, 0.014043788432737705, 0.014043788432737705, 0.014043788432737705, 0.014043788432737705, 0.014043788432737705, 0.014043788432737705, 0.014043788432737705, 0.014043788432737705, 797.1162293779887, 0.010332771539696476, 0.010332771539696476, 0.010332771539696476, 0.010332771539696476, 0.010332771539696476, 0.010332771539696476, 0.010332771539696476, 0.010332771539696476, 0.010332771539696476, 0.010332771539696476, 544.1096903409237, 0.013955360098064267, 0.013955360098064267, 0.013955360098064267, 0.013955360098064267, 0.013955360098064267, 0.013955360098064267, 0.013955360098064267, 0.013955360098064267, 0.013955360098064267, 0.013955360098064267, 296.8665180091395, 151.87064048415817, 0.020778259123935855, 0.020778259123935855, 0.020778259123935855, 0.020778259123935855, 0.020778259123935855, 0.020778259123935855, 0.020778259123935855, 0.020778259123935855, 0.020778259123935855, 354.83965912165496, 0.032740701673312854, 0.032740701673312854, 0.032740701673312854, 0.032740701673312854, 0.032740701673312854, 0.032740701673312854, 0.032740701673312854, 0.032740701673312854, 0.032740701673312854, 0.032740701673312854, 299.23408783174006, 0.16426396047048836, 0.16426396047048836, 0.16426396047048836, 0.16426396047048836, 0.16426396047048836, 0.16426396047048836, 0.16426396047048836, 0.16426396047048836, 0.16426396047048836, 0.16426396047048836], \"Total\": [3130.0, 2407.0, 797.0, 887.0, 544.0, 355.0, 492.0, 458.0, 299.0, 522.0, 297.0, 3130.7253543053303, 297.1370057880031, 299.3610899092571, 355.0981844579691, 458.51812805162353, 492.99438741821797, 522.9046802860978, 544.3870010188133, 797.3971626444367, 887.6619376599734, 2407.8151179451693, 2407.8151179451693, 297.1370057880031, 299.3610899092571, 355.0981844579691, 458.51812805162353, 492.99438741821797, 522.9046802860978, 544.3870010188133, 797.3971626444367, 887.6619376599734, 3130.7253543053303, 887.6619376599734, 522.9046802860978, 297.1370057880031, 299.3610899092571, 355.0981844579691, 458.51812805162353, 492.99438741821797, 544.3870010188133, 797.3971626444367, 2407.8151179451693, 3130.7253543053303, 492.99438741821797, 458.51812805162353, 297.1370057880031, 299.3610899092571, 355.0981844579691, 522.9046802860978, 544.3870010188133, 797.3971626444367, 887.6619376599734, 2407.8151179451693, 3130.7253543053303, 2407.8151179451693, 3130.7253543053303, 297.1370057880031, 299.3610899092571, 355.0981844579691, 458.51812805162353, 492.99438741821797, 522.9046802860978, 544.3870010188133, 797.3971626444367, 887.6619376599734, 797.3971626444367, 297.1370057880031, 299.3610899092571, 355.0981844579691, 458.51812805162353, 492.99438741821797, 522.9046802860978, 544.3870010188133, 887.6619376599734, 2407.8151179451693, 3130.7253543053303, 544.3870010188133, 297.1370057880031, 299.3610899092571, 355.0981844579691, 458.51812805162353, 492.99438741821797, 522.9046802860978, 797.3971626444367, 887.6619376599734, 2407.8151179451693, 3130.7253543053303, 297.1370057880031, 3130.7253543053303, 299.3610899092571, 355.0981844579691, 458.51812805162353, 492.99438741821797, 522.9046802860978, 544.3870010188133, 797.3971626444367, 887.6619376599734, 2407.8151179451693, 355.0981844579691, 297.1370057880031, 299.3610899092571, 458.51812805162353, 492.99438741821797, 522.9046802860978, 544.3870010188133, 797.3971626444367, 887.6619376599734, 2407.8151179451693, 3130.7253543053303, 299.3610899092571, 297.1370057880031, 355.0981844579691, 458.51812805162353, 492.99438741821797, 522.9046802860978, 544.3870010188133, 797.3971626444367, 887.6619376599734, 2407.8151179451693, 3130.7253543053303], \"Category\": [\"Default\", \"Default\", \"Default\", \"Default\", \"Default\", \"Default\", \"Default\", \"Default\", \"Default\", \"Default\", \"Default\", \"Topic1\", \"Topic1\", \"Topic1\", \"Topic1\", \"Topic1\", \"Topic1\", \"Topic1\", \"Topic1\", \"Topic1\", \"Topic1\", \"Topic1\", \"Topic2\", \"Topic2\", \"Topic2\", \"Topic2\", \"Topic2\", \"Topic2\", \"Topic2\", \"Topic2\", \"Topic2\", \"Topic2\", \"Topic2\", \"Topic3\", \"Topic3\", \"Topic3\", \"Topic3\", \"Topic3\", \"Topic3\", \"Topic3\", \"Topic3\", \"Topic3\", \"Topic3\", \"Topic3\", \"Topic4\", \"Topic4\", \"Topic4\", \"Topic4\", \"Topic4\", \"Topic4\", \"Topic4\", \"Topic4\", \"Topic4\", \"Topic4\", \"Topic4\", \"Topic5\", \"Topic5\", \"Topic5\", \"Topic5\", \"Topic5\", \"Topic5\", \"Topic5\", \"Topic5\", \"Topic5\", \"Topic5\", \"Topic5\", \"Topic6\", \"Topic6\", \"Topic6\", \"Topic6\", \"Topic6\", \"Topic6\", \"Topic6\", \"Topic6\", \"Topic6\", \"Topic6\", \"Topic6\", \"Topic7\", \"Topic7\", \"Topic7\", \"Topic7\", \"Topic7\", \"Topic7\", \"Topic7\", \"Topic7\", \"Topic7\", \"Topic7\", \"Topic7\", \"Topic8\", \"Topic8\", \"Topic8\", \"Topic8\", \"Topic8\", \"Topic8\", \"Topic8\", \"Topic8\", \"Topic8\", \"Topic8\", \"Topic8\", \"Topic9\", \"Topic9\", \"Topic9\", \"Topic9\", \"Topic9\", \"Topic9\", \"Topic9\", \"Topic9\", \"Topic9\", \"Topic9\", \"Topic9\", \"Topic10\", \"Topic10\", \"Topic10\", \"Topic10\", \"Topic10\", \"Topic10\", \"Topic10\", \"Topic10\", \"Topic10\", \"Topic10\", \"Topic10\"], \"logprob\": [11.0, 10.0, 9.0, 8.0, 7.0, 6.0, 5.0, 4.0, 3.0, 2.0, 1.0, -0.0, -12.666399955749512, -12.666399955749512, -12.666399955749512, -12.666399955749512, -12.666399955749512, -12.666399955749512, -12.666399955749512, -12.666399955749512, -12.666399955749512, -12.666399955749512, -0.0, -12.355199813842773, -12.355199813842773, -12.355199813842773, -12.355199813842773, -12.355199813842773, -12.355199813842773, -12.355199813842773, -12.355199813842773, -12.355199813842773, -12.355199813842773, -0.46309998631477356, -0.9925000071525574, -11.967000007629395, -11.967000007629395, -11.967000007629395, -11.967000007629395, -11.967000007629395, -11.967000007629395, -11.967000007629395, -11.967000007629395, -11.967000007629395, -0.6575999855995178, -0.7301999926567078, -11.473299980163574, -11.473299980163574, -11.473299980163574, -11.473299980163574, -11.473299980163574, -11.473299980163574, -11.473299980163574, -11.473299980163574, -11.473299980163574, -0.6940000057220459, -0.6926000118255615, -11.100199699401855, -11.100199699401855, -11.100199699401855, -11.100199699401855, -11.100199699401855, -11.100199699401855, -11.100199699401855, -11.100199699401855, -11.100199699401855, -9.999999747378752e-05, -11.253600120544434, -11.253600120544434, -11.253600120544434, -11.253600120544434, -11.253600120544434, -11.253600120544434, -11.253600120544434, -11.253600120544434, -11.253600120544434, -11.253600120544434, -0.0003000000142492354, -10.57129955291748, -10.57129955291748, -10.57129955291748, -10.57129955291748, -10.57129955291748, -10.57129955291748, -10.57129955291748, -10.57129955291748, -10.57129955291748, -10.57129955291748, -0.41359999775886536, -1.083799958229065, -9.98069953918457, -9.98069953918457, -9.98069953918457, -9.98069953918457, -9.98069953918457, -9.98069953918457, -9.98069953918457, -9.98069953918457, -9.98069953918457, -0.0008999999845400453, -9.29170036315918, -9.29170036315918, -9.29170036315918, -9.29170036315918, -9.29170036315918, -9.29170036315918, -9.29170036315918, -9.29170036315918, -9.29170036315918, -9.29170036315918, -0.005499999970197678, -7.513000011444092, -7.513000011444092, -7.513000011444092, -7.513000011444092, -7.513000011444092, -7.513000011444092, -7.513000011444092, -7.513000011444092, -7.513000011444092, -7.513000011444092], \"loglift\": [11.0, 10.0, 9.0, 8.0, 7.0, 6.0, 5.0, 4.0, 3.0, 2.0, 1.0, 1.1805, -9.131, -9.1385, -9.3092, -9.5648, -9.6373, -9.6962, -9.7365, -10.1182, -10.2254, -11.2233, 1.443, -8.8198, -8.8273, -8.998, -9.2536, -9.3261, -9.385, -9.4253, -9.807, -9.9142, -11.1746, 1.9778, 1.9776, -8.4317, -8.4391, -8.6099, -8.8655, -8.938, -9.0371, -9.4188, -10.524, -10.7865, 2.3714, 2.3714, -7.9379, -7.9454, -8.1161, -8.5031, -8.5434, -8.9251, -9.0323, -10.0302, -10.2928, 0.7491, 0.4879, -7.5649, -7.5723, -7.7431, -7.9987, -8.0712, -8.1301, -8.1703, -8.552, -8.6593, 2.5481, -7.7182, -7.7257, -7.8964, -8.152, -8.2245, -8.2834, -8.3237, -8.8126, -9.8105, -10.073, 2.9296, -7.0359, -7.0434, -7.2141, -7.4697, -7.5422, -7.6011, -8.0231, -8.1303, -9.1282, -9.3908, 3.1218, 0.0967, -6.4528, -6.6235, -6.8791, -6.9516, -7.0105, -7.0508, -7.4325, -7.5397, -8.5376, 3.3562, -5.7564, -5.7638, -6.1902, -6.2627, -6.3216, -6.3618, -6.7435, -6.8508, -7.8486, -8.1112, 3.5224, -3.9776, -4.1558, -4.4114, -4.4839, -4.5428, -4.5831, -4.9648, -5.072, -6.0699, -6.3324]}, \"token.table\": {\"Topic\": [8, 6, 4, 4, 9, 3, 7, 2, 5, 1, 5, 8, 10, 3], \"Freq\": [0.9995389137490979, 0.9995019261880497, 1.0000113846768346, 0.9988699944016931, 0.9997235005351577, 0.999254290815129, 0.999289106797023, 0.8069556443595043, 0.1927058255186876, 0.8030087968408924, 0.14852788008393594, 0.04855104897367369, 0.9987937981206357, 1.0001822888903003], \"Term\": [\"biontech\", \"borisjohnson\", \"covax\", \"covishield\", \"janssen\", \"johnson\", \"johnsonandjohnson\", \"moderna\", \"moderna\", \"pfizer\", \"pfizer\", \"pfizer\", \"teammoderna\", \"vax\"]}, \"R\": 11, \"lambda.step\": 0.01, \"plot.opts\": {\"xlab\": \"PC1\", \"ylab\": \"PC2\"}, \"topic.order\": [9, 6, 10, 2, 1, 7, 4, 3, 5, 8]};\n",
       "\n",
       "function LDAvis_load_lib(url, callback){\n",
       "  var s = document.createElement('script');\n",
       "  s.src = url;\n",
       "  s.async = true;\n",
       "  s.onreadystatechange = s.onload = callback;\n",
       "  s.onerror = function(){console.warn(\"failed to load library \" + url);};\n",
       "  document.getElementsByTagName(\"head\")[0].appendChild(s);\n",
       "}\n",
       "\n",
       "if(typeof(LDAvis) !== \"undefined\"){\n",
       "   // already loaded: just create the visualization\n",
       "   !function(LDAvis){\n",
       "       new LDAvis(\"#\" + \"ldavis_el98127969038258403421977718\", ldavis_el98127969038258403421977718_data);\n",
       "   }(LDAvis);\n",
       "}else if(typeof define === \"function\" && define.amd){\n",
       "   // require.js is available: use it to load d3/LDAvis\n",
       "   require.config({paths: {d3: \"https://cdnjs.cloudflare.com/ajax/libs/d3/3.5.5/d3.min\"}});\n",
       "   require([\"d3\"], function(d3){\n",
       "      window.d3 = d3;\n",
       "      LDAvis_load_lib(\"https://cdn.rawgit.com/bmabey/pyLDAvis/files/ldavis.v1.0.0.js\", function(){\n",
       "        new LDAvis(\"#\" + \"ldavis_el98127969038258403421977718\", ldavis_el98127969038258403421977718_data);\n",
       "      });\n",
       "    });\n",
       "}else{\n",
       "    // require.js not available: dynamically load d3 & LDAvis\n",
       "    LDAvis_load_lib(\"https://cdnjs.cloudflare.com/ajax/libs/d3/3.5.5/d3.min.js\", function(){\n",
       "         LDAvis_load_lib(\"https://cdn.rawgit.com/bmabey/pyLDAvis/files/ldavis.v1.0.0.js\", function(){\n",
       "                 new LDAvis(\"#\" + \"ldavis_el98127969038258403421977718\", ldavis_el98127969038258403421977718_data);\n",
       "            })\n",
       "         });\n",
       "}\n",
       "</script>"
      ],
      "text/plain": [
       "PreparedData(topic_coordinates=              x         y  topics  cluster       Freq\n",
       "topic                                                \n",
       "8     -0.060327 -0.218575       1        1  24.658372\n",
       "5      0.281457 -0.356812       2        1  19.062806\n",
       "9     -0.485551 -0.113917       3        1  13.832476\n",
       "1     -0.184953  0.411669       4        1   9.329398\n",
       "0      0.094499 -0.312887       5        1   9.118157\n",
       "6      0.484447  0.004475       6        1   7.820478\n",
       "3      0.105647  0.445497       7        1   5.338918\n",
       "2     -0.174148 -0.355225       8        1   4.403807\n",
       "4     -0.406600  0.213938       9        1   3.484079\n",
       "7      0.345527  0.281837      10        1   2.951508, topic_info=                 Term         Freq        Total Category  logprob  loglift\n",
       "0              pfizer  3130.000000  3130.000000  Default   11.000  11.0000\n",
       "1             moderna  2407.000000  2407.000000  Default   10.000  10.0000\n",
       "5        borisjohnson   797.000000   797.000000  Default    9.000   9.0000\n",
       "3             johnson   887.000000   887.000000  Default    8.000   8.0000\n",
       "6   johnsonandjohnson   544.000000   544.000000  Default    7.000   7.0000\n",
       "..                ...          ...          ...      ...      ...      ...\n",
       "6   johnsonandjohnson     0.164264   544.387001  Topic10   -7.513  -4.5831\n",
       "5        borisjohnson     0.164264   797.397163  Topic10   -7.513  -4.9648\n",
       "3             johnson     0.164264   887.661938  Topic10   -7.513  -5.0720\n",
       "1             moderna     0.164264  2407.815118  Topic10   -7.513  -6.0699\n",
       "0              pfizer     0.164264  3130.725354  Topic10   -7.513  -6.3324\n",
       "\n",
       "[121 rows x 6 columns], token_table=      Topic      Freq               Term\n",
       "term                                    \n",
       "7         8  0.999539           biontech\n",
       "5         6  0.999502       borisjohnson\n",
       "9         4  1.000011              covax\n",
       "4         4  0.998870         covishield\n",
       "10        9  0.999724            janssen\n",
       "3         3  0.999254            johnson\n",
       "6         7  0.999289  johnsonandjohnson\n",
       "1         2  0.806956            moderna\n",
       "1         5  0.192706            moderna\n",
       "0         1  0.803009             pfizer\n",
       "0         5  0.148528             pfizer\n",
       "0         8  0.048551             pfizer\n",
       "8        10  0.998794        teammoderna\n",
       "2         3  1.000182                vax, R=11, lambda_step=0.01, plot_opts={'xlab': 'PC1', 'ylab': 'PC2'}, topic_order=[9, 6, 10, 2, 1, 7, 4, 3, 5, 8])"
      ]
     },
     "execution_count": 22,
     "metadata": {},
     "output_type": "execute_result"
    }
   ],
   "source": [
    "import pyLDAvis.gensim\n",
    "warnings.filterwarnings('ignore')\n",
    "\n",
    "pyLDAvis.enable_notebook()\n",
    "vis = pyLDAvis.gensim.prepare(best_model, corpus, dictionary=dictionary_LDA, mds='mmds')\n",
    "vis"
   ]
  },
  {
   "cell_type": "markdown",
   "metadata": {},
   "source": [
    "# All Topics Probabilities in each Document"
   ]
  },
  {
   "cell_type": "code",
   "execution_count": 23,
   "metadata": {},
   "outputs": [],
   "source": [
    "# convert all probability distribution into dataframe (we are doing this to also keep topics having 0 probability)\n",
    "# In other case topics having 0 probability will be misleading\n",
    "def topics_document_to_dataframe(topics_document, num_topics):\n",
    "    res = pd.DataFrame(columns=range(num_topics))\n",
    "    for topic_weight in topics_document:\n",
    "        res.loc[0, topic_weight[0]] = topic_weight[1]\n",
    "    return res\n"
   ]
  },
  {
   "cell_type": "code",
   "execution_count": 24,
   "metadata": {},
   "outputs": [],
   "source": [
    "# find topic probabilities that model assign to all documents\n",
    "topics = [best_model[corpus[i]] for i in range(len(text_data))]"
   ]
  },
  {
   "cell_type": "code",
   "execution_count": 25,
   "metadata": {},
   "outputs": [],
   "source": [
    "# make dataframe of all document probability distribution\n",
    "document_topic = \\\n",
    "pd.concat([topics_document_to_dataframe(topics_document, num_topics=best_topic_number) for topics_document in topics]) \\\n",
    "  .reset_index(drop=True).fillna(0)"
   ]
  },
  {
   "cell_type": "code",
   "execution_count": 26,
   "metadata": {},
   "outputs": [
    {
     "data": {
      "text/html": [
       "<div>\n",
       "<style scoped>\n",
       "    .dataframe tbody tr th:only-of-type {\n",
       "        vertical-align: middle;\n",
       "    }\n",
       "\n",
       "    .dataframe tbody tr th {\n",
       "        vertical-align: top;\n",
       "    }\n",
       "\n",
       "    .dataframe thead th {\n",
       "        text-align: right;\n",
       "    }\n",
       "</style>\n",
       "<table border=\"1\" class=\"dataframe\">\n",
       "  <thead>\n",
       "    <tr style=\"text-align: right;\">\n",
       "      <th></th>\n",
       "      <th>0</th>\n",
       "      <th>1</th>\n",
       "      <th>2</th>\n",
       "      <th>3</th>\n",
       "      <th>4</th>\n",
       "      <th>5</th>\n",
       "      <th>6</th>\n",
       "      <th>7</th>\n",
       "      <th>8</th>\n",
       "      <th>9</th>\n",
       "    </tr>\n",
       "  </thead>\n",
       "  <tbody>\n",
       "    <tr>\n",
       "      <th>0</th>\n",
       "      <td>0.100000</td>\n",
       "      <td>0.100000</td>\n",
       "      <td>0.100000</td>\n",
       "      <td>0.100000</td>\n",
       "      <td>0.100000</td>\n",
       "      <td>0.100000</td>\n",
       "      <td>0.100000</td>\n",
       "      <td>0.100000</td>\n",
       "      <td>0.100000</td>\n",
       "      <td>0.100000</td>\n",
       "    </tr>\n",
       "    <tr>\n",
       "      <th>1</th>\n",
       "      <td>0.100000</td>\n",
       "      <td>0.100000</td>\n",
       "      <td>0.100000</td>\n",
       "      <td>0.100000</td>\n",
       "      <td>0.100000</td>\n",
       "      <td>0.100000</td>\n",
       "      <td>0.100000</td>\n",
       "      <td>0.100000</td>\n",
       "      <td>0.100000</td>\n",
       "      <td>0.100000</td>\n",
       "    </tr>\n",
       "    <tr>\n",
       "      <th>2</th>\n",
       "      <td>0.033333</td>\n",
       "      <td>0.033333</td>\n",
       "      <td>0.033333</td>\n",
       "      <td>0.033333</td>\n",
       "      <td>0.033333</td>\n",
       "      <td>0.033333</td>\n",
       "      <td>0.033333</td>\n",
       "      <td>0.033333</td>\n",
       "      <td>0.700000</td>\n",
       "      <td>0.033333</td>\n",
       "    </tr>\n",
       "    <tr>\n",
       "      <th>3</th>\n",
       "      <td>0.100000</td>\n",
       "      <td>0.100000</td>\n",
       "      <td>0.100000</td>\n",
       "      <td>0.100000</td>\n",
       "      <td>0.100000</td>\n",
       "      <td>0.100000</td>\n",
       "      <td>0.100000</td>\n",
       "      <td>0.100000</td>\n",
       "      <td>0.100000</td>\n",
       "      <td>0.100000</td>\n",
       "    </tr>\n",
       "    <tr>\n",
       "      <th>4</th>\n",
       "      <td>0.033333</td>\n",
       "      <td>0.033333</td>\n",
       "      <td>0.033333</td>\n",
       "      <td>0.033333</td>\n",
       "      <td>0.033333</td>\n",
       "      <td>0.033333</td>\n",
       "      <td>0.033333</td>\n",
       "      <td>0.033333</td>\n",
       "      <td>0.700000</td>\n",
       "      <td>0.033333</td>\n",
       "    </tr>\n",
       "    <tr>\n",
       "      <th>5</th>\n",
       "      <td>0.100000</td>\n",
       "      <td>0.100000</td>\n",
       "      <td>0.100000</td>\n",
       "      <td>0.100000</td>\n",
       "      <td>0.100000</td>\n",
       "      <td>0.100000</td>\n",
       "      <td>0.100000</td>\n",
       "      <td>0.100000</td>\n",
       "      <td>0.100000</td>\n",
       "      <td>0.100000</td>\n",
       "    </tr>\n",
       "    <tr>\n",
       "      <th>6</th>\n",
       "      <td>0.033333</td>\n",
       "      <td>0.033333</td>\n",
       "      <td>0.033333</td>\n",
       "      <td>0.033333</td>\n",
       "      <td>0.033333</td>\n",
       "      <td>0.700000</td>\n",
       "      <td>0.033333</td>\n",
       "      <td>0.033333</td>\n",
       "      <td>0.033333</td>\n",
       "      <td>0.033333</td>\n",
       "    </tr>\n",
       "    <tr>\n",
       "      <th>7</th>\n",
       "      <td>0.033333</td>\n",
       "      <td>0.033333</td>\n",
       "      <td>0.033333</td>\n",
       "      <td>0.033333</td>\n",
       "      <td>0.033333</td>\n",
       "      <td>0.700000</td>\n",
       "      <td>0.033333</td>\n",
       "      <td>0.033333</td>\n",
       "      <td>0.033333</td>\n",
       "      <td>0.033333</td>\n",
       "    </tr>\n",
       "    <tr>\n",
       "      <th>8</th>\n",
       "      <td>0.033333</td>\n",
       "      <td>0.033333</td>\n",
       "      <td>0.033333</td>\n",
       "      <td>0.033333</td>\n",
       "      <td>0.033333</td>\n",
       "      <td>0.033333</td>\n",
       "      <td>0.033333</td>\n",
       "      <td>0.033333</td>\n",
       "      <td>0.700000</td>\n",
       "      <td>0.033333</td>\n",
       "    </tr>\n",
       "    <tr>\n",
       "      <th>9</th>\n",
       "      <td>0.020000</td>\n",
       "      <td>0.020000</td>\n",
       "      <td>0.020000</td>\n",
       "      <td>0.020000</td>\n",
       "      <td>0.020000</td>\n",
       "      <td>0.820000</td>\n",
       "      <td>0.020000</td>\n",
       "      <td>0.020000</td>\n",
       "      <td>0.020000</td>\n",
       "      <td>0.020000</td>\n",
       "    </tr>\n",
       "  </tbody>\n",
       "</table>\n",
       "</div>"
      ],
      "text/plain": [
       "          0         1         2         3         4         5         6  \\\n",
       "0  0.100000  0.100000  0.100000  0.100000  0.100000  0.100000  0.100000   \n",
       "1  0.100000  0.100000  0.100000  0.100000  0.100000  0.100000  0.100000   \n",
       "2  0.033333  0.033333  0.033333  0.033333  0.033333  0.033333  0.033333   \n",
       "3  0.100000  0.100000  0.100000  0.100000  0.100000  0.100000  0.100000   \n",
       "4  0.033333  0.033333  0.033333  0.033333  0.033333  0.033333  0.033333   \n",
       "5  0.100000  0.100000  0.100000  0.100000  0.100000  0.100000  0.100000   \n",
       "6  0.033333  0.033333  0.033333  0.033333  0.033333  0.700000  0.033333   \n",
       "7  0.033333  0.033333  0.033333  0.033333  0.033333  0.700000  0.033333   \n",
       "8  0.033333  0.033333  0.033333  0.033333  0.033333  0.033333  0.033333   \n",
       "9  0.020000  0.020000  0.020000  0.020000  0.020000  0.820000  0.020000   \n",
       "\n",
       "          7         8         9  \n",
       "0  0.100000  0.100000  0.100000  \n",
       "1  0.100000  0.100000  0.100000  \n",
       "2  0.033333  0.700000  0.033333  \n",
       "3  0.100000  0.100000  0.100000  \n",
       "4  0.033333  0.700000  0.033333  \n",
       "5  0.100000  0.100000  0.100000  \n",
       "6  0.033333  0.033333  0.033333  \n",
       "7  0.033333  0.033333  0.033333  \n",
       "8  0.033333  0.700000  0.033333  \n",
       "9  0.020000  0.020000  0.020000  "
      ]
     },
     "execution_count": 26,
     "metadata": {},
     "output_type": "execute_result"
    }
   ],
   "source": [
    "document_topic.head(10)"
   ]
  },
  {
   "cell_type": "markdown",
   "metadata": {},
   "source": [
    "# Calculate and Find Keywords in each Document\n"
   ]
  },
  {
   "cell_type": "code",
   "execution_count": 27,
   "metadata": {},
   "outputs": [
    {
     "data": {
      "text/html": [
       "<div>\n",
       "<style scoped>\n",
       "    .dataframe tbody tr th:only-of-type {\n",
       "        vertical-align: middle;\n",
       "    }\n",
       "\n",
       "    .dataframe tbody tr th {\n",
       "        vertical-align: top;\n",
       "    }\n",
       "\n",
       "    .dataframe thead th {\n",
       "        text-align: right;\n",
       "    }\n",
       "</style>\n",
       "<table border=\"1\" class=\"dataframe\">\n",
       "  <thead>\n",
       "    <tr style=\"text-align: right;\">\n",
       "      <th></th>\n",
       "      <th>Document_No</th>\n",
       "      <th>Dominant_Topic</th>\n",
       "      <th>Topic_Perc_Contrib</th>\n",
       "      <th>Keywords</th>\n",
       "      <th>Text</th>\n",
       "    </tr>\n",
       "  </thead>\n",
       "  <tbody>\n",
       "    <tr>\n",
       "      <th>0</th>\n",
       "      <td>0</td>\n",
       "      <td>0.0</td>\n",
       "      <td>0.10</td>\n",
       "      <td>pfizer, moderna, vax, johnson, covishield, bor...</td>\n",
       "      <td>[astrazeneca]</td>\n",
       "    </tr>\n",
       "    <tr>\n",
       "      <th>1</th>\n",
       "      <td>1</td>\n",
       "      <td>0.0</td>\n",
       "      <td>0.10</td>\n",
       "      <td>pfizer, moderna, vax, johnson, covishield, bor...</td>\n",
       "      <td>[astrazeneca]</td>\n",
       "    </tr>\n",
       "    <tr>\n",
       "      <th>2</th>\n",
       "      <td>2</td>\n",
       "      <td>8.0</td>\n",
       "      <td>0.70</td>\n",
       "      <td>pfizer, moderna, vax, johnson, covishield, bor...</td>\n",
       "      <td>[pfizer]</td>\n",
       "    </tr>\n",
       "    <tr>\n",
       "      <th>3</th>\n",
       "      <td>3</td>\n",
       "      <td>0.0</td>\n",
       "      <td>0.10</td>\n",
       "      <td>pfizer, moderna, vax, johnson, covishield, bor...</td>\n",
       "      <td>[astrazeneca]</td>\n",
       "    </tr>\n",
       "    <tr>\n",
       "      <th>4</th>\n",
       "      <td>4</td>\n",
       "      <td>8.0</td>\n",
       "      <td>0.70</td>\n",
       "      <td>pfizer, moderna, vax, johnson, covishield, bor...</td>\n",
       "      <td>[pfizer]</td>\n",
       "    </tr>\n",
       "    <tr>\n",
       "      <th>5</th>\n",
       "      <td>5</td>\n",
       "      <td>0.0</td>\n",
       "      <td>0.10</td>\n",
       "      <td>pfizer, moderna, vax, johnson, covishield, bor...</td>\n",
       "      <td>[astrazeneca]</td>\n",
       "    </tr>\n",
       "    <tr>\n",
       "      <th>6</th>\n",
       "      <td>6</td>\n",
       "      <td>5.0</td>\n",
       "      <td>0.70</td>\n",
       "      <td>moderna, pfizer, vax, johnson, covishield, bor...</td>\n",
       "      <td>[moderna]</td>\n",
       "    </tr>\n",
       "    <tr>\n",
       "      <th>7</th>\n",
       "      <td>7</td>\n",
       "      <td>5.0</td>\n",
       "      <td>0.70</td>\n",
       "      <td>moderna, pfizer, vax, johnson, covishield, bor...</td>\n",
       "      <td>[moderna]</td>\n",
       "    </tr>\n",
       "    <tr>\n",
       "      <th>8</th>\n",
       "      <td>8</td>\n",
       "      <td>8.0</td>\n",
       "      <td>0.70</td>\n",
       "      <td>pfizer, moderna, vax, johnson, covishield, bor...</td>\n",
       "      <td>[pfizer]</td>\n",
       "    </tr>\n",
       "    <tr>\n",
       "      <th>9</th>\n",
       "      <td>9</td>\n",
       "      <td>5.0</td>\n",
       "      <td>0.82</td>\n",
       "      <td>moderna, pfizer, vax, johnson, covishield, bor...</td>\n",
       "      <td>[moderna, moderna]</td>\n",
       "    </tr>\n",
       "  </tbody>\n",
       "</table>\n",
       "</div>"
      ],
      "text/plain": [
       "   Document_No  Dominant_Topic  Topic_Perc_Contrib  \\\n",
       "0            0             0.0                0.10   \n",
       "1            1             0.0                0.10   \n",
       "2            2             8.0                0.70   \n",
       "3            3             0.0                0.10   \n",
       "4            4             8.0                0.70   \n",
       "5            5             0.0                0.10   \n",
       "6            6             5.0                0.70   \n",
       "7            7             5.0                0.70   \n",
       "8            8             8.0                0.70   \n",
       "9            9             5.0                0.82   \n",
       "\n",
       "                                            Keywords                Text  \n",
       "0  pfizer, moderna, vax, johnson, covishield, bor...       [astrazeneca]  \n",
       "1  pfizer, moderna, vax, johnson, covishield, bor...       [astrazeneca]  \n",
       "2  pfizer, moderna, vax, johnson, covishield, bor...            [pfizer]  \n",
       "3  pfizer, moderna, vax, johnson, covishield, bor...       [astrazeneca]  \n",
       "4  pfizer, moderna, vax, johnson, covishield, bor...            [pfizer]  \n",
       "5  pfizer, moderna, vax, johnson, covishield, bor...       [astrazeneca]  \n",
       "6  moderna, pfizer, vax, johnson, covishield, bor...           [moderna]  \n",
       "7  moderna, pfizer, vax, johnson, covishield, bor...           [moderna]  \n",
       "8  pfizer, moderna, vax, johnson, covishield, bor...            [pfizer]  \n",
       "9  moderna, pfizer, vax, johnson, covishield, bor...  [moderna, moderna]  "
      ]
     },
     "execution_count": 27,
     "metadata": {},
     "output_type": "execute_result"
    }
   ],
   "source": [
    "def format_topics_sentences(ldamodel=best_model, corpus=corpus, texts=text_data):\n",
    "    # Init output\n",
    "    sent_topics_df = pd.DataFrame()\n",
    "\n",
    "    # Get main topic in each document\n",
    "    for i, row in enumerate(ldamodel[corpus]):\n",
    "        row = sorted(row, key=lambda x: (x[1]), reverse=True)\n",
    "        # Get the Dominant topic, Perc Contribution and Keywords for each document\n",
    "        for j, (topic_num, prop_topic) in enumerate(row):\n",
    "            if j == 0:  # => dominant topic\n",
    "                wp = ldamodel.show_topic(topic_num)\n",
    "                topic_keywords = \", \".join([word for word, prop in wp])\n",
    "                sent_topics_df = sent_topics_df.append(pd.Series([int(topic_num), round(prop_topic,4), topic_keywords]), ignore_index=True)\n",
    "            else:\n",
    "                break\n",
    "    sent_topics_df.columns = ['Dominant_Topic', 'Per_Contribution', 'Topic_Keywords']\n",
    "\n",
    "    # Add original text to the end of the output\n",
    "    contents = pd.Series(texts)\n",
    "    sent_topics_df = pd.concat([sent_topics_df, contents], axis=1)\n",
    "    return(sent_topics_df)\n",
    "\n",
    "\n",
    "df_topic_sents_keywords = format_topics_sentences(ldamodel=best_model, corpus=corpus, texts=text_data)\n",
    "\n",
    "# Format\n",
    "df_dominant_topic = df_topic_sents_keywords.reset_index()\n",
    "df_dominant_topic.columns = ['Document_No', 'Dominant_Topic', 'Topic_Perc_Contrib', 'Keywords', 'Text']\n",
    "\n",
    "# Show\n",
    "df_dominant_topic.head(10)\n"
   ]
  },
  {
   "cell_type": "code",
   "execution_count": null,
   "metadata": {},
   "outputs": [],
   "source": []
  }
 ],
 "metadata": {
  "kernelspec": {
   "display_name": "Python 3",
   "language": "python",
   "name": "python3"
  },
  "language_info": {
   "codemirror_mode": {
    "name": "ipython",
    "version": 3
   },
   "file_extension": ".py",
   "mimetype": "text/x-python",
   "name": "python",
   "nbconvert_exporter": "python",
   "pygments_lexer": "ipython3",
   "version": "3.7.3"
  }
 },
 "nbformat": 4,
 "nbformat_minor": 4
}
